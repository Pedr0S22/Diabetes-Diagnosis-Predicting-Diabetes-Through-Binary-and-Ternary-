{
 "cells": [
  {
   "cell_type": "markdown",
   "metadata": {},
   "source": [
    "# Importing Packages and Inicial Data Preview"
   ]
  },
  {
   "cell_type": "code",
   "execution_count": 10,
   "metadata": {},
   "outputs": [],
   "source": [
    "# Importing packages\n",
    "\n",
    "import pandas as pd\n",
    "import numpy as np\n",
    "\n",
    "import matplotlib.pyplot as plt\n",
    "\n",
    "from pprint import pprint\n",
    "\n",
    "from imblearn.under_sampling import RandomUnderSampler, TomekLinks\n",
    "from imblearn.over_sampling import SMOTE\n",
    "from imblearn.combine import SMOTEENN\n",
    "from imblearn.pipeline import Pipeline\n",
    "from collections import Counter\n",
    "\n",
    "from sklearn.feature_selection import SelectKBest, chi2\n",
    "from sklearn.preprocessing import StandardScaler, MinMaxScaler\n",
    "from sklearn.model_selection import train_test_split, cross_val_predict\n",
    "from sklearn.metrics import classification_report, confusion_matrix, make_scorer, accuracy_score, precision_score, recall_score, ConfusionMatrixDisplay\n",
    "from sklearn.model_selection import train_test_split\n",
    "from sklearn.utils.class_weight import compute_class_weight\n",
    "from sklearn.decomposition import PCA\n",
    "\n",
    "from sklearn.model_selection import StratifiedKFold, cross_validate\n",
    "from sklearn.ensemble import RandomForestClassifier\n",
    "from sklearn.linear_model import LogisticRegression\n",
    "from sklearn.svm import SVC, LinearSVC\n",
    "\n",
    "from sklearn.kernel_approximation import Nystroem\n",
    "from sklearn.pipeline import make_pipeline\n",
    "\n",
    "import tensorflow as tf\n",
    "from tensorflow.keras.models import Sequential\n",
    "from tensorflow.keras.layers import Dense, Dropout\n",
    "from tensorflow.keras.optimizers import Adam\n",
    "from keras.callbacks import EarlyStopping\n",
    "from scikeras.wrappers import KerasClassifier\n",
    "\n",
    "import umap.umap_ as umap\n",
    "from functools import partial\n",
    "\n",
    "import optuna\n",
    "from optuna.visualization import plot_pareto_front\n",
    "import plotly"
   ]
  },
  {
   "cell_type": "code",
   "execution_count": 4,
   "metadata": {},
   "outputs": [
    {
     "name": "stdout",
     "output_type": "stream",
     "text": [
      "scikit-learn: 1.6.1\n",
      "optuna: 4.3.0\n",
      "scikeras: 0.13.0\n",
      "tensorflow: 2.19.0\n",
      "imblearn: 0.13.0\n"
     ]
    }
   ],
   "source": [
    "import sklearn\n",
    "import optuna\n",
    "import scikeras\n",
    "import tensorflow as tf\n",
    "import imblearn\n",
    "\n",
    "print(\"scikit-learn:\", sklearn.__version__)\n",
    "print(\"optuna:\", optuna.__version__)\n",
    "print(\"scikeras:\", scikeras.__version__)\n",
    "print(\"tensorflow:\", tf.__version__)\n",
    "print(\"imblearn:\", imblearn.__version__)"
   ]
  },
  {
   "cell_type": "code",
   "execution_count": 5,
   "metadata": {},
   "outputs": [],
   "source": [
    "# loading dataset and handle a subset of it\n",
    "path_2 = \"datasets/diabetes_binary_health_indicators_BRFSS2015.csv\"\n",
    "\n",
    "df = pd.read_csv(path_2)"
   ]
  },
  {
   "cell_type": "markdown",
   "metadata": {},
   "source": [
    "# Models Implementation"
   ]
  },
  {
   "cell_type": "code",
   "execution_count": 6,
   "metadata": {},
   "outputs": [
    {
     "name": "stdout",
     "output_type": "stream",
     "text": [
      "Before balancing: Counter({0.0: 218334, 1.0: 35346})\n",
      "After undersampling: Counter({0.0: 35000, 1.0: 28277})\n"
     ]
    }
   ],
   "source": [
    "# Step 1: Split features and target\n",
    "X = df.drop(columns=['Diabetes_binary'])\n",
    "y = df['Diabetes_binary']\n",
    "print(\"Before balancing:\", Counter(y))\n",
    "\n",
    "# Step 2: Split into train and test sets\n",
    "X_train, X_test, y_train, y_test = train_test_split(\n",
    "    X, y, test_size=0.2, stratify=y, random_state=42\n",
    ")\n",
    "\n",
    "# Step 3: Apply undersampling\n",
    "undersample = RandomUnderSampler(sampling_strategy={0.0: 35000}, random_state=17)\n",
    "X_bal, y_bal = undersample.fit_resample(X_train, y_train)\n",
    "print(\"After undersampling:\", Counter(y_bal))\n",
    "\n",
    "# Standardize features\n",
    "scaler = StandardScaler()\n",
    "X_train = scaler.fit_transform(X_train)\n",
    "X_test = scaler.transform(X_test)\n",
    "\n",
    "pca = PCA(n_components=5) \n",
    "\n",
    "X_train = pca.fit_transform(X_train)\n",
    "X_test = pca.transform(X_test)"
   ]
  },
  {
   "cell_type": "markdown",
   "metadata": {},
   "source": [
    "## Testing Hyperparameter Tuning With Optuna Optimizations"
   ]
  },
  {
   "cell_type": "markdown",
   "metadata": {},
   "source": [
    "### SVM Model"
   ]
  },
  {
   "cell_type": "code",
   "execution_count": null,
   "metadata": {},
   "outputs": [
    {
     "name": "stderr",
     "output_type": "stream",
     "text": [
      "[I 2025-05-16 02:12:06,588] A new study created in memory with name: SVC\n",
      "C:\\Users\\PC\\AppData\\Local\\Temp\\ipykernel_23812\\1837004999.py:5: FutureWarning: suggest_loguniform has been deprecated in v3.0.0. This feature will be removed in v6.0.0. See https://github.com/optuna/optuna/releases/tag/v3.0.0. Use suggest_float(..., log=True) instead.\n",
      "  C = trial.suggest_loguniform(\"C\", 1e-3, 100)\n",
      "C:\\Users\\PC\\AppData\\Local\\Temp\\ipykernel_23812\\1837004999.py:6: FutureWarning: suggest_loguniform has been deprecated in v3.0.0. This feature will be removed in v6.0.0. See https://github.com/optuna/optuna/releases/tag/v3.0.0. Use suggest_float(..., log=True) instead.\n",
      "  gamma = trial.suggest_loguniform(\"gamma\", 1e-4, 1e-1)\n",
      "[I 2025-05-16 02:15:40,987] Trial 0 finished with values: [0.7001882149107228, 0.6199978994232449, 0.7355297319278328] and parameters: {'C': 13.41805372370113, 'gamma': 0.005197743336103416, 'n_components': 852}.\n",
      "C:\\Users\\PC\\AppData\\Local\\Temp\\ipykernel_23812\\1837004999.py:5: FutureWarning: suggest_loguniform has been deprecated in v3.0.0. This feature will be removed in v6.0.0. See https://github.com/optuna/optuna/releases/tag/v3.0.0. Use suggest_float(..., log=True) instead.\n",
      "  C = trial.suggest_loguniform(\"C\", 1e-3, 100)\n",
      "C:\\Users\\PC\\AppData\\Local\\Temp\\ipykernel_23812\\1837004999.py:6: FutureWarning: suggest_loguniform has been deprecated in v3.0.0. This feature will be removed in v6.0.0. See https://github.com/optuna/optuna/releases/tag/v3.0.0. Use suggest_float(..., log=True) instead.\n",
      "  gamma = trial.suggest_loguniform(\"gamma\", 1e-4, 1e-1)\n",
      "[I 2025-05-16 02:16:47,205] Trial 1 finished with values: [0.7100480791635179, 0.6208792922839985, 0.7333440615850118] and parameters: {'C': 0.10485807095156621, 'gamma': 0.004503234900695931, 'n_components': 652}.\n",
      "C:\\Users\\PC\\AppData\\Local\\Temp\\ipykernel_23812\\1837004999.py:5: FutureWarning: suggest_loguniform has been deprecated in v3.0.0. This feature will be removed in v6.0.0. See https://github.com/optuna/optuna/releases/tag/v3.0.0. Use suggest_float(..., log=True) instead.\n",
      "  C = trial.suggest_loguniform(\"C\", 1e-3, 100)\n",
      "C:\\Users\\PC\\AppData\\Local\\Temp\\ipykernel_23812\\1837004999.py:6: FutureWarning: suggest_loguniform has been deprecated in v3.0.0. This feature will be removed in v6.0.0. See https://github.com/optuna/optuna/releases/tag/v3.0.0. Use suggest_float(..., log=True) instead.\n",
      "  gamma = trial.suggest_loguniform(\"gamma\", 1e-4, 1e-1)\n",
      "[I 2025-05-16 02:17:26,399] Trial 2 finished with values: [0.7351239670485005, 0.6227756650704975, 0.7238298103545742] and parameters: {'C': 0.003577803754690045, 'gamma': 0.0009837451954632895, 'n_components': 694}.\n",
      "C:\\Users\\PC\\AppData\\Local\\Temp\\ipykernel_23812\\1837004999.py:5: FutureWarning: suggest_loguniform has been deprecated in v3.0.0. This feature will be removed in v6.0.0. See https://github.com/optuna/optuna/releases/tag/v3.0.0. Use suggest_float(..., log=True) instead.\n",
      "  C = trial.suggest_loguniform(\"C\", 1e-3, 100)\n",
      "C:\\Users\\PC\\AppData\\Local\\Temp\\ipykernel_23812\\1837004999.py:6: FutureWarning: suggest_loguniform has been deprecated in v3.0.0. This feature will be removed in v6.0.0. See https://github.com/optuna/optuna/releases/tag/v3.0.0. Use suggest_float(..., log=True) instead.\n",
      "  gamma = trial.suggest_loguniform(\"gamma\", 1e-4, 1e-1)\n",
      "[I 2025-05-16 02:17:43,165] Trial 3 finished with values: [0.7400169452918518, 0.6237037325723807, 0.7227155576261659] and parameters: {'C': 0.0022349107112217994, 'gamma': 0.0001809469736933914, 'n_components': 353}.\n",
      "C:\\Users\\PC\\AppData\\Local\\Temp\\ipykernel_23812\\1837004999.py:5: FutureWarning: suggest_loguniform has been deprecated in v3.0.0. This feature will be removed in v6.0.0. See https://github.com/optuna/optuna/releases/tag/v3.0.0. Use suggest_float(..., log=True) instead.\n",
      "  C = trial.suggest_loguniform(\"C\", 1e-3, 100)\n",
      "C:\\Users\\PC\\AppData\\Local\\Temp\\ipykernel_23812\\1837004999.py:6: FutureWarning: suggest_loguniform has been deprecated in v3.0.0. This feature will be removed in v6.0.0. See https://github.com/optuna/optuna/releases/tag/v3.0.0. Use suggest_float(..., log=True) instead.\n",
      "  gamma = trial.suggest_loguniform(\"gamma\", 1e-4, 1e-1)\n",
      "[I 2025-05-16 02:18:26,867] Trial 4 finished with values: [0.7317289421594604, 0.6225568395380054, 0.7255031313436413] and parameters: {'C': 0.008266655684307464, 'gamma': 0.002044489795819017, 'n_components': 710}.\n",
      "C:\\Users\\PC\\AppData\\Local\\Temp\\ipykernel_23812\\1837004999.py:5: FutureWarning: suggest_loguniform has been deprecated in v3.0.0. This feature will be removed in v6.0.0. See https://github.com/optuna/optuna/releases/tag/v3.0.0. Use suggest_float(..., log=True) instead.\n",
      "  C = trial.suggest_loguniform(\"C\", 1e-3, 100)\n",
      "C:\\Users\\PC\\AppData\\Local\\Temp\\ipykernel_23812\\1837004999.py:6: FutureWarning: suggest_loguniform has been deprecated in v3.0.0. This feature will be removed in v6.0.0. See https://github.com/optuna/optuna/releases/tag/v3.0.0. Use suggest_float(..., log=True) instead.\n",
      "  gamma = trial.suggest_loguniform(\"gamma\", 1e-4, 1e-1)\n",
      "[I 2025-05-16 02:19:32,007] Trial 5 finished with values: [0.7009569004509514, 0.6202133132180578, 0.7357243540012581] and parameters: {'C': 0.13712115509732306, 'gamma': 0.03139526110560239, 'n_components': 381}.\n",
      "C:\\Users\\PC\\AppData\\Local\\Temp\\ipykernel_23812\\1837004999.py:5: FutureWarning: suggest_loguniform has been deprecated in v3.0.0. This feature will be removed in v6.0.0. See https://github.com/optuna/optuna/releases/tag/v3.0.0. Use suggest_float(..., log=True) instead.\n",
      "  C = trial.suggest_loguniform(\"C\", 1e-3, 100)\n",
      "C:\\Users\\PC\\AppData\\Local\\Temp\\ipykernel_23812\\1837004999.py:6: FutureWarning: suggest_loguniform has been deprecated in v3.0.0. This feature will be removed in v6.0.0. See https://github.com/optuna/optuna/releases/tag/v3.0.0. Use suggest_float(..., log=True) instead.\n",
      "  gamma = trial.suggest_loguniform(\"gamma\", 1e-4, 1e-1)\n",
      "[I 2025-05-16 02:20:43,707] Trial 6 finished with values: [0.7026667321716695, 0.6199872361308119, 0.7344947413263108] and parameters: {'C': 0.3374903877738549, 'gamma': 0.0055448221411816614, 'n_components': 675}.\n",
      "C:\\Users\\PC\\AppData\\Local\\Temp\\ipykernel_23812\\1837004999.py:5: FutureWarning: suggest_loguniform has been deprecated in v3.0.0. This feature will be removed in v6.0.0. See https://github.com/optuna/optuna/releases/tag/v3.0.0. Use suggest_float(..., log=True) instead.\n",
      "  C = trial.suggest_loguniform(\"C\", 1e-3, 100)\n",
      "C:\\Users\\PC\\AppData\\Local\\Temp\\ipykernel_23812\\1837004999.py:6: FutureWarning: suggest_loguniform has been deprecated in v3.0.0. This feature will be removed in v6.0.0. See https://github.com/optuna/optuna/releases/tag/v3.0.0. Use suggest_float(..., log=True) instead.\n",
      "  gamma = trial.suggest_loguniform(\"gamma\", 1e-4, 1e-1)\n",
      "[I 2025-05-16 02:21:21,082] Trial 7 finished with values: [0.7086782426153426, 0.6206583424520576, 0.7334522494011617] and parameters: {'C': 0.003998145843736154, 'gamma': 0.028195149536932126, 'n_components': 438}.\n",
      "C:\\Users\\PC\\AppData\\Local\\Temp\\ipykernel_23812\\1837004999.py:5: FutureWarning: suggest_loguniform has been deprecated in v3.0.0. This feature will be removed in v6.0.0. See https://github.com/optuna/optuna/releases/tag/v3.0.0. Use suggest_float(..., log=True) instead.\n",
      "  C = trial.suggest_loguniform(\"C\", 1e-3, 100)\n",
      "C:\\Users\\PC\\AppData\\Local\\Temp\\ipykernel_23812\\1837004999.py:6: FutureWarning: suggest_loguniform has been deprecated in v3.0.0. This feature will be removed in v6.0.0. See https://github.com/optuna/optuna/releases/tag/v3.0.0. Use suggest_float(..., log=True) instead.\n",
      "  gamma = trial.suggest_loguniform(\"gamma\", 1e-4, 1e-1)\n",
      "[I 2025-05-16 02:23:53,599] Trial 8 finished with values: [0.7001931450249516, 0.6194923856349115, 0.7343470381022061] and parameters: {'C': 78.91261410991086, 'gamma': 0.0007905877154502372, 'n_components': 945}.\n",
      "C:\\Users\\PC\\AppData\\Local\\Temp\\ipykernel_23812\\1837004999.py:5: FutureWarning: suggest_loguniform has been deprecated in v3.0.0. This feature will be removed in v6.0.0. See https://github.com/optuna/optuna/releases/tag/v3.0.0. Use suggest_float(..., log=True) instead.\n",
      "  C = trial.suggest_loguniform(\"C\", 1e-3, 100)\n",
      "C:\\Users\\PC\\AppData\\Local\\Temp\\ipykernel_23812\\1837004999.py:6: FutureWarning: suggest_loguniform has been deprecated in v3.0.0. This feature will be removed in v6.0.0. See https://github.com/optuna/optuna/releases/tag/v3.0.0. Use suggest_float(..., log=True) instead.\n",
      "  gamma = trial.suggest_loguniform(\"gamma\", 1e-4, 1e-1)\n",
      "[I 2025-05-16 02:26:09,609] Trial 9 finished with values: [0.700784441024705, 0.6195258342521586, 0.7341866739633865] and parameters: {'C': 36.92768238148335, 'gamma': 0.0007570187857115952, 'n_components': 986}.\n"
     ]
    },
    {
     "data": {
      "application/vnd.plotly.v1+json": {
       "config": {
        "plotlyServerURL": "https://plot.ly"
       },
       "data": [
        {
         "hovertemplate": "%{text}<extra>Trial</extra>",
         "marker": {
          "color": [
           0,
           8,
           9
          ],
          "colorbar": {
           "title": {
            "text": "Trial"
           }
          },
          "colorscale": [
           [
            0,
            "rgb(247,251,255)"
           ],
           [
            0.125,
            "rgb(222,235,247)"
           ],
           [
            0.25,
            "rgb(198,219,239)"
           ],
           [
            0.375,
            "rgb(158,202,225)"
           ],
           [
            0.5,
            "rgb(107,174,214)"
           ],
           [
            0.625,
            "rgb(66,146,198)"
           ],
           [
            0.75,
            "rgb(33,113,181)"
           ],
           [
            0.875,
            "rgb(8,81,156)"
           ],
           [
            1,
            "rgb(8,48,107)"
           ]
          ],
          "line": {
           "color": "Grey",
           "width": 0.5
          }
         },
         "mode": "markers",
         "showlegend": false,
         "text": [
          "{<br>  \"number\": 0,<br>  \"values\": [<br>    0.7001882149107228,<br>    0.6199978994232449,<br>    0.7355297319278328<br>  ],<br>  \"params\": {<br>    \"C\": 13.41805372370113,<br>    \"gamma\": 0.005197743336103416,<br>    \"n_components\": 852<br>  }<br>}",
          "{<br>  \"number\": 8,<br>  \"values\": [<br>    0.7001931450249516,<br>    0.6194923856349115,<br>    0.7343470381022061<br>  ],<br>  \"params\": {<br>    \"C\": 78.91261410991086,<br>    \"gamma\": 0.0007905877154502372,<br>    \"n_components\": 945<br>  }<br>}",
          "{<br>  \"number\": 9,<br>  \"values\": [<br>    0.700784441024705,<br>    0.6195258342521586,<br>    0.7341866739633865<br>  ],<br>  \"params\": {<br>    \"C\": 36.92768238148335,<br>    \"gamma\": 0.0007570187857115952,<br>    \"n_components\": 986<br>  }<br>}"
         ],
         "type": "scatter3d",
         "x": [
          0.7001882149107228,
          0.7001931450249516,
          0.700784441024705
         ],
         "y": [
          0.6199978994232449,
          0.6194923856349115,
          0.6195258342521586
         ],
         "z": [
          0.7355297319278328,
          0.7343470381022061,
          0.7341866739633865
         ]
        },
        {
         "hovertemplate": "%{text}<extra>Best Trial</extra>",
         "marker": {
          "color": [
           1,
           2,
           3,
           4,
           5,
           6,
           7
          ],
          "colorbar": {
           "title": {
            "text": "Best Trial"
           },
           "x": 1.1,
           "xpad": 40
          },
          "colorscale": [
           [
            0,
            "rgb(255,245,240)"
           ],
           [
            0.125,
            "rgb(254,224,210)"
           ],
           [
            0.25,
            "rgb(252,187,161)"
           ],
           [
            0.375,
            "rgb(252,146,114)"
           ],
           [
            0.5,
            "rgb(251,106,74)"
           ],
           [
            0.625,
            "rgb(239,59,44)"
           ],
           [
            0.75,
            "rgb(203,24,29)"
           ],
           [
            0.875,
            "rgb(165,15,21)"
           ],
           [
            1,
            "rgb(103,0,13)"
           ]
          ],
          "line": {
           "color": "Grey",
           "width": 0.5
          }
         },
         "mode": "markers",
         "showlegend": false,
         "text": [
          "{<br>  \"number\": 1,<br>  \"values\": [<br>    0.7100480791635179,<br>    0.6208792922839985,<br>    0.7333440615850118<br>  ],<br>  \"params\": {<br>    \"C\": 0.10485807095156621,<br>    \"gamma\": 0.004503234900695931,<br>    \"n_components\": 652<br>  }<br>}",
          "{<br>  \"number\": 2,<br>  \"values\": [<br>    0.7351239670485005,<br>    0.6227756650704975,<br>    0.7238298103545742<br>  ],<br>  \"params\": {<br>    \"C\": 0.003577803754690045,<br>    \"gamma\": 0.0009837451954632895,<br>    \"n_components\": 694<br>  }<br>}",
          "{<br>  \"number\": 3,<br>  \"values\": [<br>    0.7400169452918518,<br>    0.6237037325723807,<br>    0.7227155576261659<br>  ],<br>  \"params\": {<br>    \"C\": 0.0022349107112217994,<br>    \"gamma\": 0.0001809469736933914,<br>    \"n_components\": 353<br>  }<br>}",
          "{<br>  \"number\": 4,<br>  \"values\": [<br>    0.7317289421594604,<br>    0.6225568395380054,<br>    0.7255031313436413<br>  ],<br>  \"params\": {<br>    \"C\": 0.008266655684307464,<br>    \"gamma\": 0.002044489795819017,<br>    \"n_components\": 710<br>  }<br>}",
          "{<br>  \"number\": 5,<br>  \"values\": [<br>    0.7009569004509514,<br>    0.6202133132180578,<br>    0.7357243540012581<br>  ],<br>  \"params\": {<br>    \"C\": 0.13712115509732306,<br>    \"gamma\": 0.03139526110560239,<br>    \"n_components\": 381<br>  }<br>}",
          "{<br>  \"number\": 6,<br>  \"values\": [<br>    0.7026667321716695,<br>    0.6199872361308119,<br>    0.7344947413263108<br>  ],<br>  \"params\": {<br>    \"C\": 0.3374903877738549,<br>    \"gamma\": 0.0055448221411816614,<br>    \"n_components\": 675<br>  }<br>}",
          "{<br>  \"number\": 7,<br>  \"values\": [<br>    0.7086782426153426,<br>    0.6206583424520576,<br>    0.7334522494011617<br>  ],<br>  \"params\": {<br>    \"C\": 0.003998145843736154,<br>    \"gamma\": 0.028195149536932126,<br>    \"n_components\": 438<br>  }<br>}"
         ],
         "type": "scatter3d",
         "x": [
          0.7100480791635179,
          0.7351239670485005,
          0.7400169452918518,
          0.7317289421594604,
          0.7009569004509514,
          0.7026667321716695,
          0.7086782426153426
         ],
         "y": [
          0.6208792922839985,
          0.6227756650704975,
          0.6237037325723807,
          0.6225568395380054,
          0.6202133132180578,
          0.6199872361308119,
          0.6206583424520576
         ],
         "z": [
          0.7333440615850118,
          0.7238298103545742,
          0.7227155576261659,
          0.7255031313436413,
          0.7357243540012581,
          0.7344947413263108,
          0.7334522494011617
         ]
        }
       ],
       "layout": {
        "scene": {
         "xaxis": {
          "title": {
           "text": "Accuracy"
          }
         },
         "yaxis": {
          "title": {
           "text": "Precision"
          }
         },
         "zaxis": {
          "title": {
           "text": "Recall"
          }
         }
        },
        "template": {
         "data": {
          "bar": [
           {
            "error_x": {
             "color": "#2a3f5f"
            },
            "error_y": {
             "color": "#2a3f5f"
            },
            "marker": {
             "line": {
              "color": "#E5ECF6",
              "width": 0.5
             },
             "pattern": {
              "fillmode": "overlay",
              "size": 10,
              "solidity": 0.2
             }
            },
            "type": "bar"
           }
          ],
          "barpolar": [
           {
            "marker": {
             "line": {
              "color": "#E5ECF6",
              "width": 0.5
             },
             "pattern": {
              "fillmode": "overlay",
              "size": 10,
              "solidity": 0.2
             }
            },
            "type": "barpolar"
           }
          ],
          "carpet": [
           {
            "aaxis": {
             "endlinecolor": "#2a3f5f",
             "gridcolor": "white",
             "linecolor": "white",
             "minorgridcolor": "white",
             "startlinecolor": "#2a3f5f"
            },
            "baxis": {
             "endlinecolor": "#2a3f5f",
             "gridcolor": "white",
             "linecolor": "white",
             "minorgridcolor": "white",
             "startlinecolor": "#2a3f5f"
            },
            "type": "carpet"
           }
          ],
          "choropleth": [
           {
            "colorbar": {
             "outlinewidth": 0,
             "ticks": ""
            },
            "type": "choropleth"
           }
          ],
          "contour": [
           {
            "colorbar": {
             "outlinewidth": 0,
             "ticks": ""
            },
            "colorscale": [
             [
              0,
              "#0d0887"
             ],
             [
              0.1111111111111111,
              "#46039f"
             ],
             [
              0.2222222222222222,
              "#7201a8"
             ],
             [
              0.3333333333333333,
              "#9c179e"
             ],
             [
              0.4444444444444444,
              "#bd3786"
             ],
             [
              0.5555555555555556,
              "#d8576b"
             ],
             [
              0.6666666666666666,
              "#ed7953"
             ],
             [
              0.7777777777777778,
              "#fb9f3a"
             ],
             [
              0.8888888888888888,
              "#fdca26"
             ],
             [
              1,
              "#f0f921"
             ]
            ],
            "type": "contour"
           }
          ],
          "contourcarpet": [
           {
            "colorbar": {
             "outlinewidth": 0,
             "ticks": ""
            },
            "type": "contourcarpet"
           }
          ],
          "heatmap": [
           {
            "colorbar": {
             "outlinewidth": 0,
             "ticks": ""
            },
            "colorscale": [
             [
              0,
              "#0d0887"
             ],
             [
              0.1111111111111111,
              "#46039f"
             ],
             [
              0.2222222222222222,
              "#7201a8"
             ],
             [
              0.3333333333333333,
              "#9c179e"
             ],
             [
              0.4444444444444444,
              "#bd3786"
             ],
             [
              0.5555555555555556,
              "#d8576b"
             ],
             [
              0.6666666666666666,
              "#ed7953"
             ],
             [
              0.7777777777777778,
              "#fb9f3a"
             ],
             [
              0.8888888888888888,
              "#fdca26"
             ],
             [
              1,
              "#f0f921"
             ]
            ],
            "type": "heatmap"
           }
          ],
          "histogram": [
           {
            "marker": {
             "pattern": {
              "fillmode": "overlay",
              "size": 10,
              "solidity": 0.2
             }
            },
            "type": "histogram"
           }
          ],
          "histogram2d": [
           {
            "colorbar": {
             "outlinewidth": 0,
             "ticks": ""
            },
            "colorscale": [
             [
              0,
              "#0d0887"
             ],
             [
              0.1111111111111111,
              "#46039f"
             ],
             [
              0.2222222222222222,
              "#7201a8"
             ],
             [
              0.3333333333333333,
              "#9c179e"
             ],
             [
              0.4444444444444444,
              "#bd3786"
             ],
             [
              0.5555555555555556,
              "#d8576b"
             ],
             [
              0.6666666666666666,
              "#ed7953"
             ],
             [
              0.7777777777777778,
              "#fb9f3a"
             ],
             [
              0.8888888888888888,
              "#fdca26"
             ],
             [
              1,
              "#f0f921"
             ]
            ],
            "type": "histogram2d"
           }
          ],
          "histogram2dcontour": [
           {
            "colorbar": {
             "outlinewidth": 0,
             "ticks": ""
            },
            "colorscale": [
             [
              0,
              "#0d0887"
             ],
             [
              0.1111111111111111,
              "#46039f"
             ],
             [
              0.2222222222222222,
              "#7201a8"
             ],
             [
              0.3333333333333333,
              "#9c179e"
             ],
             [
              0.4444444444444444,
              "#bd3786"
             ],
             [
              0.5555555555555556,
              "#d8576b"
             ],
             [
              0.6666666666666666,
              "#ed7953"
             ],
             [
              0.7777777777777778,
              "#fb9f3a"
             ],
             [
              0.8888888888888888,
              "#fdca26"
             ],
             [
              1,
              "#f0f921"
             ]
            ],
            "type": "histogram2dcontour"
           }
          ],
          "mesh3d": [
           {
            "colorbar": {
             "outlinewidth": 0,
             "ticks": ""
            },
            "type": "mesh3d"
           }
          ],
          "parcoords": [
           {
            "line": {
             "colorbar": {
              "outlinewidth": 0,
              "ticks": ""
             }
            },
            "type": "parcoords"
           }
          ],
          "pie": [
           {
            "automargin": true,
            "type": "pie"
           }
          ],
          "scatter": [
           {
            "fillpattern": {
             "fillmode": "overlay",
             "size": 10,
             "solidity": 0.2
            },
            "type": "scatter"
           }
          ],
          "scatter3d": [
           {
            "line": {
             "colorbar": {
              "outlinewidth": 0,
              "ticks": ""
             }
            },
            "marker": {
             "colorbar": {
              "outlinewidth": 0,
              "ticks": ""
             }
            },
            "type": "scatter3d"
           }
          ],
          "scattercarpet": [
           {
            "marker": {
             "colorbar": {
              "outlinewidth": 0,
              "ticks": ""
             }
            },
            "type": "scattercarpet"
           }
          ],
          "scattergeo": [
           {
            "marker": {
             "colorbar": {
              "outlinewidth": 0,
              "ticks": ""
             }
            },
            "type": "scattergeo"
           }
          ],
          "scattergl": [
           {
            "marker": {
             "colorbar": {
              "outlinewidth": 0,
              "ticks": ""
             }
            },
            "type": "scattergl"
           }
          ],
          "scattermap": [
           {
            "marker": {
             "colorbar": {
              "outlinewidth": 0,
              "ticks": ""
             }
            },
            "type": "scattermap"
           }
          ],
          "scattermapbox": [
           {
            "marker": {
             "colorbar": {
              "outlinewidth": 0,
              "ticks": ""
             }
            },
            "type": "scattermapbox"
           }
          ],
          "scatterpolar": [
           {
            "marker": {
             "colorbar": {
              "outlinewidth": 0,
              "ticks": ""
             }
            },
            "type": "scatterpolar"
           }
          ],
          "scatterpolargl": [
           {
            "marker": {
             "colorbar": {
              "outlinewidth": 0,
              "ticks": ""
             }
            },
            "type": "scatterpolargl"
           }
          ],
          "scatterternary": [
           {
            "marker": {
             "colorbar": {
              "outlinewidth": 0,
              "ticks": ""
             }
            },
            "type": "scatterternary"
           }
          ],
          "surface": [
           {
            "colorbar": {
             "outlinewidth": 0,
             "ticks": ""
            },
            "colorscale": [
             [
              0,
              "#0d0887"
             ],
             [
              0.1111111111111111,
              "#46039f"
             ],
             [
              0.2222222222222222,
              "#7201a8"
             ],
             [
              0.3333333333333333,
              "#9c179e"
             ],
             [
              0.4444444444444444,
              "#bd3786"
             ],
             [
              0.5555555555555556,
              "#d8576b"
             ],
             [
              0.6666666666666666,
              "#ed7953"
             ],
             [
              0.7777777777777778,
              "#fb9f3a"
             ],
             [
              0.8888888888888888,
              "#fdca26"
             ],
             [
              1,
              "#f0f921"
             ]
            ],
            "type": "surface"
           }
          ],
          "table": [
           {
            "cells": {
             "fill": {
              "color": "#EBF0F8"
             },
             "line": {
              "color": "white"
             }
            },
            "header": {
             "fill": {
              "color": "#C8D4E3"
             },
             "line": {
              "color": "white"
             }
            },
            "type": "table"
           }
          ]
         },
         "layout": {
          "annotationdefaults": {
           "arrowcolor": "#2a3f5f",
           "arrowhead": 0,
           "arrowwidth": 1
          },
          "autotypenumbers": "strict",
          "coloraxis": {
           "colorbar": {
            "outlinewidth": 0,
            "ticks": ""
           }
          },
          "colorscale": {
           "diverging": [
            [
             0,
             "#8e0152"
            ],
            [
             0.1,
             "#c51b7d"
            ],
            [
             0.2,
             "#de77ae"
            ],
            [
             0.3,
             "#f1b6da"
            ],
            [
             0.4,
             "#fde0ef"
            ],
            [
             0.5,
             "#f7f7f7"
            ],
            [
             0.6,
             "#e6f5d0"
            ],
            [
             0.7,
             "#b8e186"
            ],
            [
             0.8,
             "#7fbc41"
            ],
            [
             0.9,
             "#4d9221"
            ],
            [
             1,
             "#276419"
            ]
           ],
           "sequential": [
            [
             0,
             "#0d0887"
            ],
            [
             0.1111111111111111,
             "#46039f"
            ],
            [
             0.2222222222222222,
             "#7201a8"
            ],
            [
             0.3333333333333333,
             "#9c179e"
            ],
            [
             0.4444444444444444,
             "#bd3786"
            ],
            [
             0.5555555555555556,
             "#d8576b"
            ],
            [
             0.6666666666666666,
             "#ed7953"
            ],
            [
             0.7777777777777778,
             "#fb9f3a"
            ],
            [
             0.8888888888888888,
             "#fdca26"
            ],
            [
             1,
             "#f0f921"
            ]
           ],
           "sequentialminus": [
            [
             0,
             "#0d0887"
            ],
            [
             0.1111111111111111,
             "#46039f"
            ],
            [
             0.2222222222222222,
             "#7201a8"
            ],
            [
             0.3333333333333333,
             "#9c179e"
            ],
            [
             0.4444444444444444,
             "#bd3786"
            ],
            [
             0.5555555555555556,
             "#d8576b"
            ],
            [
             0.6666666666666666,
             "#ed7953"
            ],
            [
             0.7777777777777778,
             "#fb9f3a"
            ],
            [
             0.8888888888888888,
             "#fdca26"
            ],
            [
             1,
             "#f0f921"
            ]
           ]
          },
          "colorway": [
           "#636efa",
           "#EF553B",
           "#00cc96",
           "#ab63fa",
           "#FFA15A",
           "#19d3f3",
           "#FF6692",
           "#B6E880",
           "#FF97FF",
           "#FECB52"
          ],
          "font": {
           "color": "#2a3f5f"
          },
          "geo": {
           "bgcolor": "white",
           "lakecolor": "white",
           "landcolor": "#E5ECF6",
           "showlakes": true,
           "showland": true,
           "subunitcolor": "white"
          },
          "hoverlabel": {
           "align": "left"
          },
          "hovermode": "closest",
          "mapbox": {
           "style": "light"
          },
          "paper_bgcolor": "white",
          "plot_bgcolor": "#E5ECF6",
          "polar": {
           "angularaxis": {
            "gridcolor": "white",
            "linecolor": "white",
            "ticks": ""
           },
           "bgcolor": "#E5ECF6",
           "radialaxis": {
            "gridcolor": "white",
            "linecolor": "white",
            "ticks": ""
           }
          },
          "scene": {
           "xaxis": {
            "backgroundcolor": "#E5ECF6",
            "gridcolor": "white",
            "gridwidth": 2,
            "linecolor": "white",
            "showbackground": true,
            "ticks": "",
            "zerolinecolor": "white"
           },
           "yaxis": {
            "backgroundcolor": "#E5ECF6",
            "gridcolor": "white",
            "gridwidth": 2,
            "linecolor": "white",
            "showbackground": true,
            "ticks": "",
            "zerolinecolor": "white"
           },
           "zaxis": {
            "backgroundcolor": "#E5ECF6",
            "gridcolor": "white",
            "gridwidth": 2,
            "linecolor": "white",
            "showbackground": true,
            "ticks": "",
            "zerolinecolor": "white"
           }
          },
          "shapedefaults": {
           "line": {
            "color": "#2a3f5f"
           }
          },
          "ternary": {
           "aaxis": {
            "gridcolor": "white",
            "linecolor": "white",
            "ticks": ""
           },
           "baxis": {
            "gridcolor": "white",
            "linecolor": "white",
            "ticks": ""
           },
           "bgcolor": "#E5ECF6",
           "caxis": {
            "gridcolor": "white",
            "linecolor": "white",
            "ticks": ""
           }
          },
          "title": {
           "x": 0.05
          },
          "xaxis": {
           "automargin": true,
           "gridcolor": "white",
           "linecolor": "white",
           "ticks": "",
           "title": {
            "standoff": 15
           },
           "zerolinecolor": "white",
           "zerolinewidth": 2
          },
          "yaxis": {
           "automargin": true,
           "gridcolor": "white",
           "linecolor": "white",
           "ticks": "",
           "title": {
            "standoff": 15
           },
           "zerolinecolor": "white",
           "zerolinewidth": 2
          }
         }
        },
        "title": {
         "text": "Pareto-front Plot"
        }
       }
      }
     },
     "metadata": {},
     "output_type": "display_data"
    }
   ],
   "source": [
    "# Defining tuning optimization for SVM\n",
    "\n",
    "def objective_svc(trial):\n",
    "    # Suggest hyperparameters to tune\n",
    "    C = trial.suggest_loguniform(\"C\", 1e-3, 100)\n",
    "    gamma = trial.suggest_loguniform(\"gamma\", 1e-4, 1e-1)\n",
    "    n_components = trial.suggest_int(\"n_components\", 200, 1000)  # optional tuning for Nystroem dimension\n",
    "\n",
    "    # Build pipeline with these hyperparameters\n",
    "    pipeline = Pipeline([\n",
    "        ('scaler', StandardScaler()),\n",
    "        ('nystroem', Nystroem(kernel='rbf', gamma=gamma, n_components=n_components, random_state=42)),\n",
    "        ('clf', LinearSVC(C=C, class_weight='balanced', random_state=42, max_iter=10000)),\n",
    "    ])\n",
    "\n",
    "    \n",
    "    scoring = {\n",
    "        \"accuracy\": make_scorer(accuracy_score),\n",
    "        \"precision\": make_scorer(precision_score, average='macro'),\n",
    "        \"recall\": make_scorer(recall_score, average='macro'),\n",
    "    }\n",
    "\n",
    "    cv = StratifiedKFold(n_splits=5, shuffle=True, random_state=42)\n",
    "\n",
    "    # Cross-validate with multiple metrics (define 'scoring' dict before calling this)\n",
    "    scores = cross_validate(pipeline, X_train, y_train, scoring=scoring, cv=cv, n_jobs=-1)\n",
    "    \n",
    "    # Return tuple of metrics for multi-objective optimization\n",
    "    return scores[\"test_accuracy\"].mean(), scores[\"test_precision\"].mean(), scores[\"test_recall\"].mean()\n",
    "\n",
    "\n",
    "study_svc = optuna.create_study(directions=[\"maximize\", \"maximize\", \"maximize\"], study_name=\"SVC\")\n",
    "study_svc.optimize(objective_svc, n_trials=30)\n",
    "\n",
    "plot_pareto_front(study_svc, target_names=[\"Accuracy\", \"Precision\", \"Recall\"]).show()"
   ]
  },
  {
   "cell_type": "markdown",
   "metadata": {},
   "source": [
    "### Best SVM Model"
   ]
  },
  {
   "cell_type": "code",
   "execution_count": 5,
   "metadata": {},
   "outputs": [
    {
     "name": "stdout",
     "output_type": "stream",
     "text": [
      "SVC Best Params: {'C': 0.0022349107112217994, 'gamma': 0.0001809469736933914, 'n_components': 353}\n",
      "Accuracy: 0.7400169452918518\n",
      "Precision: 0.6237037325723807\n",
      "Recall: 0.7227155576261659\n",
      "Best params: {'C': 0.0022349107112217994, 'gamma': 0.0001809469736933914, 'n_components': 353}\n"
     ]
    },
    {
     "name": "stdout",
     "output_type": "stream",
     "text": [
      "Classification Report for Best SVC Model:\n",
      "              precision    recall  f1-score   support\n",
      "\n",
      "         0.0       0.94      0.75      0.83     43667\n",
      "         1.0       0.31      0.69      0.43      7069\n",
      "\n",
      "    accuracy                           0.74     50736\n",
      "   macro avg       0.62      0.72      0.63     50736\n",
      "weighted avg       0.85      0.74      0.78     50736\n",
      "\n"
     ]
    }
   ],
   "source": [
    "# Best parameters for each model\n",
    "\n",
    "best_trial_svm = max(study_svc.best_trials, key=lambda t: sum(t.values))\n",
    "print(\"SVC Best Params:\", best_trial_svm.params)\n",
    "print(\"Accuracy:\", best_trial_svm.values[0])\n",
    "print(\"Precision:\", best_trial_svm.values[1])\n",
    "print(\"Recall:\", best_trial_svm.values[2])\n",
    "\n",
    "est_trial = study_svc.best_trials[0] \n",
    "\n",
    "best_params = best_trial_svm.params\n",
    "print(\"Best params:\", best_params)\n",
    "\n",
    "# Build pipeline with the best parameters\n",
    "best_pipeline = Pipeline([\n",
    "    ('scaler', StandardScaler()),\n",
    "    ('nystroem', Nystroem(kernel='rbf',\n",
    "                         gamma=best_params[\"gamma\"],\n",
    "                         n_components=best_params[\"n_components\"],\n",
    "                         random_state=42)),\n",
    "    ('clf', LinearSVC(C=best_params[\"C\"],\n",
    "                      class_weight='balanced',\n",
    "                      random_state=42,\n",
    "                      max_iter=10000))\n",
    "])\n",
    "\n",
    "# Fit the pipeline on full training data\n",
    "best_pipeline.fit(X_train, y_train)\n",
    "\n",
    "# Predict on test set\n",
    "y_pred = best_pipeline.predict(X_test)\n",
    "\n",
    "# Print classification report\n",
    "print(\"Classification Report for Best SVC Model:\")\n",
    "print(classification_report(y_test, y_pred))"
   ]
  },
  {
   "cell_type": "markdown",
   "metadata": {},
   "source": [
    "### SVM Model"
   ]
  },
  {
   "cell_type": "code",
   "execution_count": null,
   "metadata": {},
   "outputs": [
    {
     "name": "stderr",
     "output_type": "stream",
     "text": [
      "[I 2025-05-16 02:26:19,040] A new study created in memory with name: RF\n",
      "C:\\Users\\PC\\AppData\\Local\\Temp\\ipykernel_23812\\4108633504.py:5: FutureWarning:\n",
      "\n",
      "suggest_int() got {'step'} as positional arguments but they were expected to be given as keyword arguments.\n",
      "\n",
      "c:\\Users\\PC\\AppData\\Local\\Programs\\Python\\Python311\\Lib\\site-packages\\optuna\\distributions.py:699: UserWarning:\n",
      "\n",
      "The distribution is specified by [100, 300] and step=600, but the range is not divisible by `step`. It will be replaced by [100, 100].\n",
      "\n",
      "C:\\Users\\PC\\AppData\\Local\\Temp\\ipykernel_23812\\4108633504.py:6: FutureWarning:\n",
      "\n",
      "suggest_int() got {'step'} as positional arguments but they were expected to be given as keyword arguments.\n",
      "\n",
      "c:\\Users\\PC\\AppData\\Local\\Programs\\Python\\Python311\\Lib\\site-packages\\optuna\\distributions.py:699: UserWarning:\n",
      "\n",
      "The distribution is specified by [5, 20] and step=60, but the range is not divisible by `step`. It will be replaced by [5, 5].\n",
      "\n",
      "C:\\Users\\PC\\AppData\\Local\\Temp\\ipykernel_23812\\4108633504.py:8: FutureWarning:\n",
      "\n",
      "suggest_int() got {'step'} as positional arguments but they were expected to be given as keyword arguments.\n",
      "\n",
      "c:\\Users\\PC\\AppData\\Local\\Programs\\Python\\Python311\\Lib\\site-packages\\optuna\\distributions.py:699: UserWarning:\n",
      "\n",
      "The distribution is specified by [1, 5] and step=10, but the range is not divisible by `step`. It will be replaced by [1, 1].\n",
      "\n",
      "[I 2025-05-16 02:26:45,424] Trial 0 finished with values: [0.6764772480278651, 0.613951735543477, 0.7295056717235772] and parameters: {'n_estimators': 100, 'max_depth': 5, 'min_samples_split': 8, 'min_samples_leaf': 1}.\n",
      "C:\\Users\\PC\\AppData\\Local\\Temp\\ipykernel_23812\\4108633504.py:5: FutureWarning:\n",
      "\n",
      "suggest_int() got {'step'} as positional arguments but they were expected to be given as keyword arguments.\n",
      "\n",
      "c:\\Users\\PC\\AppData\\Local\\Programs\\Python\\Python311\\Lib\\site-packages\\optuna\\distributions.py:699: UserWarning:\n",
      "\n",
      "The distribution is specified by [100, 300] and step=600, but the range is not divisible by `step`. It will be replaced by [100, 100].\n",
      "\n",
      "C:\\Users\\PC\\AppData\\Local\\Temp\\ipykernel_23812\\4108633504.py:6: FutureWarning:\n",
      "\n",
      "suggest_int() got {'step'} as positional arguments but they were expected to be given as keyword arguments.\n",
      "\n",
      "c:\\Users\\PC\\AppData\\Local\\Programs\\Python\\Python311\\Lib\\site-packages\\optuna\\distributions.py:699: UserWarning:\n",
      "\n",
      "The distribution is specified by [5, 20] and step=60, but the range is not divisible by `step`. It will be replaced by [5, 5].\n",
      "\n",
      "C:\\Users\\PC\\AppData\\Local\\Temp\\ipykernel_23812\\4108633504.py:8: FutureWarning:\n",
      "\n",
      "suggest_int() got {'step'} as positional arguments but they were expected to be given as keyword arguments.\n",
      "\n",
      "c:\\Users\\PC\\AppData\\Local\\Programs\\Python\\Python311\\Lib\\site-packages\\optuna\\distributions.py:699: UserWarning:\n",
      "\n",
      "The distribution is specified by [1, 5] and step=10, but the range is not divisible by `step`. It will be replaced by [1, 1].\n",
      "\n",
      "[I 2025-05-16 02:27:12,055] Trial 1 finished with values: [0.6750876980640612, 0.6138533278657123, 0.7296469686258454] and parameters: {'n_estimators': 100, 'max_depth': 5, 'min_samples_split': 4, 'min_samples_leaf': 1}.\n",
      "C:\\Users\\PC\\AppData\\Local\\Temp\\ipykernel_23812\\4108633504.py:5: FutureWarning:\n",
      "\n",
      "suggest_int() got {'step'} as positional arguments but they were expected to be given as keyword arguments.\n",
      "\n",
      "c:\\Users\\PC\\AppData\\Local\\Programs\\Python\\Python311\\Lib\\site-packages\\optuna\\distributions.py:699: UserWarning:\n",
      "\n",
      "The distribution is specified by [100, 300] and step=600, but the range is not divisible by `step`. It will be replaced by [100, 100].\n",
      "\n",
      "C:\\Users\\PC\\AppData\\Local\\Temp\\ipykernel_23812\\4108633504.py:6: FutureWarning:\n",
      "\n",
      "suggest_int() got {'step'} as positional arguments but they were expected to be given as keyword arguments.\n",
      "\n",
      "c:\\Users\\PC\\AppData\\Local\\Programs\\Python\\Python311\\Lib\\site-packages\\optuna\\distributions.py:699: UserWarning:\n",
      "\n",
      "The distribution is specified by [5, 20] and step=60, but the range is not divisible by `step`. It will be replaced by [5, 5].\n",
      "\n",
      "C:\\Users\\PC\\AppData\\Local\\Temp\\ipykernel_23812\\4108633504.py:8: FutureWarning:\n",
      "\n",
      "suggest_int() got {'step'} as positional arguments but they were expected to be given as keyword arguments.\n",
      "\n",
      "c:\\Users\\PC\\AppData\\Local\\Programs\\Python\\Python311\\Lib\\site-packages\\optuna\\distributions.py:699: UserWarning:\n",
      "\n",
      "The distribution is specified by [1, 5] and step=10, but the range is not divisible by `step`. It will be replaced by [1, 1].\n",
      "\n",
      "[I 2025-05-16 02:27:38,660] Trial 2 finished with values: [0.6745949718132829, 0.6137565056241334, 0.7295679911657869] and parameters: {'n_estimators': 100, 'max_depth': 5, 'min_samples_split': 4, 'min_samples_leaf': 1}.\n",
      "C:\\Users\\PC\\AppData\\Local\\Temp\\ipykernel_23812\\4108633504.py:5: FutureWarning:\n",
      "\n",
      "suggest_int() got {'step'} as positional arguments but they were expected to be given as keyword arguments.\n",
      "\n",
      "c:\\Users\\PC\\AppData\\Local\\Programs\\Python\\Python311\\Lib\\site-packages\\optuna\\distributions.py:699: UserWarning:\n",
      "\n",
      "The distribution is specified by [100, 300] and step=600, but the range is not divisible by `step`. It will be replaced by [100, 100].\n",
      "\n",
      "C:\\Users\\PC\\AppData\\Local\\Temp\\ipykernel_23812\\4108633504.py:6: FutureWarning:\n",
      "\n",
      "suggest_int() got {'step'} as positional arguments but they were expected to be given as keyword arguments.\n",
      "\n",
      "c:\\Users\\PC\\AppData\\Local\\Programs\\Python\\Python311\\Lib\\site-packages\\optuna\\distributions.py:699: UserWarning:\n",
      "\n",
      "The distribution is specified by [5, 20] and step=60, but the range is not divisible by `step`. It will be replaced by [5, 5].\n",
      "\n",
      "C:\\Users\\PC\\AppData\\Local\\Temp\\ipykernel_23812\\4108633504.py:8: FutureWarning:\n",
      "\n",
      "suggest_int() got {'step'} as positional arguments but they were expected to be given as keyword arguments.\n",
      "\n",
      "c:\\Users\\PC\\AppData\\Local\\Programs\\Python\\Python311\\Lib\\site-packages\\optuna\\distributions.py:699: UserWarning:\n",
      "\n",
      "The distribution is specified by [1, 5] and step=10, but the range is not divisible by `step`. It will be replaced by [1, 1].\n",
      "\n",
      "[I 2025-05-16 02:28:05,889] Trial 3 finished with values: [0.6752749490470084, 0.6137995618846077, 0.7294741286495796] and parameters: {'n_estimators': 100, 'max_depth': 5, 'min_samples_split': 3, 'min_samples_leaf': 1}.\n",
      "C:\\Users\\PC\\AppData\\Local\\Temp\\ipykernel_23812\\4108633504.py:5: FutureWarning:\n",
      "\n",
      "suggest_int() got {'step'} as positional arguments but they were expected to be given as keyword arguments.\n",
      "\n",
      "c:\\Users\\PC\\AppData\\Local\\Programs\\Python\\Python311\\Lib\\site-packages\\optuna\\distributions.py:699: UserWarning:\n",
      "\n",
      "The distribution is specified by [100, 300] and step=600, but the range is not divisible by `step`. It will be replaced by [100, 100].\n",
      "\n",
      "C:\\Users\\PC\\AppData\\Local\\Temp\\ipykernel_23812\\4108633504.py:6: FutureWarning:\n",
      "\n",
      "suggest_int() got {'step'} as positional arguments but they were expected to be given as keyword arguments.\n",
      "\n",
      "c:\\Users\\PC\\AppData\\Local\\Programs\\Python\\Python311\\Lib\\site-packages\\optuna\\distributions.py:699: UserWarning:\n",
      "\n",
      "The distribution is specified by [5, 20] and step=60, but the range is not divisible by `step`. It will be replaced by [5, 5].\n",
      "\n",
      "C:\\Users\\PC\\AppData\\Local\\Temp\\ipykernel_23812\\4108633504.py:8: FutureWarning:\n",
      "\n",
      "suggest_int() got {'step'} as positional arguments but they were expected to be given as keyword arguments.\n",
      "\n",
      "c:\\Users\\PC\\AppData\\Local\\Programs\\Python\\Python311\\Lib\\site-packages\\optuna\\distributions.py:699: UserWarning:\n",
      "\n",
      "The distribution is specified by [1, 5] and step=10, but the range is not divisible by `step`. It will be replaced by [1, 1].\n",
      "\n",
      "[I 2025-05-16 02:28:33,156] Trial 4 finished with values: [0.6755755179953018, 0.6138401602426583, 0.7294856522360211] and parameters: {'n_estimators': 100, 'max_depth': 5, 'min_samples_split': 10, 'min_samples_leaf': 1}.\n",
      "C:\\Users\\PC\\AppData\\Local\\Temp\\ipykernel_23812\\4108633504.py:5: FutureWarning:\n",
      "\n",
      "suggest_int() got {'step'} as positional arguments but they were expected to be given as keyword arguments.\n",
      "\n",
      "c:\\Users\\PC\\AppData\\Local\\Programs\\Python\\Python311\\Lib\\site-packages\\optuna\\distributions.py:699: UserWarning:\n",
      "\n",
      "The distribution is specified by [100, 300] and step=600, but the range is not divisible by `step`. It will be replaced by [100, 100].\n",
      "\n",
      "C:\\Users\\PC\\AppData\\Local\\Temp\\ipykernel_23812\\4108633504.py:6: FutureWarning:\n",
      "\n",
      "suggest_int() got {'step'} as positional arguments but they were expected to be given as keyword arguments.\n",
      "\n",
      "c:\\Users\\PC\\AppData\\Local\\Programs\\Python\\Python311\\Lib\\site-packages\\optuna\\distributions.py:699: UserWarning:\n",
      "\n",
      "The distribution is specified by [5, 20] and step=60, but the range is not divisible by `step`. It will be replaced by [5, 5].\n",
      "\n",
      "C:\\Users\\PC\\AppData\\Local\\Temp\\ipykernel_23812\\4108633504.py:8: FutureWarning:\n",
      "\n",
      "suggest_int() got {'step'} as positional arguments but they were expected to be given as keyword arguments.\n",
      "\n",
      "c:\\Users\\PC\\AppData\\Local\\Programs\\Python\\Python311\\Lib\\site-packages\\optuna\\distributions.py:699: UserWarning:\n",
      "\n",
      "The distribution is specified by [1, 5] and step=10, but the range is not divisible by `step`. It will be replaced by [1, 1].\n",
      "\n",
      "[I 2025-05-16 02:29:01,486] Trial 5 finished with values: [0.674456992836266, 0.6136316214373139, 0.7293101028432755] and parameters: {'n_estimators': 100, 'max_depth': 5, 'min_samples_split': 2, 'min_samples_leaf': 1}.\n",
      "C:\\Users\\PC\\AppData\\Local\\Temp\\ipykernel_23812\\4108633504.py:5: FutureWarning:\n",
      "\n",
      "suggest_int() got {'step'} as positional arguments but they were expected to be given as keyword arguments.\n",
      "\n",
      "c:\\Users\\PC\\AppData\\Local\\Programs\\Python\\Python311\\Lib\\site-packages\\optuna\\distributions.py:699: UserWarning:\n",
      "\n",
      "The distribution is specified by [100, 300] and step=600, but the range is not divisible by `step`. It will be replaced by [100, 100].\n",
      "\n",
      "C:\\Users\\PC\\AppData\\Local\\Temp\\ipykernel_23812\\4108633504.py:6: FutureWarning:\n",
      "\n",
      "suggest_int() got {'step'} as positional arguments but they were expected to be given as keyword arguments.\n",
      "\n",
      "c:\\Users\\PC\\AppData\\Local\\Programs\\Python\\Python311\\Lib\\site-packages\\optuna\\distributions.py:699: UserWarning:\n",
      "\n",
      "The distribution is specified by [5, 20] and step=60, but the range is not divisible by `step`. It will be replaced by [5, 5].\n",
      "\n",
      "C:\\Users\\PC\\AppData\\Local\\Temp\\ipykernel_23812\\4108633504.py:8: FutureWarning:\n",
      "\n",
      "suggest_int() got {'step'} as positional arguments but they were expected to be given as keyword arguments.\n",
      "\n",
      "c:\\Users\\PC\\AppData\\Local\\Programs\\Python\\Python311\\Lib\\site-packages\\optuna\\distributions.py:699: UserWarning:\n",
      "\n",
      "The distribution is specified by [1, 5] and step=10, but the range is not divisible by `step`. It will be replaced by [1, 1].\n",
      "\n",
      "[I 2025-05-16 02:29:28,537] Trial 6 finished with values: [0.6753685881961488, 0.6136444501533729, 0.7290985573566502] and parameters: {'n_estimators': 100, 'max_depth': 5, 'min_samples_split': 4, 'min_samples_leaf': 1}.\n",
      "C:\\Users\\PC\\AppData\\Local\\Temp\\ipykernel_23812\\4108633504.py:5: FutureWarning:\n",
      "\n",
      "suggest_int() got {'step'} as positional arguments but they were expected to be given as keyword arguments.\n",
      "\n",
      "c:\\Users\\PC\\AppData\\Local\\Programs\\Python\\Python311\\Lib\\site-packages\\optuna\\distributions.py:699: UserWarning:\n",
      "\n",
      "The distribution is specified by [100, 300] and step=600, but the range is not divisible by `step`. It will be replaced by [100, 100].\n",
      "\n",
      "C:\\Users\\PC\\AppData\\Local\\Temp\\ipykernel_23812\\4108633504.py:6: FutureWarning:\n",
      "\n",
      "suggest_int() got {'step'} as positional arguments but they were expected to be given as keyword arguments.\n",
      "\n",
      "c:\\Users\\PC\\AppData\\Local\\Programs\\Python\\Python311\\Lib\\site-packages\\optuna\\distributions.py:699: UserWarning:\n",
      "\n",
      "The distribution is specified by [5, 20] and step=60, but the range is not divisible by `step`. It will be replaced by [5, 5].\n",
      "\n",
      "C:\\Users\\PC\\AppData\\Local\\Temp\\ipykernel_23812\\4108633504.py:8: FutureWarning:\n",
      "\n",
      "suggest_int() got {'step'} as positional arguments but they were expected to be given as keyword arguments.\n",
      "\n",
      "c:\\Users\\PC\\AppData\\Local\\Programs\\Python\\Python311\\Lib\\site-packages\\optuna\\distributions.py:699: UserWarning:\n",
      "\n",
      "The distribution is specified by [1, 5] and step=10, but the range is not divisible by `step`. It will be replaced by [1, 1].\n",
      "\n",
      "[I 2025-05-16 02:30:00,909] Trial 7 finished with values: [0.6767827717348881, 0.613960007738758, 0.7294311269164213] and parameters: {'n_estimators': 100, 'max_depth': 5, 'min_samples_split': 8, 'min_samples_leaf': 1}.\n",
      "C:\\Users\\PC\\AppData\\Local\\Temp\\ipykernel_23812\\4108633504.py:5: FutureWarning:\n",
      "\n",
      "suggest_int() got {'step'} as positional arguments but they were expected to be given as keyword arguments.\n",
      "\n",
      "c:\\Users\\PC\\AppData\\Local\\Programs\\Python\\Python311\\Lib\\site-packages\\optuna\\distributions.py:699: UserWarning:\n",
      "\n",
      "The distribution is specified by [100, 300] and step=600, but the range is not divisible by `step`. It will be replaced by [100, 100].\n",
      "\n",
      "C:\\Users\\PC\\AppData\\Local\\Temp\\ipykernel_23812\\4108633504.py:6: FutureWarning:\n",
      "\n",
      "suggest_int() got {'step'} as positional arguments but they were expected to be given as keyword arguments.\n",
      "\n",
      "c:\\Users\\PC\\AppData\\Local\\Programs\\Python\\Python311\\Lib\\site-packages\\optuna\\distributions.py:699: UserWarning:\n",
      "\n",
      "The distribution is specified by [5, 20] and step=60, but the range is not divisible by `step`. It will be replaced by [5, 5].\n",
      "\n",
      "C:\\Users\\PC\\AppData\\Local\\Temp\\ipykernel_23812\\4108633504.py:8: FutureWarning:\n",
      "\n",
      "suggest_int() got {'step'} as positional arguments but they were expected to be given as keyword arguments.\n",
      "\n",
      "c:\\Users\\PC\\AppData\\Local\\Programs\\Python\\Python311\\Lib\\site-packages\\optuna\\distributions.py:699: UserWarning:\n",
      "\n",
      "The distribution is specified by [1, 5] and step=10, but the range is not divisible by `step`. It will be replaced by [1, 1].\n",
      "\n",
      "[I 2025-05-16 02:30:31,760] Trial 8 finished with values: [0.675831763262116, 0.6140254599837152, 0.7298123434636276] and parameters: {'n_estimators': 100, 'max_depth': 5, 'min_samples_split': 6, 'min_samples_leaf': 1}.\n",
      "C:\\Users\\PC\\AppData\\Local\\Temp\\ipykernel_23812\\4108633504.py:5: FutureWarning:\n",
      "\n",
      "suggest_int() got {'step'} as positional arguments but they were expected to be given as keyword arguments.\n",
      "\n",
      "c:\\Users\\PC\\AppData\\Local\\Programs\\Python\\Python311\\Lib\\site-packages\\optuna\\distributions.py:699: UserWarning:\n",
      "\n",
      "The distribution is specified by [100, 300] and step=600, but the range is not divisible by `step`. It will be replaced by [100, 100].\n",
      "\n",
      "C:\\Users\\PC\\AppData\\Local\\Temp\\ipykernel_23812\\4108633504.py:6: FutureWarning:\n",
      "\n",
      "suggest_int() got {'step'} as positional arguments but they were expected to be given as keyword arguments.\n",
      "\n",
      "c:\\Users\\PC\\AppData\\Local\\Programs\\Python\\Python311\\Lib\\site-packages\\optuna\\distributions.py:699: UserWarning:\n",
      "\n",
      "The distribution is specified by [5, 20] and step=60, but the range is not divisible by `step`. It will be replaced by [5, 5].\n",
      "\n",
      "C:\\Users\\PC\\AppData\\Local\\Temp\\ipykernel_23812\\4108633504.py:8: FutureWarning:\n",
      "\n",
      "suggest_int() got {'step'} as positional arguments but they were expected to be given as keyword arguments.\n",
      "\n",
      "c:\\Users\\PC\\AppData\\Local\\Programs\\Python\\Python311\\Lib\\site-packages\\optuna\\distributions.py:699: UserWarning:\n",
      "\n",
      "The distribution is specified by [1, 5] and step=10, but the range is not divisible by `step`. It will be replaced by [1, 1].\n",
      "\n",
      "[I 2025-05-16 02:31:00,244] Trial 9 finished with values: [0.6743190246639812, 0.6137117113619587, 0.7295411792351748] and parameters: {'n_estimators': 100, 'max_depth': 5, 'min_samples_split': 8, 'min_samples_leaf': 1}.\n",
      "C:\\Users\\PC\\AppData\\Local\\Temp\\ipykernel_23812\\4108633504.py:5: FutureWarning:\n",
      "\n",
      "suggest_int() got {'step'} as positional arguments but they were expected to be given as keyword arguments.\n",
      "\n",
      "c:\\Users\\PC\\AppData\\Local\\Programs\\Python\\Python311\\Lib\\site-packages\\optuna\\distributions.py:699: UserWarning:\n",
      "\n",
      "The distribution is specified by [100, 300] and step=600, but the range is not divisible by `step`. It will be replaced by [100, 100].\n",
      "\n",
      "C:\\Users\\PC\\AppData\\Local\\Temp\\ipykernel_23812\\4108633504.py:6: FutureWarning:\n",
      "\n",
      "suggest_int() got {'step'} as positional arguments but they were expected to be given as keyword arguments.\n",
      "\n",
      "c:\\Users\\PC\\AppData\\Local\\Programs\\Python\\Python311\\Lib\\site-packages\\optuna\\distributions.py:699: UserWarning:\n",
      "\n",
      "The distribution is specified by [5, 20] and step=60, but the range is not divisible by `step`. It will be replaced by [5, 5].\n",
      "\n",
      "C:\\Users\\PC\\AppData\\Local\\Temp\\ipykernel_23812\\4108633504.py:8: FutureWarning:\n",
      "\n",
      "suggest_int() got {'step'} as positional arguments but they were expected to be given as keyword arguments.\n",
      "\n",
      "c:\\Users\\PC\\AppData\\Local\\Programs\\Python\\Python311\\Lib\\site-packages\\optuna\\distributions.py:699: UserWarning:\n",
      "\n",
      "The distribution is specified by [1, 5] and step=10, but the range is not divisible by `step`. It will be replaced by [1, 1].\n",
      "\n",
      "[I 2025-05-16 02:31:28,766] Trial 10 finished with values: [0.6735996055452148, 0.6135189722690051, 0.7292862226145532] and parameters: {'n_estimators': 100, 'max_depth': 5, 'min_samples_split': 7, 'min_samples_leaf': 1}.\n",
      "C:\\Users\\PC\\AppData\\Local\\Temp\\ipykernel_23812\\4108633504.py:5: FutureWarning:\n",
      "\n",
      "suggest_int() got {'step'} as positional arguments but they were expected to be given as keyword arguments.\n",
      "\n",
      "c:\\Users\\PC\\AppData\\Local\\Programs\\Python\\Python311\\Lib\\site-packages\\optuna\\distributions.py:699: UserWarning:\n",
      "\n",
      "The distribution is specified by [100, 300] and step=600, but the range is not divisible by `step`. It will be replaced by [100, 100].\n",
      "\n",
      "C:\\Users\\PC\\AppData\\Local\\Temp\\ipykernel_23812\\4108633504.py:6: FutureWarning:\n",
      "\n",
      "suggest_int() got {'step'} as positional arguments but they were expected to be given as keyword arguments.\n",
      "\n",
      "c:\\Users\\PC\\AppData\\Local\\Programs\\Python\\Python311\\Lib\\site-packages\\optuna\\distributions.py:699: UserWarning:\n",
      "\n",
      "The distribution is specified by [5, 20] and step=60, but the range is not divisible by `step`. It will be replaced by [5, 5].\n",
      "\n",
      "C:\\Users\\PC\\AppData\\Local\\Temp\\ipykernel_23812\\4108633504.py:8: FutureWarning:\n",
      "\n",
      "suggest_int() got {'step'} as positional arguments but they were expected to be given as keyword arguments.\n",
      "\n",
      "c:\\Users\\PC\\AppData\\Local\\Programs\\Python\\Python311\\Lib\\site-packages\\optuna\\distributions.py:699: UserWarning:\n",
      "\n",
      "The distribution is specified by [1, 5] and step=10, but the range is not divisible by `step`. It will be replaced by [1, 1].\n",
      "\n",
      "[I 2025-05-16 02:31:56,850] Trial 11 finished with values: [0.6756642197461246, 0.613895676371949, 0.7295965165862397] and parameters: {'n_estimators': 100, 'max_depth': 5, 'min_samples_split': 3, 'min_samples_leaf': 1}.\n",
      "C:\\Users\\PC\\AppData\\Local\\Temp\\ipykernel_23812\\4108633504.py:5: FutureWarning:\n",
      "\n",
      "suggest_int() got {'step'} as positional arguments but they were expected to be given as keyword arguments.\n",
      "\n",
      "c:\\Users\\PC\\AppData\\Local\\Programs\\Python\\Python311\\Lib\\site-packages\\optuna\\distributions.py:699: UserWarning:\n",
      "\n",
      "The distribution is specified by [100, 300] and step=600, but the range is not divisible by `step`. It will be replaced by [100, 100].\n",
      "\n",
      "C:\\Users\\PC\\AppData\\Local\\Temp\\ipykernel_23812\\4108633504.py:6: FutureWarning:\n",
      "\n",
      "suggest_int() got {'step'} as positional arguments but they were expected to be given as keyword arguments.\n",
      "\n",
      "c:\\Users\\PC\\AppData\\Local\\Programs\\Python\\Python311\\Lib\\site-packages\\optuna\\distributions.py:699: UserWarning:\n",
      "\n",
      "The distribution is specified by [5, 20] and step=60, but the range is not divisible by `step`. It will be replaced by [5, 5].\n",
      "\n",
      "C:\\Users\\PC\\AppData\\Local\\Temp\\ipykernel_23812\\4108633504.py:8: FutureWarning:\n",
      "\n",
      "suggest_int() got {'step'} as positional arguments but they were expected to be given as keyword arguments.\n",
      "\n",
      "c:\\Users\\PC\\AppData\\Local\\Programs\\Python\\Python311\\Lib\\site-packages\\optuna\\distributions.py:699: UserWarning:\n",
      "\n",
      "The distribution is specified by [1, 5] and step=10, but the range is not divisible by `step`. It will be replaced by [1, 1].\n",
      "\n",
      "[I 2025-05-16 02:32:22,717] Trial 12 finished with values: [0.6747476958502323, 0.6137270960195023, 0.7294493840871981] and parameters: {'n_estimators': 100, 'max_depth': 5, 'min_samples_split': 3, 'min_samples_leaf': 1}.\n",
      "C:\\Users\\PC\\AppData\\Local\\Temp\\ipykernel_23812\\4108633504.py:5: FutureWarning:\n",
      "\n",
      "suggest_int() got {'step'} as positional arguments but they were expected to be given as keyword arguments.\n",
      "\n",
      "c:\\Users\\PC\\AppData\\Local\\Programs\\Python\\Python311\\Lib\\site-packages\\optuna\\distributions.py:699: UserWarning:\n",
      "\n",
      "The distribution is specified by [100, 300] and step=600, but the range is not divisible by `step`. It will be replaced by [100, 100].\n",
      "\n",
      "C:\\Users\\PC\\AppData\\Local\\Temp\\ipykernel_23812\\4108633504.py:6: FutureWarning:\n",
      "\n",
      "suggest_int() got {'step'} as positional arguments but they were expected to be given as keyword arguments.\n",
      "\n",
      "c:\\Users\\PC\\AppData\\Local\\Programs\\Python\\Python311\\Lib\\site-packages\\optuna\\distributions.py:699: UserWarning:\n",
      "\n",
      "The distribution is specified by [5, 20] and step=60, but the range is not divisible by `step`. It will be replaced by [5, 5].\n",
      "\n",
      "C:\\Users\\PC\\AppData\\Local\\Temp\\ipykernel_23812\\4108633504.py:8: FutureWarning:\n",
      "\n",
      "suggest_int() got {'step'} as positional arguments but they were expected to be given as keyword arguments.\n",
      "\n",
      "c:\\Users\\PC\\AppData\\Local\\Programs\\Python\\Python311\\Lib\\site-packages\\optuna\\distributions.py:699: UserWarning:\n",
      "\n",
      "The distribution is specified by [1, 5] and step=10, but the range is not divisible by `step`. It will be replaced by [1, 1].\n",
      "\n",
      "[I 2025-05-16 02:32:48,971] Trial 13 finished with values: [0.6739051230607622, 0.6133853486264433, 0.728900504470288] and parameters: {'n_estimators': 100, 'max_depth': 5, 'min_samples_split': 6, 'min_samples_leaf': 1}.\n",
      "C:\\Users\\PC\\AppData\\Local\\Temp\\ipykernel_23812\\4108633504.py:5: FutureWarning:\n",
      "\n",
      "suggest_int() got {'step'} as positional arguments but they were expected to be given as keyword arguments.\n",
      "\n",
      "c:\\Users\\PC\\AppData\\Local\\Programs\\Python\\Python311\\Lib\\site-packages\\optuna\\distributions.py:699: UserWarning:\n",
      "\n",
      "The distribution is specified by [100, 300] and step=600, but the range is not divisible by `step`. It will be replaced by [100, 100].\n",
      "\n",
      "C:\\Users\\PC\\AppData\\Local\\Temp\\ipykernel_23812\\4108633504.py:6: FutureWarning:\n",
      "\n",
      "suggest_int() got {'step'} as positional arguments but they were expected to be given as keyword arguments.\n",
      "\n",
      "c:\\Users\\PC\\AppData\\Local\\Programs\\Python\\Python311\\Lib\\site-packages\\optuna\\distributions.py:699: UserWarning:\n",
      "\n",
      "The distribution is specified by [5, 20] and step=60, but the range is not divisible by `step`. It will be replaced by [5, 5].\n",
      "\n",
      "C:\\Users\\PC\\AppData\\Local\\Temp\\ipykernel_23812\\4108633504.py:8: FutureWarning:\n",
      "\n",
      "suggest_int() got {'step'} as positional arguments but they were expected to be given as keyword arguments.\n",
      "\n",
      "c:\\Users\\PC\\AppData\\Local\\Programs\\Python\\Python311\\Lib\\site-packages\\optuna\\distributions.py:699: UserWarning:\n",
      "\n",
      "The distribution is specified by [1, 5] and step=10, but the range is not divisible by `step`. It will be replaced by [1, 1].\n",
      "\n",
      "[I 2025-05-16 02:33:17,530] Trial 14 finished with values: [0.6751714868182646, 0.6139755079533504, 0.7299029991381711] and parameters: {'n_estimators': 100, 'max_depth': 5, 'min_samples_split': 4, 'min_samples_leaf': 1}.\n",
      "C:\\Users\\PC\\AppData\\Local\\Temp\\ipykernel_23812\\4108633504.py:5: FutureWarning:\n",
      "\n",
      "suggest_int() got {'step'} as positional arguments but they were expected to be given as keyword arguments.\n",
      "\n",
      "c:\\Users\\PC\\AppData\\Local\\Programs\\Python\\Python311\\Lib\\site-packages\\optuna\\distributions.py:699: UserWarning:\n",
      "\n",
      "The distribution is specified by [100, 300] and step=600, but the range is not divisible by `step`. It will be replaced by [100, 100].\n",
      "\n",
      "C:\\Users\\PC\\AppData\\Local\\Temp\\ipykernel_23812\\4108633504.py:6: FutureWarning:\n",
      "\n",
      "suggest_int() got {'step'} as positional arguments but they were expected to be given as keyword arguments.\n",
      "\n",
      "c:\\Users\\PC\\AppData\\Local\\Programs\\Python\\Python311\\Lib\\site-packages\\optuna\\distributions.py:699: UserWarning:\n",
      "\n",
      "The distribution is specified by [5, 20] and step=60, but the range is not divisible by `step`. It will be replaced by [5, 5].\n",
      "\n",
      "C:\\Users\\PC\\AppData\\Local\\Temp\\ipykernel_23812\\4108633504.py:8: FutureWarning:\n",
      "\n",
      "suggest_int() got {'step'} as positional arguments but they were expected to be given as keyword arguments.\n",
      "\n",
      "c:\\Users\\PC\\AppData\\Local\\Programs\\Python\\Python311\\Lib\\site-packages\\optuna\\distributions.py:699: UserWarning:\n",
      "\n",
      "The distribution is specified by [1, 5] and step=10, but the range is not divisible by `step`. It will be replaced by [1, 1].\n",
      "\n",
      "[I 2025-05-16 02:33:50,683] Trial 15 finished with values: [0.6739198987138686, 0.6137806934146959, 0.7297835069479095] and parameters: {'n_estimators': 100, 'max_depth': 5, 'min_samples_split': 5, 'min_samples_leaf': 1}.\n",
      "C:\\Users\\PC\\AppData\\Local\\Temp\\ipykernel_23812\\4108633504.py:5: FutureWarning:\n",
      "\n",
      "suggest_int() got {'step'} as positional arguments but they were expected to be given as keyword arguments.\n",
      "\n",
      "c:\\Users\\PC\\AppData\\Local\\Programs\\Python\\Python311\\Lib\\site-packages\\optuna\\distributions.py:699: UserWarning:\n",
      "\n",
      "The distribution is specified by [100, 300] and step=600, but the range is not divisible by `step`. It will be replaced by [100, 100].\n",
      "\n",
      "C:\\Users\\PC\\AppData\\Local\\Temp\\ipykernel_23812\\4108633504.py:6: FutureWarning:\n",
      "\n",
      "suggest_int() got {'step'} as positional arguments but they were expected to be given as keyword arguments.\n",
      "\n",
      "c:\\Users\\PC\\AppData\\Local\\Programs\\Python\\Python311\\Lib\\site-packages\\optuna\\distributions.py:699: UserWarning:\n",
      "\n",
      "The distribution is specified by [5, 20] and step=60, but the range is not divisible by `step`. It will be replaced by [5, 5].\n",
      "\n",
      "C:\\Users\\PC\\AppData\\Local\\Temp\\ipykernel_23812\\4108633504.py:8: FutureWarning:\n",
      "\n",
      "suggest_int() got {'step'} as positional arguments but they were expected to be given as keyword arguments.\n",
      "\n",
      "c:\\Users\\PC\\AppData\\Local\\Programs\\Python\\Python311\\Lib\\site-packages\\optuna\\distributions.py:699: UserWarning:\n",
      "\n",
      "The distribution is specified by [1, 5] and step=10, but the range is not divisible by `step`. It will be replaced by [1, 1].\n",
      "\n",
      "[I 2025-05-16 02:34:23,032] Trial 16 finished with values: [0.6758317527001869, 0.6140970749290416, 0.7299902822461741] and parameters: {'n_estimators': 100, 'max_depth': 5, 'min_samples_split': 5, 'min_samples_leaf': 1}.\n",
      "C:\\Users\\PC\\AppData\\Local\\Temp\\ipykernel_23812\\4108633504.py:5: FutureWarning:\n",
      "\n",
      "suggest_int() got {'step'} as positional arguments but they were expected to be given as keyword arguments.\n",
      "\n",
      "c:\\Users\\PC\\AppData\\Local\\Programs\\Python\\Python311\\Lib\\site-packages\\optuna\\distributions.py:699: UserWarning:\n",
      "\n",
      "The distribution is specified by [100, 300] and step=600, but the range is not divisible by `step`. It will be replaced by [100, 100].\n",
      "\n",
      "C:\\Users\\PC\\AppData\\Local\\Temp\\ipykernel_23812\\4108633504.py:6: FutureWarning:\n",
      "\n",
      "suggest_int() got {'step'} as positional arguments but they were expected to be given as keyword arguments.\n",
      "\n",
      "c:\\Users\\PC\\AppData\\Local\\Programs\\Python\\Python311\\Lib\\site-packages\\optuna\\distributions.py:699: UserWarning:\n",
      "\n",
      "The distribution is specified by [5, 20] and step=60, but the range is not divisible by `step`. It will be replaced by [5, 5].\n",
      "\n",
      "C:\\Users\\PC\\AppData\\Local\\Temp\\ipykernel_23812\\4108633504.py:8: FutureWarning:\n",
      "\n",
      "suggest_int() got {'step'} as positional arguments but they were expected to be given as keyword arguments.\n",
      "\n",
      "c:\\Users\\PC\\AppData\\Local\\Programs\\Python\\Python311\\Lib\\site-packages\\optuna\\distributions.py:699: UserWarning:\n",
      "\n",
      "The distribution is specified by [1, 5] and step=10, but the range is not divisible by `step`. It will be replaced by [1, 1].\n",
      "\n",
      "[I 2025-05-16 02:34:52,889] Trial 17 finished with values: [0.6757233540443374, 0.6138766778221842, 0.7295418621457836] and parameters: {'n_estimators': 100, 'max_depth': 5, 'min_samples_split': 9, 'min_samples_leaf': 1}.\n",
      "C:\\Users\\PC\\AppData\\Local\\Temp\\ipykernel_23812\\4108633504.py:5: FutureWarning:\n",
      "\n",
      "suggest_int() got {'step'} as positional arguments but they were expected to be given as keyword arguments.\n",
      "\n",
      "c:\\Users\\PC\\AppData\\Local\\Programs\\Python\\Python311\\Lib\\site-packages\\optuna\\distributions.py:699: UserWarning:\n",
      "\n",
      "The distribution is specified by [100, 300] and step=600, but the range is not divisible by `step`. It will be replaced by [100, 100].\n",
      "\n",
      "C:\\Users\\PC\\AppData\\Local\\Temp\\ipykernel_23812\\4108633504.py:6: FutureWarning:\n",
      "\n",
      "suggest_int() got {'step'} as positional arguments but they were expected to be given as keyword arguments.\n",
      "\n",
      "c:\\Users\\PC\\AppData\\Local\\Programs\\Python\\Python311\\Lib\\site-packages\\optuna\\distributions.py:699: UserWarning:\n",
      "\n",
      "The distribution is specified by [5, 20] and step=60, but the range is not divisible by `step`. It will be replaced by [5, 5].\n",
      "\n",
      "C:\\Users\\PC\\AppData\\Local\\Temp\\ipykernel_23812\\4108633504.py:8: FutureWarning:\n",
      "\n",
      "suggest_int() got {'step'} as positional arguments but they were expected to be given as keyword arguments.\n",
      "\n",
      "c:\\Users\\PC\\AppData\\Local\\Programs\\Python\\Python311\\Lib\\site-packages\\optuna\\distributions.py:699: UserWarning:\n",
      "\n",
      "The distribution is specified by [1, 5] and step=10, but the range is not divisible by `step`. It will be replaced by [1, 1].\n",
      "\n",
      "[I 2025-05-16 02:35:23,556] Trial 18 finished with values: [0.6752355197877219, 0.6138353599347155, 0.7295549677522649] and parameters: {'n_estimators': 100, 'max_depth': 5, 'min_samples_split': 2, 'min_samples_leaf': 1}.\n",
      "C:\\Users\\PC\\AppData\\Local\\Temp\\ipykernel_23812\\4108633504.py:5: FutureWarning:\n",
      "\n",
      "suggest_int() got {'step'} as positional arguments but they were expected to be given as keyword arguments.\n",
      "\n",
      "c:\\Users\\PC\\AppData\\Local\\Programs\\Python\\Python311\\Lib\\site-packages\\optuna\\distributions.py:699: UserWarning:\n",
      "\n",
      "The distribution is specified by [100, 300] and step=600, but the range is not divisible by `step`. It will be replaced by [100, 100].\n",
      "\n",
      "C:\\Users\\PC\\AppData\\Local\\Temp\\ipykernel_23812\\4108633504.py:6: FutureWarning:\n",
      "\n",
      "suggest_int() got {'step'} as positional arguments but they were expected to be given as keyword arguments.\n",
      "\n",
      "c:\\Users\\PC\\AppData\\Local\\Programs\\Python\\Python311\\Lib\\site-packages\\optuna\\distributions.py:699: UserWarning:\n",
      "\n",
      "The distribution is specified by [5, 20] and step=60, but the range is not divisible by `step`. It will be replaced by [5, 5].\n",
      "\n",
      "C:\\Users\\PC\\AppData\\Local\\Temp\\ipykernel_23812\\4108633504.py:8: FutureWarning:\n",
      "\n",
      "suggest_int() got {'step'} as positional arguments but they were expected to be given as keyword arguments.\n",
      "\n",
      "c:\\Users\\PC\\AppData\\Local\\Programs\\Python\\Python311\\Lib\\site-packages\\optuna\\distributions.py:699: UserWarning:\n",
      "\n",
      "The distribution is specified by [1, 5] and step=10, but the range is not divisible by `step`. It will be replaced by [1, 1].\n",
      "\n",
      "[I 2025-05-16 02:35:55,155] Trial 19 finished with values: [0.6747822157549439, 0.6136613270168152, 0.7292914843886555] and parameters: {'n_estimators': 100, 'max_depth': 5, 'min_samples_split': 3, 'min_samples_leaf': 1}.\n",
      "C:\\Users\\PC\\AppData\\Local\\Temp\\ipykernel_23812\\4108633504.py:5: FutureWarning:\n",
      "\n",
      "suggest_int() got {'step'} as positional arguments but they were expected to be given as keyword arguments.\n",
      "\n",
      "c:\\Users\\PC\\AppData\\Local\\Programs\\Python\\Python311\\Lib\\site-packages\\optuna\\distributions.py:699: UserWarning:\n",
      "\n",
      "The distribution is specified by [100, 300] and step=600, but the range is not divisible by `step`. It will be replaced by [100, 100].\n",
      "\n",
      "C:\\Users\\PC\\AppData\\Local\\Temp\\ipykernel_23812\\4108633504.py:6: FutureWarning:\n",
      "\n",
      "suggest_int() got {'step'} as positional arguments but they were expected to be given as keyword arguments.\n",
      "\n",
      "c:\\Users\\PC\\AppData\\Local\\Programs\\Python\\Python311\\Lib\\site-packages\\optuna\\distributions.py:699: UserWarning:\n",
      "\n",
      "The distribution is specified by [5, 20] and step=60, but the range is not divisible by `step`. It will be replaced by [5, 5].\n",
      "\n",
      "C:\\Users\\PC\\AppData\\Local\\Temp\\ipykernel_23812\\4108633504.py:8: FutureWarning:\n",
      "\n",
      "suggest_int() got {'step'} as positional arguments but they were expected to be given as keyword arguments.\n",
      "\n",
      "c:\\Users\\PC\\AppData\\Local\\Programs\\Python\\Python311\\Lib\\site-packages\\optuna\\distributions.py:699: UserWarning:\n",
      "\n",
      "The distribution is specified by [1, 5] and step=10, but the range is not divisible by `step`. It will be replaced by [1, 1].\n",
      "\n",
      "[I 2025-05-16 02:36:24,312] Trial 20 finished with values: [0.6737228199166603, 0.6134082989069675, 0.7289871601458761] and parameters: {'n_estimators': 100, 'max_depth': 5, 'min_samples_split': 5, 'min_samples_leaf': 1}.\n",
      "C:\\Users\\PC\\AppData\\Local\\Temp\\ipykernel_23812\\4108633504.py:5: FutureWarning:\n",
      "\n",
      "suggest_int() got {'step'} as positional arguments but they were expected to be given as keyword arguments.\n",
      "\n",
      "c:\\Users\\PC\\AppData\\Local\\Programs\\Python\\Python311\\Lib\\site-packages\\optuna\\distributions.py:699: UserWarning:\n",
      "\n",
      "The distribution is specified by [100, 300] and step=600, but the range is not divisible by `step`. It will be replaced by [100, 100].\n",
      "\n",
      "C:\\Users\\PC\\AppData\\Local\\Temp\\ipykernel_23812\\4108633504.py:6: FutureWarning:\n",
      "\n",
      "suggest_int() got {'step'} as positional arguments but they were expected to be given as keyword arguments.\n",
      "\n",
      "c:\\Users\\PC\\AppData\\Local\\Programs\\Python\\Python311\\Lib\\site-packages\\optuna\\distributions.py:699: UserWarning:\n",
      "\n",
      "The distribution is specified by [5, 20] and step=60, but the range is not divisible by `step`. It will be replaced by [5, 5].\n",
      "\n",
      "C:\\Users\\PC\\AppData\\Local\\Temp\\ipykernel_23812\\4108633504.py:8: FutureWarning:\n",
      "\n",
      "suggest_int() got {'step'} as positional arguments but they were expected to be given as keyword arguments.\n",
      "\n",
      "c:\\Users\\PC\\AppData\\Local\\Programs\\Python\\Python311\\Lib\\site-packages\\optuna\\distributions.py:699: UserWarning:\n",
      "\n",
      "The distribution is specified by [1, 5] and step=10, but the range is not divisible by `step`. It will be replaced by [1, 1].\n",
      "\n",
      "[I 2025-05-16 02:36:52,209] Trial 21 finished with values: [0.6759007409139797, 0.6139208411399772, 0.7295856549822438] and parameters: {'n_estimators': 100, 'max_depth': 5, 'min_samples_split': 7, 'min_samples_leaf': 1}.\n",
      "C:\\Users\\PC\\AppData\\Local\\Temp\\ipykernel_23812\\4108633504.py:5: FutureWarning:\n",
      "\n",
      "suggest_int() got {'step'} as positional arguments but they were expected to be given as keyword arguments.\n",
      "\n",
      "c:\\Users\\PC\\AppData\\Local\\Programs\\Python\\Python311\\Lib\\site-packages\\optuna\\distributions.py:699: UserWarning:\n",
      "\n",
      "The distribution is specified by [100, 300] and step=600, but the range is not divisible by `step`. It will be replaced by [100, 100].\n",
      "\n",
      "C:\\Users\\PC\\AppData\\Local\\Temp\\ipykernel_23812\\4108633504.py:6: FutureWarning:\n",
      "\n",
      "suggest_int() got {'step'} as positional arguments but they were expected to be given as keyword arguments.\n",
      "\n",
      "c:\\Users\\PC\\AppData\\Local\\Programs\\Python\\Python311\\Lib\\site-packages\\optuna\\distributions.py:699: UserWarning:\n",
      "\n",
      "The distribution is specified by [5, 20] and step=60, but the range is not divisible by `step`. It will be replaced by [5, 5].\n",
      "\n",
      "C:\\Users\\PC\\AppData\\Local\\Temp\\ipykernel_23812\\4108633504.py:8: FutureWarning:\n",
      "\n",
      "suggest_int() got {'step'} as positional arguments but they were expected to be given as keyword arguments.\n",
      "\n",
      "c:\\Users\\PC\\AppData\\Local\\Programs\\Python\\Python311\\Lib\\site-packages\\optuna\\distributions.py:699: UserWarning:\n",
      "\n",
      "The distribution is specified by [1, 5] and step=10, but the range is not divisible by `step`. It will be replaced by [1, 1].\n",
      "\n",
      "[I 2025-05-16 02:37:19,440] Trial 22 finished with values: [0.6746738106648158, 0.6137141224594201, 0.729436105021218] and parameters: {'n_estimators': 100, 'max_depth': 5, 'min_samples_split': 3, 'min_samples_leaf': 1}.\n",
      "C:\\Users\\PC\\AppData\\Local\\Temp\\ipykernel_23812\\4108633504.py:5: FutureWarning:\n",
      "\n",
      "suggest_int() got {'step'} as positional arguments but they were expected to be given as keyword arguments.\n",
      "\n",
      "c:\\Users\\PC\\AppData\\Local\\Programs\\Python\\Python311\\Lib\\site-packages\\optuna\\distributions.py:699: UserWarning:\n",
      "\n",
      "The distribution is specified by [100, 300] and step=600, but the range is not divisible by `step`. It will be replaced by [100, 100].\n",
      "\n",
      "C:\\Users\\PC\\AppData\\Local\\Temp\\ipykernel_23812\\4108633504.py:6: FutureWarning:\n",
      "\n",
      "suggest_int() got {'step'} as positional arguments but they were expected to be given as keyword arguments.\n",
      "\n",
      "c:\\Users\\PC\\AppData\\Local\\Programs\\Python\\Python311\\Lib\\site-packages\\optuna\\distributions.py:699: UserWarning:\n",
      "\n",
      "The distribution is specified by [5, 20] and step=60, but the range is not divisible by `step`. It will be replaced by [5, 5].\n",
      "\n",
      "C:\\Users\\PC\\AppData\\Local\\Temp\\ipykernel_23812\\4108633504.py:8: FutureWarning:\n",
      "\n",
      "suggest_int() got {'step'} as positional arguments but they were expected to be given as keyword arguments.\n",
      "\n",
      "c:\\Users\\PC\\AppData\\Local\\Programs\\Python\\Python311\\Lib\\site-packages\\optuna\\distributions.py:699: UserWarning:\n",
      "\n",
      "The distribution is specified by [1, 5] and step=10, but the range is not divisible by `step`. It will be replaced by [1, 1].\n",
      "\n",
      "[I 2025-05-16 02:37:49,145] Trial 23 finished with values: [0.6752404675051655, 0.6139076088008903, 0.729735501665728] and parameters: {'n_estimators': 100, 'max_depth': 5, 'min_samples_split': 6, 'min_samples_leaf': 1}.\n",
      "C:\\Users\\PC\\AppData\\Local\\Temp\\ipykernel_23812\\4108633504.py:5: FutureWarning:\n",
      "\n",
      "suggest_int() got {'step'} as positional arguments but they were expected to be given as keyword arguments.\n",
      "\n",
      "c:\\Users\\PC\\AppData\\Local\\Programs\\Python\\Python311\\Lib\\site-packages\\optuna\\distributions.py:699: UserWarning:\n",
      "\n",
      "The distribution is specified by [100, 300] and step=600, but the range is not divisible by `step`. It will be replaced by [100, 100].\n",
      "\n",
      "C:\\Users\\PC\\AppData\\Local\\Temp\\ipykernel_23812\\4108633504.py:6: FutureWarning:\n",
      "\n",
      "suggest_int() got {'step'} as positional arguments but they were expected to be given as keyword arguments.\n",
      "\n",
      "c:\\Users\\PC\\AppData\\Local\\Programs\\Python\\Python311\\Lib\\site-packages\\optuna\\distributions.py:699: UserWarning:\n",
      "\n",
      "The distribution is specified by [5, 20] and step=60, but the range is not divisible by `step`. It will be replaced by [5, 5].\n",
      "\n",
      "C:\\Users\\PC\\AppData\\Local\\Temp\\ipykernel_23812\\4108633504.py:8: FutureWarning:\n",
      "\n",
      "suggest_int() got {'step'} as positional arguments but they were expected to be given as keyword arguments.\n",
      "\n",
      "c:\\Users\\PC\\AppData\\Local\\Programs\\Python\\Python311\\Lib\\site-packages\\optuna\\distributions.py:699: UserWarning:\n",
      "\n",
      "The distribution is specified by [1, 5] and step=10, but the range is not divisible by `step`. It will be replaced by [1, 1].\n",
      "\n",
      "[I 2025-05-16 02:38:18,962] Trial 24 finished with values: [0.6758859567627694, 0.6140987119019146, 0.7299921279348224] and parameters: {'n_estimators': 100, 'max_depth': 5, 'min_samples_split': 9, 'min_samples_leaf': 1}.\n",
      "C:\\Users\\PC\\AppData\\Local\\Temp\\ipykernel_23812\\4108633504.py:5: FutureWarning:\n",
      "\n",
      "suggest_int() got {'step'} as positional arguments but they were expected to be given as keyword arguments.\n",
      "\n",
      "c:\\Users\\PC\\AppData\\Local\\Programs\\Python\\Python311\\Lib\\site-packages\\optuna\\distributions.py:699: UserWarning:\n",
      "\n",
      "The distribution is specified by [100, 300] and step=600, but the range is not divisible by `step`. It will be replaced by [100, 100].\n",
      "\n",
      "C:\\Users\\PC\\AppData\\Local\\Temp\\ipykernel_23812\\4108633504.py:6: FutureWarning:\n",
      "\n",
      "suggest_int() got {'step'} as positional arguments but they were expected to be given as keyword arguments.\n",
      "\n",
      "c:\\Users\\PC\\AppData\\Local\\Programs\\Python\\Python311\\Lib\\site-packages\\optuna\\distributions.py:699: UserWarning:\n",
      "\n",
      "The distribution is specified by [5, 20] and step=60, but the range is not divisible by `step`. It will be replaced by [5, 5].\n",
      "\n",
      "C:\\Users\\PC\\AppData\\Local\\Temp\\ipykernel_23812\\4108633504.py:8: FutureWarning:\n",
      "\n",
      "suggest_int() got {'step'} as positional arguments but they were expected to be given as keyword arguments.\n",
      "\n",
      "c:\\Users\\PC\\AppData\\Local\\Programs\\Python\\Python311\\Lib\\site-packages\\optuna\\distributions.py:699: UserWarning:\n",
      "\n",
      "The distribution is specified by [1, 5] and step=10, but the range is not divisible by `step`. It will be replaced by [1, 1].\n",
      "\n",
      "[I 2025-05-16 02:38:47,284] Trial 25 finished with values: [0.6747624933556058, 0.6137214887381297, 0.7294135230283914] and parameters: {'n_estimators': 100, 'max_depth': 5, 'min_samples_split': 2, 'min_samples_leaf': 1}.\n",
      "C:\\Users\\PC\\AppData\\Local\\Temp\\ipykernel_23812\\4108633504.py:5: FutureWarning:\n",
      "\n",
      "suggest_int() got {'step'} as positional arguments but they were expected to be given as keyword arguments.\n",
      "\n",
      "c:\\Users\\PC\\AppData\\Local\\Programs\\Python\\Python311\\Lib\\site-packages\\optuna\\distributions.py:699: UserWarning:\n",
      "\n",
      "The distribution is specified by [100, 300] and step=600, but the range is not divisible by `step`. It will be replaced by [100, 100].\n",
      "\n",
      "C:\\Users\\PC\\AppData\\Local\\Temp\\ipykernel_23812\\4108633504.py:6: FutureWarning:\n",
      "\n",
      "suggest_int() got {'step'} as positional arguments but they were expected to be given as keyword arguments.\n",
      "\n",
      "c:\\Users\\PC\\AppData\\Local\\Programs\\Python\\Python311\\Lib\\site-packages\\optuna\\distributions.py:699: UserWarning:\n",
      "\n",
      "The distribution is specified by [5, 20] and step=60, but the range is not divisible by `step`. It will be replaced by [5, 5].\n",
      "\n",
      "C:\\Users\\PC\\AppData\\Local\\Temp\\ipykernel_23812\\4108633504.py:8: FutureWarning:\n",
      "\n",
      "suggest_int() got {'step'} as positional arguments but they were expected to be given as keyword arguments.\n",
      "\n",
      "c:\\Users\\PC\\AppData\\Local\\Programs\\Python\\Python311\\Lib\\site-packages\\optuna\\distributions.py:699: UserWarning:\n",
      "\n",
      "The distribution is specified by [1, 5] and step=10, but the range is not divisible by `step`. It will be replaced by [1, 1].\n",
      "\n",
      "[I 2025-05-16 02:39:18,485] Trial 26 finished with values: [0.6747181359245142, 0.6136020147277345, 0.7291801863362166] and parameters: {'n_estimators': 100, 'max_depth': 5, 'min_samples_split': 7, 'min_samples_leaf': 1}.\n",
      "C:\\Users\\PC\\AppData\\Local\\Temp\\ipykernel_23812\\4108633504.py:5: FutureWarning:\n",
      "\n",
      "suggest_int() got {'step'} as positional arguments but they were expected to be given as keyword arguments.\n",
      "\n",
      "c:\\Users\\PC\\AppData\\Local\\Programs\\Python\\Python311\\Lib\\site-packages\\optuna\\distributions.py:699: UserWarning:\n",
      "\n",
      "The distribution is specified by [100, 300] and step=600, but the range is not divisible by `step`. It will be replaced by [100, 100].\n",
      "\n",
      "C:\\Users\\PC\\AppData\\Local\\Temp\\ipykernel_23812\\4108633504.py:6: FutureWarning:\n",
      "\n",
      "suggest_int() got {'step'} as positional arguments but they were expected to be given as keyword arguments.\n",
      "\n",
      "c:\\Users\\PC\\AppData\\Local\\Programs\\Python\\Python311\\Lib\\site-packages\\optuna\\distributions.py:699: UserWarning:\n",
      "\n",
      "The distribution is specified by [5, 20] and step=60, but the range is not divisible by `step`. It will be replaced by [5, 5].\n",
      "\n",
      "C:\\Users\\PC\\AppData\\Local\\Temp\\ipykernel_23812\\4108633504.py:8: FutureWarning:\n",
      "\n",
      "suggest_int() got {'step'} as positional arguments but they were expected to be given as keyword arguments.\n",
      "\n",
      "c:\\Users\\PC\\AppData\\Local\\Programs\\Python\\Python311\\Lib\\site-packages\\optuna\\distributions.py:699: UserWarning:\n",
      "\n",
      "The distribution is specified by [1, 5] and step=10, but the range is not divisible by `step`. It will be replaced by [1, 1].\n",
      "\n",
      "[I 2025-05-16 02:39:48,213] Trial 27 finished with values: [0.6748413178817636, 0.6137513967421475, 0.7294741704062252] and parameters: {'n_estimators': 100, 'max_depth': 5, 'min_samples_split': 6, 'min_samples_leaf': 1}.\n",
      "C:\\Users\\PC\\AppData\\Local\\Temp\\ipykernel_23812\\4108633504.py:5: FutureWarning:\n",
      "\n",
      "suggest_int() got {'step'} as positional arguments but they were expected to be given as keyword arguments.\n",
      "\n",
      "c:\\Users\\PC\\AppData\\Local\\Programs\\Python\\Python311\\Lib\\site-packages\\optuna\\distributions.py:699: UserWarning:\n",
      "\n",
      "The distribution is specified by [100, 300] and step=600, but the range is not divisible by `step`. It will be replaced by [100, 100].\n",
      "\n",
      "C:\\Users\\PC\\AppData\\Local\\Temp\\ipykernel_23812\\4108633504.py:6: FutureWarning:\n",
      "\n",
      "suggest_int() got {'step'} as positional arguments but they were expected to be given as keyword arguments.\n",
      "\n",
      "c:\\Users\\PC\\AppData\\Local\\Programs\\Python\\Python311\\Lib\\site-packages\\optuna\\distributions.py:699: UserWarning:\n",
      "\n",
      "The distribution is specified by [5, 20] and step=60, but the range is not divisible by `step`. It will be replaced by [5, 5].\n",
      "\n",
      "C:\\Users\\PC\\AppData\\Local\\Temp\\ipykernel_23812\\4108633504.py:8: FutureWarning:\n",
      "\n",
      "suggest_int() got {'step'} as positional arguments but they were expected to be given as keyword arguments.\n",
      "\n",
      "c:\\Users\\PC\\AppData\\Local\\Programs\\Python\\Python311\\Lib\\site-packages\\optuna\\distributions.py:699: UserWarning:\n",
      "\n",
      "The distribution is specified by [1, 5] and step=10, but the range is not divisible by `step`. It will be replaced by [1, 1].\n",
      "\n",
      "[I 2025-05-16 02:40:16,645] Trial 28 finished with values: [0.6756395802225164, 0.6139380548334356, 0.7297006706873937] and parameters: {'n_estimators': 100, 'max_depth': 5, 'min_samples_split': 4, 'min_samples_leaf': 1}.\n",
      "C:\\Users\\PC\\AppData\\Local\\Temp\\ipykernel_23812\\4108633504.py:5: FutureWarning:\n",
      "\n",
      "suggest_int() got {'step'} as positional arguments but they were expected to be given as keyword arguments.\n",
      "\n",
      "c:\\Users\\PC\\AppData\\Local\\Programs\\Python\\Python311\\Lib\\site-packages\\optuna\\distributions.py:699: UserWarning:\n",
      "\n",
      "The distribution is specified by [100, 300] and step=600, but the range is not divisible by `step`. It will be replaced by [100, 100].\n",
      "\n",
      "C:\\Users\\PC\\AppData\\Local\\Temp\\ipykernel_23812\\4108633504.py:6: FutureWarning:\n",
      "\n",
      "suggest_int() got {'step'} as positional arguments but they were expected to be given as keyword arguments.\n",
      "\n",
      "c:\\Users\\PC\\AppData\\Local\\Programs\\Python\\Python311\\Lib\\site-packages\\optuna\\distributions.py:699: UserWarning:\n",
      "\n",
      "The distribution is specified by [5, 20] and step=60, but the range is not divisible by `step`. It will be replaced by [5, 5].\n",
      "\n",
      "C:\\Users\\PC\\AppData\\Local\\Temp\\ipykernel_23812\\4108633504.py:8: FutureWarning:\n",
      "\n",
      "suggest_int() got {'step'} as positional arguments but they were expected to be given as keyword arguments.\n",
      "\n",
      "c:\\Users\\PC\\AppData\\Local\\Programs\\Python\\Python311\\Lib\\site-packages\\optuna\\distributions.py:699: UserWarning:\n",
      "\n",
      "The distribution is specified by [1, 5] and step=10, but the range is not divisible by `step`. It will be replaced by [1, 1].\n",
      "\n",
      "[I 2025-05-16 02:40:45,987] Trial 29 finished with values: [0.6751862593149324, 0.6137129547036796, 0.7293039564061514] and parameters: {'n_estimators': 100, 'max_depth': 5, 'min_samples_split': 6, 'min_samples_leaf': 1}.\n"
     ]
    },
    {
     "data": {
      "application/vnd.plotly.v1+json": {
       "config": {
        "plotlyServerURL": "https://plot.ly"
       },
       "data": [
        {
         "hovertemplate": "%{text}<extra>Trial</extra>",
         "marker": {
          "color": [
           1,
           2,
           3,
           4,
           5,
           6,
           8,
           9,
           10,
           11,
           12,
           13,
           14,
           15,
           16,
           17,
           18,
           19,
           20,
           22,
           23,
           25,
           26,
           27,
           28,
           29
          ],
          "colorbar": {
           "title": {
            "text": "Trial"
           }
          },
          "colorscale": [
           [
            0,
            "rgb(247,251,255)"
           ],
           [
            0.125,
            "rgb(222,235,247)"
           ],
           [
            0.25,
            "rgb(198,219,239)"
           ],
           [
            0.375,
            "rgb(158,202,225)"
           ],
           [
            0.5,
            "rgb(107,174,214)"
           ],
           [
            0.625,
            "rgb(66,146,198)"
           ],
           [
            0.75,
            "rgb(33,113,181)"
           ],
           [
            0.875,
            "rgb(8,81,156)"
           ],
           [
            1,
            "rgb(8,48,107)"
           ]
          ],
          "line": {
           "color": "Grey",
           "width": 0.5
          }
         },
         "mode": "markers",
         "showlegend": false,
         "text": [
          "{<br>  \"number\": 1,<br>  \"values\": [<br>    0.6750876980640612,<br>    0.6138533278657123,<br>    0.7296469686258454<br>  ],<br>  \"params\": {<br>    \"n_estimators\": 100,<br>    \"max_depth\": 5,<br>    \"min_samples_split\": 4,<br>    \"min_samples_leaf\": 1<br>  }<br>}",
          "{<br>  \"number\": 2,<br>  \"values\": [<br>    0.6745949718132829,<br>    0.6137565056241334,<br>    0.7295679911657869<br>  ],<br>  \"params\": {<br>    \"n_estimators\": 100,<br>    \"max_depth\": 5,<br>    \"min_samples_split\": 4,<br>    \"min_samples_leaf\": 1<br>  }<br>}",
          "{<br>  \"number\": 3,<br>  \"values\": [<br>    0.6752749490470084,<br>    0.6137995618846077,<br>    0.7294741286495796<br>  ],<br>  \"params\": {<br>    \"n_estimators\": 100,<br>    \"max_depth\": 5,<br>    \"min_samples_split\": 3,<br>    \"min_samples_leaf\": 1<br>  }<br>}",
          "{<br>  \"number\": 4,<br>  \"values\": [<br>    0.6755755179953018,<br>    0.6138401602426583,<br>    0.7294856522360211<br>  ],<br>  \"params\": {<br>    \"n_estimators\": 100,<br>    \"max_depth\": 5,<br>    \"min_samples_split\": 10,<br>    \"min_samples_leaf\": 1<br>  }<br>}",
          "{<br>  \"number\": 5,<br>  \"values\": [<br>    0.674456992836266,<br>    0.6136316214373139,<br>    0.7293101028432755<br>  ],<br>  \"params\": {<br>    \"n_estimators\": 100,<br>    \"max_depth\": 5,<br>    \"min_samples_split\": 2,<br>    \"min_samples_leaf\": 1<br>  }<br>}",
          "{<br>  \"number\": 6,<br>  \"values\": [<br>    0.6753685881961488,<br>    0.6136444501533729,<br>    0.7290985573566502<br>  ],<br>  \"params\": {<br>    \"n_estimators\": 100,<br>    \"max_depth\": 5,<br>    \"min_samples_split\": 4,<br>    \"min_samples_leaf\": 1<br>  }<br>}",
          "{<br>  \"number\": 8,<br>  \"values\": [<br>    0.675831763262116,<br>    0.6140254599837152,<br>    0.7298123434636276<br>  ],<br>  \"params\": {<br>    \"n_estimators\": 100,<br>    \"max_depth\": 5,<br>    \"min_samples_split\": 6,<br>    \"min_samples_leaf\": 1<br>  }<br>}",
          "{<br>  \"number\": 9,<br>  \"values\": [<br>    0.6743190246639812,<br>    0.6137117113619587,<br>    0.7295411792351748<br>  ],<br>  \"params\": {<br>    \"n_estimators\": 100,<br>    \"max_depth\": 5,<br>    \"min_samples_split\": 8,<br>    \"min_samples_leaf\": 1<br>  }<br>}",
          "{<br>  \"number\": 10,<br>  \"values\": [<br>    0.6735996055452148,<br>    0.6135189722690051,<br>    0.7292862226145532<br>  ],<br>  \"params\": {<br>    \"n_estimators\": 100,<br>    \"max_depth\": 5,<br>    \"min_samples_split\": 7,<br>    \"min_samples_leaf\": 1<br>  }<br>}",
          "{<br>  \"number\": 11,<br>  \"values\": [<br>    0.6756642197461246,<br>    0.613895676371949,<br>    0.7295965165862397<br>  ],<br>  \"params\": {<br>    \"n_estimators\": 100,<br>    \"max_depth\": 5,<br>    \"min_samples_split\": 3,<br>    \"min_samples_leaf\": 1<br>  }<br>}",
          "{<br>  \"number\": 12,<br>  \"values\": [<br>    0.6747476958502323,<br>    0.6137270960195023,<br>    0.7294493840871981<br>  ],<br>  \"params\": {<br>    \"n_estimators\": 100,<br>    \"max_depth\": 5,<br>    \"min_samples_split\": 3,<br>    \"min_samples_leaf\": 1<br>  }<br>}",
          "{<br>  \"number\": 13,<br>  \"values\": [<br>    0.6739051230607622,<br>    0.6133853486264433,<br>    0.728900504470288<br>  ],<br>  \"params\": {<br>    \"n_estimators\": 100,<br>    \"max_depth\": 5,<br>    \"min_samples_split\": 6,<br>    \"min_samples_leaf\": 1<br>  }<br>}",
          "{<br>  \"number\": 14,<br>  \"values\": [<br>    0.6751714868182646,<br>    0.6139755079533504,<br>    0.7299029991381711<br>  ],<br>  \"params\": {<br>    \"n_estimators\": 100,<br>    \"max_depth\": 5,<br>    \"min_samples_split\": 4,<br>    \"min_samples_leaf\": 1<br>  }<br>}",
          "{<br>  \"number\": 15,<br>  \"values\": [<br>    0.6739198987138686,<br>    0.6137806934146959,<br>    0.7297835069479095<br>  ],<br>  \"params\": {<br>    \"n_estimators\": 100,<br>    \"max_depth\": 5,<br>    \"min_samples_split\": 5,<br>    \"min_samples_leaf\": 1<br>  }<br>}",
          "{<br>  \"number\": 16,<br>  \"values\": [<br>    0.6758317527001869,<br>    0.6140970749290416,<br>    0.7299902822461741<br>  ],<br>  \"params\": {<br>    \"n_estimators\": 100,<br>    \"max_depth\": 5,<br>    \"min_samples_split\": 5,<br>    \"min_samples_leaf\": 1<br>  }<br>}",
          "{<br>  \"number\": 17,<br>  \"values\": [<br>    0.6757233540443374,<br>    0.6138766778221842,<br>    0.7295418621457836<br>  ],<br>  \"params\": {<br>    \"n_estimators\": 100,<br>    \"max_depth\": 5,<br>    \"min_samples_split\": 9,<br>    \"min_samples_leaf\": 1<br>  }<br>}",
          "{<br>  \"number\": 18,<br>  \"values\": [<br>    0.6752355197877219,<br>    0.6138353599347155,<br>    0.7295549677522649<br>  ],<br>  \"params\": {<br>    \"n_estimators\": 100,<br>    \"max_depth\": 5,<br>    \"min_samples_split\": 2,<br>    \"min_samples_leaf\": 1<br>  }<br>}",
          "{<br>  \"number\": 19,<br>  \"values\": [<br>    0.6747822157549439,<br>    0.6136613270168152,<br>    0.7292914843886555<br>  ],<br>  \"params\": {<br>    \"n_estimators\": 100,<br>    \"max_depth\": 5,<br>    \"min_samples_split\": 3,<br>    \"min_samples_leaf\": 1<br>  }<br>}",
          "{<br>  \"number\": 20,<br>  \"values\": [<br>    0.6737228199166603,<br>    0.6134082989069675,<br>    0.7289871601458761<br>  ],<br>  \"params\": {<br>    \"n_estimators\": 100,<br>    \"max_depth\": 5,<br>    \"min_samples_split\": 5,<br>    \"min_samples_leaf\": 1<br>  }<br>}",
          "{<br>  \"number\": 22,<br>  \"values\": [<br>    0.6746738106648158,<br>    0.6137141224594201,<br>    0.729436105021218<br>  ],<br>  \"params\": {<br>    \"n_estimators\": 100,<br>    \"max_depth\": 5,<br>    \"min_samples_split\": 3,<br>    \"min_samples_leaf\": 1<br>  }<br>}",
          "{<br>  \"number\": 23,<br>  \"values\": [<br>    0.6752404675051655,<br>    0.6139076088008903,<br>    0.729735501665728<br>  ],<br>  \"params\": {<br>    \"n_estimators\": 100,<br>    \"max_depth\": 5,<br>    \"min_samples_split\": 6,<br>    \"min_samples_leaf\": 1<br>  }<br>}",
          "{<br>  \"number\": 25,<br>  \"values\": [<br>    0.6747624933556058,<br>    0.6137214887381297,<br>    0.7294135230283914<br>  ],<br>  \"params\": {<br>    \"n_estimators\": 100,<br>    \"max_depth\": 5,<br>    \"min_samples_split\": 2,<br>    \"min_samples_leaf\": 1<br>  }<br>}",
          "{<br>  \"number\": 26,<br>  \"values\": [<br>    0.6747181359245142,<br>    0.6136020147277345,<br>    0.7291801863362166<br>  ],<br>  \"params\": {<br>    \"n_estimators\": 100,<br>    \"max_depth\": 5,<br>    \"min_samples_split\": 7,<br>    \"min_samples_leaf\": 1<br>  }<br>}",
          "{<br>  \"number\": 27,<br>  \"values\": [<br>    0.6748413178817636,<br>    0.6137513967421475,<br>    0.7294741704062252<br>  ],<br>  \"params\": {<br>    \"n_estimators\": 100,<br>    \"max_depth\": 5,<br>    \"min_samples_split\": 6,<br>    \"min_samples_leaf\": 1<br>  }<br>}",
          "{<br>  \"number\": 28,<br>  \"values\": [<br>    0.6756395802225164,<br>    0.6139380548334356,<br>    0.7297006706873937<br>  ],<br>  \"params\": {<br>    \"n_estimators\": 100,<br>    \"max_depth\": 5,<br>    \"min_samples_split\": 4,<br>    \"min_samples_leaf\": 1<br>  }<br>}",
          "{<br>  \"number\": 29,<br>  \"values\": [<br>    0.6751862593149324,<br>    0.6137129547036796,<br>    0.7293039564061514<br>  ],<br>  \"params\": {<br>    \"n_estimators\": 100,<br>    \"max_depth\": 5,<br>    \"min_samples_split\": 6,<br>    \"min_samples_leaf\": 1<br>  }<br>}"
         ],
         "type": "scatter3d",
         "x": [
          0.6750876980640612,
          0.6745949718132829,
          0.6752749490470084,
          0.6755755179953018,
          0.674456992836266,
          0.6753685881961488,
          0.675831763262116,
          0.6743190246639812,
          0.6735996055452148,
          0.6756642197461246,
          0.6747476958502323,
          0.6739051230607622,
          0.6751714868182646,
          0.6739198987138686,
          0.6758317527001869,
          0.6757233540443374,
          0.6752355197877219,
          0.6747822157549439,
          0.6737228199166603,
          0.6746738106648158,
          0.6752404675051655,
          0.6747624933556058,
          0.6747181359245142,
          0.6748413178817636,
          0.6756395802225164,
          0.6751862593149324
         ],
         "y": [
          0.6138533278657123,
          0.6137565056241334,
          0.6137995618846077,
          0.6138401602426583,
          0.6136316214373139,
          0.6136444501533729,
          0.6140254599837152,
          0.6137117113619587,
          0.6135189722690051,
          0.613895676371949,
          0.6137270960195023,
          0.6133853486264433,
          0.6139755079533504,
          0.6137806934146959,
          0.6140970749290416,
          0.6138766778221842,
          0.6138353599347155,
          0.6136613270168152,
          0.6134082989069675,
          0.6137141224594201,
          0.6139076088008903,
          0.6137214887381297,
          0.6136020147277345,
          0.6137513967421475,
          0.6139380548334356,
          0.6137129547036796
         ],
         "z": [
          0.7296469686258454,
          0.7295679911657869,
          0.7294741286495796,
          0.7294856522360211,
          0.7293101028432755,
          0.7290985573566502,
          0.7298123434636276,
          0.7295411792351748,
          0.7292862226145532,
          0.7295965165862397,
          0.7294493840871981,
          0.728900504470288,
          0.7299029991381711,
          0.7297835069479095,
          0.7299902822461741,
          0.7295418621457836,
          0.7295549677522649,
          0.7292914843886555,
          0.7289871601458761,
          0.729436105021218,
          0.729735501665728,
          0.7294135230283914,
          0.7291801863362166,
          0.7294741704062252,
          0.7297006706873937,
          0.7293039564061514
         ]
        },
        {
         "hovertemplate": "%{text}<extra>Best Trial</extra>",
         "marker": {
          "color": [
           0,
           7,
           21,
           24
          ],
          "colorbar": {
           "title": {
            "text": "Best Trial"
           },
           "x": 1.1,
           "xpad": 40
          },
          "colorscale": [
           [
            0,
            "rgb(255,245,240)"
           ],
           [
            0.125,
            "rgb(254,224,210)"
           ],
           [
            0.25,
            "rgb(252,187,161)"
           ],
           [
            0.375,
            "rgb(252,146,114)"
           ],
           [
            0.5,
            "rgb(251,106,74)"
           ],
           [
            0.625,
            "rgb(239,59,44)"
           ],
           [
            0.75,
            "rgb(203,24,29)"
           ],
           [
            0.875,
            "rgb(165,15,21)"
           ],
           [
            1,
            "rgb(103,0,13)"
           ]
          ],
          "line": {
           "color": "Grey",
           "width": 0.5
          }
         },
         "mode": "markers",
         "showlegend": false,
         "text": [
          "{<br>  \"number\": 0,<br>  \"values\": [<br>    0.6764772480278651,<br>    0.613951735543477,<br>    0.7295056717235772<br>  ],<br>  \"params\": {<br>    \"n_estimators\": 100,<br>    \"max_depth\": 5,<br>    \"min_samples_split\": 8,<br>    \"min_samples_leaf\": 1<br>  }<br>}",
          "{<br>  \"number\": 7,<br>  \"values\": [<br>    0.6767827717348881,<br>    0.613960007738758,<br>    0.7294311269164213<br>  ],<br>  \"params\": {<br>    \"n_estimators\": 100,<br>    \"max_depth\": 5,<br>    \"min_samples_split\": 8,<br>    \"min_samples_leaf\": 1<br>  }<br>}",
          "{<br>  \"number\": 21,<br>  \"values\": [<br>    0.6759007409139797,<br>    0.6139208411399772,<br>    0.7295856549822438<br>  ],<br>  \"params\": {<br>    \"n_estimators\": 100,<br>    \"max_depth\": 5,<br>    \"min_samples_split\": 7,<br>    \"min_samples_leaf\": 1<br>  }<br>}",
          "{<br>  \"number\": 24,<br>  \"values\": [<br>    0.6758859567627694,<br>    0.6140987119019146,<br>    0.7299921279348224<br>  ],<br>  \"params\": {<br>    \"n_estimators\": 100,<br>    \"max_depth\": 5,<br>    \"min_samples_split\": 9,<br>    \"min_samples_leaf\": 1<br>  }<br>}"
         ],
         "type": "scatter3d",
         "x": [
          0.6764772480278651,
          0.6767827717348881,
          0.6759007409139797,
          0.6758859567627694
         ],
         "y": [
          0.613951735543477,
          0.613960007738758,
          0.6139208411399772,
          0.6140987119019146
         ],
         "z": [
          0.7295056717235772,
          0.7294311269164213,
          0.7295856549822438,
          0.7299921279348224
         ]
        }
       ],
       "layout": {
        "scene": {
         "xaxis": {
          "title": {
           "text": "Accuracy"
          }
         },
         "yaxis": {
          "title": {
           "text": "Precision"
          }
         },
         "zaxis": {
          "title": {
           "text": "Recall"
          }
         }
        },
        "template": {
         "data": {
          "bar": [
           {
            "error_x": {
             "color": "#2a3f5f"
            },
            "error_y": {
             "color": "#2a3f5f"
            },
            "marker": {
             "line": {
              "color": "#E5ECF6",
              "width": 0.5
             },
             "pattern": {
              "fillmode": "overlay",
              "size": 10,
              "solidity": 0.2
             }
            },
            "type": "bar"
           }
          ],
          "barpolar": [
           {
            "marker": {
             "line": {
              "color": "#E5ECF6",
              "width": 0.5
             },
             "pattern": {
              "fillmode": "overlay",
              "size": 10,
              "solidity": 0.2
             }
            },
            "type": "barpolar"
           }
          ],
          "carpet": [
           {
            "aaxis": {
             "endlinecolor": "#2a3f5f",
             "gridcolor": "white",
             "linecolor": "white",
             "minorgridcolor": "white",
             "startlinecolor": "#2a3f5f"
            },
            "baxis": {
             "endlinecolor": "#2a3f5f",
             "gridcolor": "white",
             "linecolor": "white",
             "minorgridcolor": "white",
             "startlinecolor": "#2a3f5f"
            },
            "type": "carpet"
           }
          ],
          "choropleth": [
           {
            "colorbar": {
             "outlinewidth": 0,
             "ticks": ""
            },
            "type": "choropleth"
           }
          ],
          "contour": [
           {
            "colorbar": {
             "outlinewidth": 0,
             "ticks": ""
            },
            "colorscale": [
             [
              0,
              "#0d0887"
             ],
             [
              0.1111111111111111,
              "#46039f"
             ],
             [
              0.2222222222222222,
              "#7201a8"
             ],
             [
              0.3333333333333333,
              "#9c179e"
             ],
             [
              0.4444444444444444,
              "#bd3786"
             ],
             [
              0.5555555555555556,
              "#d8576b"
             ],
             [
              0.6666666666666666,
              "#ed7953"
             ],
             [
              0.7777777777777778,
              "#fb9f3a"
             ],
             [
              0.8888888888888888,
              "#fdca26"
             ],
             [
              1,
              "#f0f921"
             ]
            ],
            "type": "contour"
           }
          ],
          "contourcarpet": [
           {
            "colorbar": {
             "outlinewidth": 0,
             "ticks": ""
            },
            "type": "contourcarpet"
           }
          ],
          "heatmap": [
           {
            "colorbar": {
             "outlinewidth": 0,
             "ticks": ""
            },
            "colorscale": [
             [
              0,
              "#0d0887"
             ],
             [
              0.1111111111111111,
              "#46039f"
             ],
             [
              0.2222222222222222,
              "#7201a8"
             ],
             [
              0.3333333333333333,
              "#9c179e"
             ],
             [
              0.4444444444444444,
              "#bd3786"
             ],
             [
              0.5555555555555556,
              "#d8576b"
             ],
             [
              0.6666666666666666,
              "#ed7953"
             ],
             [
              0.7777777777777778,
              "#fb9f3a"
             ],
             [
              0.8888888888888888,
              "#fdca26"
             ],
             [
              1,
              "#f0f921"
             ]
            ],
            "type": "heatmap"
           }
          ],
          "histogram": [
           {
            "marker": {
             "pattern": {
              "fillmode": "overlay",
              "size": 10,
              "solidity": 0.2
             }
            },
            "type": "histogram"
           }
          ],
          "histogram2d": [
           {
            "colorbar": {
             "outlinewidth": 0,
             "ticks": ""
            },
            "colorscale": [
             [
              0,
              "#0d0887"
             ],
             [
              0.1111111111111111,
              "#46039f"
             ],
             [
              0.2222222222222222,
              "#7201a8"
             ],
             [
              0.3333333333333333,
              "#9c179e"
             ],
             [
              0.4444444444444444,
              "#bd3786"
             ],
             [
              0.5555555555555556,
              "#d8576b"
             ],
             [
              0.6666666666666666,
              "#ed7953"
             ],
             [
              0.7777777777777778,
              "#fb9f3a"
             ],
             [
              0.8888888888888888,
              "#fdca26"
             ],
             [
              1,
              "#f0f921"
             ]
            ],
            "type": "histogram2d"
           }
          ],
          "histogram2dcontour": [
           {
            "colorbar": {
             "outlinewidth": 0,
             "ticks": ""
            },
            "colorscale": [
             [
              0,
              "#0d0887"
             ],
             [
              0.1111111111111111,
              "#46039f"
             ],
             [
              0.2222222222222222,
              "#7201a8"
             ],
             [
              0.3333333333333333,
              "#9c179e"
             ],
             [
              0.4444444444444444,
              "#bd3786"
             ],
             [
              0.5555555555555556,
              "#d8576b"
             ],
             [
              0.6666666666666666,
              "#ed7953"
             ],
             [
              0.7777777777777778,
              "#fb9f3a"
             ],
             [
              0.8888888888888888,
              "#fdca26"
             ],
             [
              1,
              "#f0f921"
             ]
            ],
            "type": "histogram2dcontour"
           }
          ],
          "mesh3d": [
           {
            "colorbar": {
             "outlinewidth": 0,
             "ticks": ""
            },
            "type": "mesh3d"
           }
          ],
          "parcoords": [
           {
            "line": {
             "colorbar": {
              "outlinewidth": 0,
              "ticks": ""
             }
            },
            "type": "parcoords"
           }
          ],
          "pie": [
           {
            "automargin": true,
            "type": "pie"
           }
          ],
          "scatter": [
           {
            "fillpattern": {
             "fillmode": "overlay",
             "size": 10,
             "solidity": 0.2
            },
            "type": "scatter"
           }
          ],
          "scatter3d": [
           {
            "line": {
             "colorbar": {
              "outlinewidth": 0,
              "ticks": ""
             }
            },
            "marker": {
             "colorbar": {
              "outlinewidth": 0,
              "ticks": ""
             }
            },
            "type": "scatter3d"
           }
          ],
          "scattercarpet": [
           {
            "marker": {
             "colorbar": {
              "outlinewidth": 0,
              "ticks": ""
             }
            },
            "type": "scattercarpet"
           }
          ],
          "scattergeo": [
           {
            "marker": {
             "colorbar": {
              "outlinewidth": 0,
              "ticks": ""
             }
            },
            "type": "scattergeo"
           }
          ],
          "scattergl": [
           {
            "marker": {
             "colorbar": {
              "outlinewidth": 0,
              "ticks": ""
             }
            },
            "type": "scattergl"
           }
          ],
          "scattermap": [
           {
            "marker": {
             "colorbar": {
              "outlinewidth": 0,
              "ticks": ""
             }
            },
            "type": "scattermap"
           }
          ],
          "scattermapbox": [
           {
            "marker": {
             "colorbar": {
              "outlinewidth": 0,
              "ticks": ""
             }
            },
            "type": "scattermapbox"
           }
          ],
          "scatterpolar": [
           {
            "marker": {
             "colorbar": {
              "outlinewidth": 0,
              "ticks": ""
             }
            },
            "type": "scatterpolar"
           }
          ],
          "scatterpolargl": [
           {
            "marker": {
             "colorbar": {
              "outlinewidth": 0,
              "ticks": ""
             }
            },
            "type": "scatterpolargl"
           }
          ],
          "scatterternary": [
           {
            "marker": {
             "colorbar": {
              "outlinewidth": 0,
              "ticks": ""
             }
            },
            "type": "scatterternary"
           }
          ],
          "surface": [
           {
            "colorbar": {
             "outlinewidth": 0,
             "ticks": ""
            },
            "colorscale": [
             [
              0,
              "#0d0887"
             ],
             [
              0.1111111111111111,
              "#46039f"
             ],
             [
              0.2222222222222222,
              "#7201a8"
             ],
             [
              0.3333333333333333,
              "#9c179e"
             ],
             [
              0.4444444444444444,
              "#bd3786"
             ],
             [
              0.5555555555555556,
              "#d8576b"
             ],
             [
              0.6666666666666666,
              "#ed7953"
             ],
             [
              0.7777777777777778,
              "#fb9f3a"
             ],
             [
              0.8888888888888888,
              "#fdca26"
             ],
             [
              1,
              "#f0f921"
             ]
            ],
            "type": "surface"
           }
          ],
          "table": [
           {
            "cells": {
             "fill": {
              "color": "#EBF0F8"
             },
             "line": {
              "color": "white"
             }
            },
            "header": {
             "fill": {
              "color": "#C8D4E3"
             },
             "line": {
              "color": "white"
             }
            },
            "type": "table"
           }
          ]
         },
         "layout": {
          "annotationdefaults": {
           "arrowcolor": "#2a3f5f",
           "arrowhead": 0,
           "arrowwidth": 1
          },
          "autotypenumbers": "strict",
          "coloraxis": {
           "colorbar": {
            "outlinewidth": 0,
            "ticks": ""
           }
          },
          "colorscale": {
           "diverging": [
            [
             0,
             "#8e0152"
            ],
            [
             0.1,
             "#c51b7d"
            ],
            [
             0.2,
             "#de77ae"
            ],
            [
             0.3,
             "#f1b6da"
            ],
            [
             0.4,
             "#fde0ef"
            ],
            [
             0.5,
             "#f7f7f7"
            ],
            [
             0.6,
             "#e6f5d0"
            ],
            [
             0.7,
             "#b8e186"
            ],
            [
             0.8,
             "#7fbc41"
            ],
            [
             0.9,
             "#4d9221"
            ],
            [
             1,
             "#276419"
            ]
           ],
           "sequential": [
            [
             0,
             "#0d0887"
            ],
            [
             0.1111111111111111,
             "#46039f"
            ],
            [
             0.2222222222222222,
             "#7201a8"
            ],
            [
             0.3333333333333333,
             "#9c179e"
            ],
            [
             0.4444444444444444,
             "#bd3786"
            ],
            [
             0.5555555555555556,
             "#d8576b"
            ],
            [
             0.6666666666666666,
             "#ed7953"
            ],
            [
             0.7777777777777778,
             "#fb9f3a"
            ],
            [
             0.8888888888888888,
             "#fdca26"
            ],
            [
             1,
             "#f0f921"
            ]
           ],
           "sequentialminus": [
            [
             0,
             "#0d0887"
            ],
            [
             0.1111111111111111,
             "#46039f"
            ],
            [
             0.2222222222222222,
             "#7201a8"
            ],
            [
             0.3333333333333333,
             "#9c179e"
            ],
            [
             0.4444444444444444,
             "#bd3786"
            ],
            [
             0.5555555555555556,
             "#d8576b"
            ],
            [
             0.6666666666666666,
             "#ed7953"
            ],
            [
             0.7777777777777778,
             "#fb9f3a"
            ],
            [
             0.8888888888888888,
             "#fdca26"
            ],
            [
             1,
             "#f0f921"
            ]
           ]
          },
          "colorway": [
           "#636efa",
           "#EF553B",
           "#00cc96",
           "#ab63fa",
           "#FFA15A",
           "#19d3f3",
           "#FF6692",
           "#B6E880",
           "#FF97FF",
           "#FECB52"
          ],
          "font": {
           "color": "#2a3f5f"
          },
          "geo": {
           "bgcolor": "white",
           "lakecolor": "white",
           "landcolor": "#E5ECF6",
           "showlakes": true,
           "showland": true,
           "subunitcolor": "white"
          },
          "hoverlabel": {
           "align": "left"
          },
          "hovermode": "closest",
          "mapbox": {
           "style": "light"
          },
          "paper_bgcolor": "white",
          "plot_bgcolor": "#E5ECF6",
          "polar": {
           "angularaxis": {
            "gridcolor": "white",
            "linecolor": "white",
            "ticks": ""
           },
           "bgcolor": "#E5ECF6",
           "radialaxis": {
            "gridcolor": "white",
            "linecolor": "white",
            "ticks": ""
           }
          },
          "scene": {
           "xaxis": {
            "backgroundcolor": "#E5ECF6",
            "gridcolor": "white",
            "gridwidth": 2,
            "linecolor": "white",
            "showbackground": true,
            "ticks": "",
            "zerolinecolor": "white"
           },
           "yaxis": {
            "backgroundcolor": "#E5ECF6",
            "gridcolor": "white",
            "gridwidth": 2,
            "linecolor": "white",
            "showbackground": true,
            "ticks": "",
            "zerolinecolor": "white"
           },
           "zaxis": {
            "backgroundcolor": "#E5ECF6",
            "gridcolor": "white",
            "gridwidth": 2,
            "linecolor": "white",
            "showbackground": true,
            "ticks": "",
            "zerolinecolor": "white"
           }
          },
          "shapedefaults": {
           "line": {
            "color": "#2a3f5f"
           }
          },
          "ternary": {
           "aaxis": {
            "gridcolor": "white",
            "linecolor": "white",
            "ticks": ""
           },
           "baxis": {
            "gridcolor": "white",
            "linecolor": "white",
            "ticks": ""
           },
           "bgcolor": "#E5ECF6",
           "caxis": {
            "gridcolor": "white",
            "linecolor": "white",
            "ticks": ""
           }
          },
          "title": {
           "x": 0.05
          },
          "xaxis": {
           "automargin": true,
           "gridcolor": "white",
           "linecolor": "white",
           "ticks": "",
           "title": {
            "standoff": 15
           },
           "zerolinecolor": "white",
           "zerolinewidth": 2
          },
          "yaxis": {
           "automargin": true,
           "gridcolor": "white",
           "linecolor": "white",
           "ticks": "",
           "title": {
            "standoff": 15
           },
           "zerolinecolor": "white",
           "zerolinewidth": 2
          }
         }
        },
        "title": {
         "text": "Pareto-front Plot"
        }
       }
      }
     },
     "metadata": {},
     "output_type": "display_data"
    }
   ],
   "source": [
    "# Defining tuning optimization for RF\n",
    "\n",
    "def objective_rf(trial):\n",
    "    params = {\n",
    "        \"n_estimators\": trial.suggest_int(\"n_estimators\", 100, 600),\n",
    "        \"max_depth\": trial.suggest_int(\"max_depth\", 5, 60),\n",
    "        \"min_samples_split\": trial.suggest_int(\"min_samples_split\", 2, 10),\n",
    "        \"min_samples_leaf\": trial.suggest_int(\"min_samples_leaf\", 1, 10),\n",
    "        \"class_weight\": \"balanced\",\n",
    "        \"n_jobs\": -1\n",
    "    }\n",
    "\n",
    "    model = RandomForestClassifier(**params)\n",
    "\n",
    "    scoring = {\n",
    "        \"accuracy\": make_scorer(accuracy_score),\n",
    "        \"precision\": make_scorer(precision_score, average='macro'),\n",
    "        \"recall\": make_scorer(recall_score, average='macro'),\n",
    "    }\n",
    "\n",
    "    cv = StratifiedKFold(n_splits=5, shuffle=True, random_state=42)\n",
    "\n",
    "    scores = cross_validate(model, X_train, y_train, scoring=scoring, cv=cv)\n",
    "    return scores[\"test_accuracy\"].mean(), scores[\"test_precision\"].mean(), scores[\"test_recall\"].mean()\n",
    "\n",
    "study_rf = optuna.create_study(directions=[\"maximize\", \"maximize\", \"maximize\"], study_name=\"RF\")\n",
    "study_rf.optimize(objective_rf, n_trials=30)\n",
    "\n",
    "plot_pareto_front(study_rf, target_names=[\"Accuracy\", \"Precision\", \"Recall\"]).show()"
   ]
  },
  {
   "cell_type": "markdown",
   "metadata": {},
   "source": [
    "### Best RF Model"
   ]
  },
  {
   "cell_type": "code",
   "execution_count": 8,
   "metadata": {},
   "outputs": [
    {
     "name": "stdout",
     "output_type": "stream",
     "text": [
      "SVC Best Params: {'n_estimators': 100, 'max_depth': 5, 'min_samples_split': 8, 'min_samples_leaf': 1}\n",
      "Accuracy: 0.6767827717348881\n",
      "Precision: 0.613960007738758\n",
      "Recall: 0.7294311269164213\n",
      "Best RF params: {'n_estimators': 100, 'max_depth': 5, 'min_samples_split': 8, 'min_samples_leaf': 1}\n",
      "Classification Report for Best RF Model:\n",
      "              precision    recall  f1-score   support\n",
      "\n",
      "         0.0       0.95      0.65      0.77     43667\n",
      "         1.0       0.27      0.80      0.41      7069\n",
      "\n",
      "    accuracy                           0.67     50736\n",
      "   macro avg       0.61      0.73      0.59     50736\n",
      "weighted avg       0.86      0.67      0.72     50736\n",
      "\n"
     ]
    }
   ],
   "source": [
    "best_trial_rf = max(study_rf.best_trials, key=lambda t: sum(t.values))\n",
    "print(\"SVC Best Params:\", best_trial_rf.params)\n",
    "print(\"Accuracy:\", best_trial_rf.values[0])\n",
    "print(\"Precision:\", best_trial_rf.values[1])\n",
    "print(\"Recall:\", best_trial_rf.values[2])\n",
    "\n",
    "best_trial_rf = study_rf.best_trials[0]\n",
    "\n",
    "best_params_rf = best_trial_rf.params\n",
    "print(\"Best RF params:\", best_params_rf)\n",
    "\n",
    "# Building the RF model with the best hyperparameters\n",
    "best_rf = RandomForestClassifier(\n",
    "    n_estimators=best_params_rf[\"n_estimators\"],\n",
    "    max_depth=best_params_rf[\"max_depth\"],\n",
    "    min_samples_split=best_params_rf[\"min_samples_split\"],\n",
    "    min_samples_leaf=best_params_rf[\"min_samples_leaf\"],\n",
    "    class_weight=\"balanced\",\n",
    "    n_jobs=-1,\n",
    "    random_state=42\n",
    ")\n",
    "\n",
    "best_rf.fit(X_train, y_train)\n",
    "y_pred_rf = best_rf.predict(X_test)\n",
    "\n",
    "# Print classification report\n",
    "print(\"Classification Report for Best RF Model:\")\n",
    "print(classification_report(y_test, y_pred_rf))"
   ]
  },
  {
   "cell_type": "markdown",
   "metadata": {},
   "source": [
    "### NN Model"
   ]
  },
  {
   "cell_type": "code",
   "execution_count": 7,
   "metadata": {},
   "outputs": [
    {
     "name": "stderr",
     "output_type": "stream",
     "text": [
      "[I 2025-05-16 12:05:09,716] A new study created in memory with name: NN\n",
      "c:\\Users\\PC\\AppData\\Local\\Programs\\Python\\Python311\\Lib\\site-packages\\keras\\src\\layers\\core\\dense.py:87: UserWarning: Do not pass an `input_shape`/`input_dim` argument to a layer. When using Sequential models, prefer using an `Input(shape)` object as the first layer in the model instead.\n",
      "  super().__init__(activity_regularizer=activity_regularizer, **kwargs)\n"
     ]
    },
    {
     "name": "stdout",
     "output_type": "stream",
     "text": [
      "\u001b[1m1269/1269\u001b[0m \u001b[32m━━━━━━━━━━━━━━━━━━━━\u001b[0m\u001b[37m\u001b[0m \u001b[1m1s\u001b[0m 764us/step\n"
     ]
    },
    {
     "name": "stderr",
     "output_type": "stream",
     "text": [
      "c:\\Users\\PC\\AppData\\Local\\Programs\\Python\\Python311\\Lib\\site-packages\\sklearn\\metrics\\_classification.py:1565: UndefinedMetricWarning: Precision is ill-defined and being set to 0.0 in labels with no predicted samples. Use `zero_division` parameter to control this behavior.\n",
      "  _warn_prf(average, modifier, f\"{metric.capitalize()} is\", len(result))\n",
      "[I 2025-05-16 12:05:27,763] Trial 0 finished with values: [0.8606765379782699, 0.43033826898913496, 0.5] and parameters: {'units1': 244, 'dropout1': 0.3629071781776245, 'units_i': 88, 'dropout_i': 0.4577229596298902, 'lr': 0.00520307117566572, 'batch_size': 128}.\n",
      "c:\\Users\\PC\\AppData\\Local\\Programs\\Python\\Python311\\Lib\\site-packages\\keras\\src\\layers\\core\\dense.py:87: UserWarning: Do not pass an `input_shape`/`input_dim` argument to a layer. When using Sequential models, prefer using an `Input(shape)` object as the first layer in the model instead.\n",
      "  super().__init__(activity_regularizer=activity_regularizer, **kwargs)\n"
     ]
    },
    {
     "name": "stdout",
     "output_type": "stream",
     "text": [
      "\u001b[1m1269/1269\u001b[0m \u001b[32m━━━━━━━━━━━━━━━━━━━━\u001b[0m\u001b[37m\u001b[0m \u001b[1m1s\u001b[0m 772us/step\n"
     ]
    },
    {
     "name": "stderr",
     "output_type": "stream",
     "text": [
      "[I 2025-05-16 12:07:32,128] Trial 1 finished with values: [0.8633866318460667, 0.7360560907223695, 0.5249914592007958] and parameters: {'units1': 164, 'dropout1': 0.20728777624609063, 'units_i': 74, 'dropout_i': 0.3936184502775568, 'lr': 0.000889674078257198, 'batch_size': 32}.\n",
      "c:\\Users\\PC\\AppData\\Local\\Programs\\Python\\Python311\\Lib\\site-packages\\keras\\src\\layers\\core\\dense.py:87: UserWarning: Do not pass an `input_shape`/`input_dim` argument to a layer. When using Sequential models, prefer using an `Input(shape)` object as the first layer in the model instead.\n",
      "  super().__init__(activity_regularizer=activity_regularizer, **kwargs)\n"
     ]
    },
    {
     "name": "stdout",
     "output_type": "stream",
     "text": [
      "\u001b[1m1269/1269\u001b[0m \u001b[32m━━━━━━━━━━━━━━━━━━━━\u001b[0m\u001b[37m\u001b[0m \u001b[1m1s\u001b[0m 789us/step\n"
     ]
    },
    {
     "name": "stderr",
     "output_type": "stream",
     "text": [
      "[I 2025-05-16 12:07:55,897] Trial 2 finished with values: [0.8627953386385474, 0.7323619821119429, 0.520498095258777] and parameters: {'units1': 256, 'dropout1': 0.438413813012857, 'units_i': 60, 'dropout_i': 0.35615670809820044, 'lr': 0.006367644676044167, 'batch_size': 128}.\n",
      "c:\\Users\\PC\\AppData\\Local\\Programs\\Python\\Python311\\Lib\\site-packages\\keras\\src\\layers\\core\\dense.py:87: UserWarning: Do not pass an `input_shape`/`input_dim` argument to a layer. When using Sequential models, prefer using an `Input(shape)` object as the first layer in the model instead.\n",
      "  super().__init__(activity_regularizer=activity_regularizer, **kwargs)\n"
     ]
    },
    {
     "name": "stdout",
     "output_type": "stream",
     "text": [
      "\u001b[1m1269/1269\u001b[0m \u001b[32m━━━━━━━━━━━━━━━━━━━━\u001b[0m\u001b[37m\u001b[0m \u001b[1m1s\u001b[0m 819us/step\n"
     ]
    },
    {
     "name": "stderr",
     "output_type": "stream",
     "text": [
      "[I 2025-05-16 12:08:37,501] Trial 3 finished with values: [0.8608243612801498, 0.7200179371266073, 0.5017161779922296] and parameters: {'units1': 208, 'dropout1': 0.482862916500018, 'units_i': 110, 'dropout_i': 0.4454742371795648, 'lr': 0.0008550772885345812, 'batch_size': 64}.\n",
      "c:\\Users\\PC\\AppData\\Local\\Programs\\Python\\Python311\\Lib\\site-packages\\keras\\src\\layers\\core\\dense.py:87: UserWarning: Do not pass an `input_shape`/`input_dim` argument to a layer. When using Sequential models, prefer using an `Input(shape)` object as the first layer in the model instead.\n",
      "  super().__init__(activity_regularizer=activity_regularizer, **kwargs)\n"
     ]
    },
    {
     "name": "stdout",
     "output_type": "stream",
     "text": [
      "\u001b[1m1269/1269\u001b[0m \u001b[32m━━━━━━━━━━━━━━━━━━━━\u001b[0m\u001b[37m\u001b[0m \u001b[1m1s\u001b[0m 940us/step\n"
     ]
    },
    {
     "name": "stderr",
     "output_type": "stream",
     "text": [
      "[I 2025-05-16 12:08:56,889] Trial 4 finished with values: [0.8629431619404272, 0.7068819466324646, 0.545409021139117] and parameters: {'units1': 201, 'dropout1': 0.2846930877974463, 'units_i': 115, 'dropout_i': 0.22929167454062677, 'lr': 0.008630730971426165, 'batch_size': 128}.\n",
      "c:\\Users\\PC\\AppData\\Local\\Programs\\Python\\Python311\\Lib\\site-packages\\keras\\src\\layers\\core\\dense.py:87: UserWarning: Do not pass an `input_shape`/`input_dim` argument to a layer. When using Sequential models, prefer using an `Input(shape)` object as the first layer in the model instead.\n",
      "  super().__init__(activity_regularizer=activity_regularizer, **kwargs)\n"
     ]
    },
    {
     "name": "stdout",
     "output_type": "stream",
     "text": [
      "\u001b[1m1269/1269\u001b[0m \u001b[32m━━━━━━━━━━━━━━━━━━━━\u001b[0m\u001b[37m\u001b[0m \u001b[1m1s\u001b[0m 768us/step\n"
     ]
    },
    {
     "name": "stderr",
     "output_type": "stream",
     "text": [
      "[I 2025-05-16 12:09:26,444] Trial 5 finished with values: [0.8625982409027076, 0.7287180651040871, 0.5197166519945632] and parameters: {'units1': 80, 'dropout1': 0.32966718147756036, 'units_i': 99, 'dropout_i': 0.32309618589268524, 'lr': 0.00018707740161058673, 'batch_size': 128}.\n",
      "c:\\Users\\PC\\AppData\\Local\\Programs\\Python\\Python311\\Lib\\site-packages\\keras\\src\\layers\\core\\dense.py:87: UserWarning: Do not pass an `input_shape`/`input_dim` argument to a layer. When using Sequential models, prefer using an `Input(shape)` object as the first layer in the model instead.\n",
      "  super().__init__(activity_regularizer=activity_regularizer, **kwargs)\n"
     ]
    },
    {
     "name": "stdout",
     "output_type": "stream",
     "text": [
      "\u001b[1m1269/1269\u001b[0m \u001b[32m━━━━━━━━━━━━━━━━━━━━\u001b[0m\u001b[37m\u001b[0m \u001b[1m1s\u001b[0m 798us/step\n"
     ]
    },
    {
     "name": "stderr",
     "output_type": "stream",
     "text": [
      "[I 2025-05-16 12:09:53,120] Trial 6 finished with values: [0.8607258124122299, 0.7220705900715512, 0.5005473577887963] and parameters: {'units1': 97, 'dropout1': 0.42330520812887473, 'units_i': 124, 'dropout_i': 0.2777272173881462, 'lr': 0.0028426078229259063, 'batch_size': 64}.\n",
      "c:\\Users\\PC\\AppData\\Local\\Programs\\Python\\Python311\\Lib\\site-packages\\keras\\src\\layers\\core\\dense.py:87: UserWarning: Do not pass an `input_shape`/`input_dim` argument to a layer. When using Sequential models, prefer using an `Input(shape)` object as the first layer in the model instead.\n",
      "  super().__init__(activity_regularizer=activity_regularizer, **kwargs)\n"
     ]
    },
    {
     "name": "stdout",
     "output_type": "stream",
     "text": [
      "\u001b[1m1269/1269\u001b[0m \u001b[32m━━━━━━━━━━━━━━━━━━━━\u001b[0m\u001b[37m\u001b[0m \u001b[1m1s\u001b[0m 832us/step\n"
     ]
    },
    {
     "name": "stderr",
     "output_type": "stream",
     "text": [
      "[I 2025-05-16 12:12:03,454] Trial 7 finished with values: [0.8621054965631082, 0.7513377983362319, 0.5106860520662508] and parameters: {'units1': 255, 'dropout1': 0.36468596956908605, 'units_i': 106, 'dropout_i': 0.4371972957648319, 'lr': 0.0006012142382166228, 'batch_size': 32}.\n",
      "c:\\Users\\PC\\AppData\\Local\\Programs\\Python\\Python311\\Lib\\site-packages\\keras\\src\\layers\\core\\dense.py:87: UserWarning: Do not pass an `input_shape`/`input_dim` argument to a layer. When using Sequential models, prefer using an `Input(shape)` object as the first layer in the model instead.\n",
      "  super().__init__(activity_regularizer=activity_regularizer, **kwargs)\n"
     ]
    },
    {
     "name": "stdout",
     "output_type": "stream",
     "text": [
      "\u001b[1m1269/1269\u001b[0m \u001b[32m━━━━━━━━━━━━━━━━━━━━\u001b[0m\u001b[37m\u001b[0m \u001b[1m1s\u001b[0m 905us/step\n"
     ]
    },
    {
     "name": "stderr",
     "output_type": "stream",
     "text": [
      "[I 2025-05-16 12:13:03,976] Trial 8 finished with values: [0.8628692502894872, 0.7371287032315461, 0.5197258824863984] and parameters: {'units1': 133, 'dropout1': 0.3679337863547258, 'units_i': 122, 'dropout_i': 0.23439252623706253, 'lr': 0.00017049940820299916, 'batch_size': 64}.\n",
      "c:\\Users\\PC\\AppData\\Local\\Programs\\Python\\Python311\\Lib\\site-packages\\keras\\src\\layers\\core\\dense.py:87: UserWarning: Do not pass an `input_shape`/`input_dim` argument to a layer. When using Sequential models, prefer using an `Input(shape)` object as the first layer in the model instead.\n",
      "  super().__init__(activity_regularizer=activity_regularizer, **kwargs)\n"
     ]
    },
    {
     "name": "stdout",
     "output_type": "stream",
     "text": [
      "\u001b[1m1269/1269\u001b[0m \u001b[32m━━━━━━━━━━━━━━━━━━━━\u001b[0m\u001b[37m\u001b[0m \u001b[1m1s\u001b[0m 745us/step\n"
     ]
    },
    {
     "name": "stderr",
     "output_type": "stream",
     "text": [
      "[I 2025-05-16 12:14:04,452] Trial 9 finished with values: [0.8615388405725689, 0.7469368931028382, 0.5067257332090722] and parameters: {'units1': 96, 'dropout1': 0.3781027825609714, 'units_i': 44, 'dropout_i': 0.45984548873049835, 'lr': 0.00019408562207146854, 'batch_size': 32}.\n",
      "c:\\Users\\PC\\AppData\\Local\\Programs\\Python\\Python311\\Lib\\site-packages\\keras\\src\\layers\\core\\dense.py:87: UserWarning: Do not pass an `input_shape`/`input_dim` argument to a layer. When using Sequential models, prefer using an `Input(shape)` object as the first layer in the model instead.\n",
      "  super().__init__(activity_regularizer=activity_regularizer, **kwargs)\n"
     ]
    },
    {
     "name": "stdout",
     "output_type": "stream",
     "text": [
      "\u001b[1m1269/1269\u001b[0m \u001b[32m━━━━━━━━━━━━━━━━━━━━\u001b[0m\u001b[37m\u001b[0m \u001b[1m1s\u001b[0m 805us/step\n"
     ]
    },
    {
     "name": "stderr",
     "output_type": "stream",
     "text": [
      "[I 2025-05-16 12:14:57,486] Trial 10 finished with values: [0.8632634457611669, 0.7388423100896939, 0.5228449661574787] and parameters: {'units1': 223, 'dropout1': 0.2777818691921731, 'units_i': 100, 'dropout_i': 0.23724623531095546, 'lr': 0.00031433178856724763, 'batch_size': 128}.\n",
      "c:\\Users\\PC\\AppData\\Local\\Programs\\Python\\Python311\\Lib\\site-packages\\keras\\src\\layers\\core\\dense.py:87: UserWarning: Do not pass an `input_shape`/`input_dim` argument to a layer. When using Sequential models, prefer using an `Input(shape)` object as the first layer in the model instead.\n",
      "  super().__init__(activity_regularizer=activity_regularizer, **kwargs)\n"
     ]
    },
    {
     "name": "stdout",
     "output_type": "stream",
     "text": [
      "\u001b[1m1269/1269\u001b[0m \u001b[32m━━━━━━━━━━━━━━━━━━━━\u001b[0m\u001b[37m\u001b[0m \u001b[1m1s\u001b[0m 790us/step\n"
     ]
    },
    {
     "name": "stderr",
     "output_type": "stream",
     "text": [
      "[I 2025-05-16 12:16:15,081] Trial 11 finished with values: [0.8633373574121067, 0.7347107250946678, 0.5250369384187243] and parameters: {'units1': 232, 'dropout1': 0.4055128795990776, 'units_i': 78, 'dropout_i': 0.40731618354103477, 'lr': 0.00016154593128617665, 'batch_size': 32}.\n",
      "c:\\Users\\PC\\AppData\\Local\\Programs\\Python\\Python311\\Lib\\site-packages\\keras\\src\\layers\\core\\dense.py:87: UserWarning: Do not pass an `input_shape`/`input_dim` argument to a layer. When using Sequential models, prefer using an `Input(shape)` object as the first layer in the model instead.\n",
      "  super().__init__(activity_regularizer=activity_regularizer, **kwargs)\n"
     ]
    },
    {
     "name": "stdout",
     "output_type": "stream",
     "text": [
      "\u001b[1m1269/1269\u001b[0m \u001b[32m━━━━━━━━━━━━━━━━━━━━\u001b[0m\u001b[37m\u001b[0m \u001b[1m1s\u001b[0m 787us/step\n"
     ]
    },
    {
     "name": "stderr",
     "output_type": "stream",
     "text": [
      "[I 2025-05-16 12:17:23,621] Trial 12 finished with values: [0.8628199758555274, 0.7569225251259559, 0.5152509795280498] and parameters: {'units1': 167, 'dropout1': 0.4257894782478894, 'units_i': 98, 'dropout_i': 0.27764688662593295, 'lr': 0.00010999393913363023, 'batch_size': 64}.\n",
      "c:\\Users\\PC\\AppData\\Local\\Programs\\Python\\Python311\\Lib\\site-packages\\keras\\src\\layers\\core\\dense.py:87: UserWarning: Do not pass an `input_shape`/`input_dim` argument to a layer. When using Sequential models, prefer using an `Input(shape)` object as the first layer in the model instead.\n",
      "  super().__init__(activity_regularizer=activity_regularizer, **kwargs)\n"
     ]
    },
    {
     "name": "stdout",
     "output_type": "stream",
     "text": [
      "\u001b[1m1269/1269\u001b[0m \u001b[32m━━━━━━━━━━━━━━━━━━━━\u001b[0m\u001b[37m\u001b[0m \u001b[1m1s\u001b[0m 810us/step\n"
     ]
    },
    {
     "name": "stderr",
     "output_type": "stream",
     "text": [
      "[I 2025-05-16 12:18:37,207] Trial 13 finished with values: [0.8627707014215674, 0.7433186696440269, 0.5172972836436748] and parameters: {'units1': 214, 'dropout1': 0.4375724801860726, 'units_i': 52, 'dropout_i': 0.2916719372454951, 'lr': 0.003755642576419195, 'batch_size': 32}.\n",
      "c:\\Users\\PC\\AppData\\Local\\Programs\\Python\\Python311\\Lib\\site-packages\\keras\\src\\layers\\core\\dense.py:87: UserWarning: Do not pass an `input_shape`/`input_dim` argument to a layer. When using Sequential models, prefer using an `Input(shape)` object as the first layer in the model instead.\n",
      "  super().__init__(activity_regularizer=activity_regularizer, **kwargs)\n"
     ]
    },
    {
     "name": "stdout",
     "output_type": "stream",
     "text": [
      "\u001b[1m1269/1269\u001b[0m \u001b[32m━━━━━━━━━━━━━━━━━━━━\u001b[0m\u001b[37m\u001b[0m \u001b[1m1s\u001b[0m 777us/step\n"
     ]
    },
    {
     "name": "stderr",
     "output_type": "stream",
     "text": [
      "[I 2025-05-16 12:20:18,116] Trial 14 finished with values: [0.8632141713272069, 0.7288005601768536, 0.5263733627899158] and parameters: {'units1': 219, 'dropout1': 0.35988604486033504, 'units_i': 90, 'dropout_i': 0.35980149497478087, 'lr': 0.00014365701017487233, 'batch_size': 32}.\n",
      "c:\\Users\\PC\\AppData\\Local\\Programs\\Python\\Python311\\Lib\\site-packages\\keras\\src\\layers\\core\\dense.py:87: UserWarning: Do not pass an `input_shape`/`input_dim` argument to a layer. When using Sequential models, prefer using an `Input(shape)` object as the first layer in the model instead.\n",
      "  super().__init__(activity_regularizer=activity_regularizer, **kwargs)\n"
     ]
    },
    {
     "name": "stdout",
     "output_type": "stream",
     "text": [
      "\u001b[1m1269/1269\u001b[0m \u001b[32m━━━━━━━━━━━━━━━━━━━━\u001b[0m\u001b[37m\u001b[0m \u001b[1m1s\u001b[0m 764us/step\n"
     ]
    },
    {
     "name": "stderr",
     "output_type": "stream",
     "text": [
      "[I 2025-05-16 12:20:50,534] Trial 15 finished with values: [0.8623518687329079, 0.7760067201750985, 0.5101622374732456] and parameters: {'units1': 86, 'dropout1': 0.343719727890171, 'units_i': 72, 'dropout_i': 0.31609477137387, 'lr': 0.0002279311582385667, 'batch_size': 128}.\n",
      "c:\\Users\\PC\\AppData\\Local\\Programs\\Python\\Python311\\Lib\\site-packages\\keras\\src\\layers\\core\\dense.py:87: UserWarning: Do not pass an `input_shape`/`input_dim` argument to a layer. When using Sequential models, prefer using an `Input(shape)` object as the first layer in the model instead.\n",
      "  super().__init__(activity_regularizer=activity_regularizer, **kwargs)\n"
     ]
    },
    {
     "name": "stdout",
     "output_type": "stream",
     "text": [
      "\u001b[1m1269/1269\u001b[0m \u001b[32m━━━━━━━━━━━━━━━━━━━━\u001b[0m\u001b[37m\u001b[0m \u001b[1m1s\u001b[0m 890us/step\n"
     ]
    },
    {
     "name": "stderr",
     "output_type": "stream",
     "text": [
      "[I 2025-05-16 12:22:25,991] Trial 16 finished with values: [0.8614156544876691, 0.7642575536844531, 0.5048756586691174] and parameters: {'units1': 166, 'dropout1': 0.48309999622173777, 'units_i': 44, 'dropout_i': 0.4008776032597685, 'lr': 0.00022262584679738534, 'batch_size': 32}.\n",
      "c:\\Users\\PC\\AppData\\Local\\Programs\\Python\\Python311\\Lib\\site-packages\\keras\\src\\layers\\core\\dense.py:87: UserWarning: Do not pass an `input_shape`/`input_dim` argument to a layer. When using Sequential models, prefer using an `Input(shape)` object as the first layer in the model instead.\n",
      "  super().__init__(activity_regularizer=activity_regularizer, **kwargs)\n"
     ]
    },
    {
     "name": "stdout",
     "output_type": "stream",
     "text": [
      "\u001b[1m1269/1269\u001b[0m \u001b[32m━━━━━━━━━━━━━━━━━━━━\u001b[0m\u001b[37m\u001b[0m \u001b[1m1s\u001b[0m 909us/step\n"
     ]
    },
    {
     "name": "stderr",
     "output_type": "stream",
     "text": [
      "[I 2025-05-16 12:23:08,276] Trial 17 finished with values: [0.8626721525536475, 0.742440208290146, 0.5166471958211258] and parameters: {'units1': 94, 'dropout1': 0.3081654393960935, 'units_i': 94, 'dropout_i': 0.4599837657263933, 'lr': 0.00015205673189982408, 'batch_size': 128}.\n",
      "c:\\Users\\PC\\AppData\\Local\\Programs\\Python\\Python311\\Lib\\site-packages\\keras\\src\\layers\\core\\dense.py:87: UserWarning: Do not pass an `input_shape`/`input_dim` argument to a layer. When using Sequential models, prefer using an `Input(shape)` object as the first layer in the model instead.\n",
      "  super().__init__(activity_regularizer=activity_regularizer, **kwargs)\n"
     ]
    },
    {
     "name": "stdout",
     "output_type": "stream",
     "text": [
      "\u001b[1m1269/1269\u001b[0m \u001b[32m━━━━━━━━━━━━━━━━━━━━\u001b[0m\u001b[37m\u001b[0m \u001b[1m1s\u001b[0m 774us/step\n"
     ]
    },
    {
     "name": "stderr",
     "output_type": "stream",
     "text": [
      "[I 2025-05-16 12:23:48,115] Trial 18 finished with values: [0.8625736036857277, 0.7520459393758991, 0.5141444923525615] and parameters: {'units1': 113, 'dropout1': 0.33467326150776733, 'units_i': 64, 'dropout_i': 0.45146966242109854, 'lr': 0.0005506945684652027, 'batch_size': 64}.\n",
      "c:\\Users\\PC\\AppData\\Local\\Programs\\Python\\Python311\\Lib\\site-packages\\keras\\src\\layers\\core\\dense.py:87: UserWarning: Do not pass an `input_shape`/`input_dim` argument to a layer. When using Sequential models, prefer using an `Input(shape)` object as the first layer in the model instead.\n",
      "  super().__init__(activity_regularizer=activity_regularizer, **kwargs)\n"
     ]
    },
    {
     "name": "stdout",
     "output_type": "stream",
     "text": [
      "\u001b[1m1269/1269\u001b[0m \u001b[32m━━━━━━━━━━━━━━━━━━━━\u001b[0m\u001b[37m\u001b[0m \u001b[1m1s\u001b[0m 775us/step\n"
     ]
    },
    {
     "name": "stderr",
     "output_type": "stream",
     "text": [
      "[I 2025-05-16 12:24:37,830] Trial 19 finished with values: [0.8621547709970682, 0.7475181226274974, 0.5115298283584095] and parameters: {'units1': 229, 'dropout1': 0.37405598949645685, 'units_i': 71, 'dropout_i': 0.4264837970610226, 'lr': 0.00012759819926187022, 'batch_size': 128}.\n",
      "c:\\Users\\PC\\AppData\\Local\\Programs\\Python\\Python311\\Lib\\site-packages\\keras\\src\\layers\\core\\dense.py:87: UserWarning: Do not pass an `input_shape`/`input_dim` argument to a layer. When using Sequential models, prefer using an `Input(shape)` object as the first layer in the model instead.\n",
      "  super().__init__(activity_regularizer=activity_regularizer, **kwargs)\n"
     ]
    },
    {
     "name": "stdout",
     "output_type": "stream",
     "text": [
      "\u001b[1m1269/1269\u001b[0m \u001b[32m━━━━━━━━━━━━━━━━━━━━\u001b[0m\u001b[37m\u001b[0m \u001b[1m1s\u001b[0m 829us/step\n"
     ]
    },
    {
     "name": "stderr",
     "output_type": "stream",
     "text": [
      "[I 2025-05-16 12:26:45,711] Trial 20 finished with values: [0.8621794082140481, 0.7455919179978535, 0.5119887688174092] and parameters: {'units1': 190, 'dropout1': 0.4612668719826898, 'units_i': 121, 'dropout_i': 0.2190261761978075, 'lr': 0.0018655282289966235, 'batch_size': 32}.\n",
      "c:\\Users\\PC\\AppData\\Local\\Programs\\Python\\Python311\\Lib\\site-packages\\keras\\src\\layers\\core\\dense.py:87: UserWarning: Do not pass an `input_shape`/`input_dim` argument to a layer. When using Sequential models, prefer using an `Input(shape)` object as the first layer in the model instead.\n",
      "  super().__init__(activity_regularizer=activity_regularizer, **kwargs)\n"
     ]
    },
    {
     "name": "stdout",
     "output_type": "stream",
     "text": [
      "\u001b[1m1269/1269\u001b[0m \u001b[32m━━━━━━━━━━━━━━━━━━━━\u001b[0m\u001b[37m\u001b[0m \u001b[1m1s\u001b[0m 744us/step\n"
     ]
    },
    {
     "name": "stderr",
     "output_type": "stream",
     "text": [
      "[I 2025-05-16 12:27:24,102] Trial 21 finished with values: [0.8621794082140481, 0.7532635712564801, 0.5110254086814814] and parameters: {'units1': 75, 'dropout1': 0.39213008965549534, 'units_i': 63, 'dropout_i': 0.2773343241313159, 'lr': 0.00023549246340175318, 'batch_size': 128}.\n",
      "c:\\Users\\PC\\AppData\\Local\\Programs\\Python\\Python311\\Lib\\site-packages\\keras\\src\\layers\\core\\dense.py:87: UserWarning: Do not pass an `input_shape`/`input_dim` argument to a layer. When using Sequential models, prefer using an `Input(shape)` object as the first layer in the model instead.\n",
      "  super().__init__(activity_regularizer=activity_regularizer, **kwargs)\n"
     ]
    },
    {
     "name": "stdout",
     "output_type": "stream",
     "text": [
      "\u001b[1m1269/1269\u001b[0m \u001b[32m━━━━━━━━━━━━━━━━━━━━\u001b[0m\u001b[37m\u001b[0m \u001b[1m1s\u001b[0m 745us/step\n"
     ]
    },
    {
     "name": "stderr",
     "output_type": "stream",
     "text": [
      "[I 2025-05-16 12:27:51,916] Trial 22 finished with values: [0.8620315849121684, 0.749984170954675, 0.5102725908251796] and parameters: {'units1': 208, 'dropout1': 0.4936304239982966, 'units_i': 39, 'dropout_i': 0.237223327528369, 'lr': 0.0008486294815421953, 'batch_size': 128}.\n",
      "c:\\Users\\PC\\AppData\\Local\\Programs\\Python\\Python311\\Lib\\site-packages\\keras\\src\\layers\\core\\dense.py:87: UserWarning: Do not pass an `input_shape`/`input_dim` argument to a layer. When using Sequential models, prefer using an `Input(shape)` object as the first layer in the model instead.\n",
      "  super().__init__(activity_regularizer=activity_regularizer, **kwargs)\n"
     ]
    },
    {
     "name": "stdout",
     "output_type": "stream",
     "text": [
      "\u001b[1m1269/1269\u001b[0m \u001b[32m━━━━━━━━━━━━━━━━━━━━\u001b[0m\u001b[37m\u001b[0m \u001b[1m1s\u001b[0m 798us/step\n"
     ]
    },
    {
     "name": "stderr",
     "output_type": "stream",
     "text": [
      "[I 2025-05-16 12:28:37,185] Trial 23 finished with values: [0.8631648968932469, 0.7280566896319899, 0.5261965281303225] and parameters: {'units1': 183, 'dropout1': 0.30150828972653143, 'units_i': 103, 'dropout_i': 0.4662194928686211, 'lr': 0.00025622337662954334, 'batch_size': 128}.\n",
      "c:\\Users\\PC\\AppData\\Local\\Programs\\Python\\Python311\\Lib\\site-packages\\keras\\src\\layers\\core\\dense.py:87: UserWarning: Do not pass an `input_shape`/`input_dim` argument to a layer. When using Sequential models, prefer using an `Input(shape)` object as the first layer in the model instead.\n",
      "  super().__init__(activity_regularizer=activity_regularizer, **kwargs)\n"
     ]
    },
    {
     "name": "stdout",
     "output_type": "stream",
     "text": [
      "\u001b[1m1269/1269\u001b[0m \u001b[32m━━━━━━━━━━━━━━━━━━━━\u001b[0m\u001b[37m\u001b[0m \u001b[1m1s\u001b[0m 753us/step\n"
     ]
    },
    {
     "name": "stderr",
     "output_type": "stream",
     "text": [
      "[I 2025-05-16 12:29:07,103] Trial 24 finished with values: [0.8608243612801498, 0.7486548627747138, 0.5011233409855047] and parameters: {'units1': 188, 'dropout1': 0.25973682190373315, 'units_i': 47, 'dropout_i': 0.4615209969878122, 'lr': 0.007282456326567421, 'batch_size': 64}.\n",
      "c:\\Users\\PC\\AppData\\Local\\Programs\\Python\\Python311\\Lib\\site-packages\\keras\\src\\layers\\core\\dense.py:87: UserWarning: Do not pass an `input_shape`/`input_dim` argument to a layer. When using Sequential models, prefer using an `Input(shape)` object as the first layer in the model instead.\n",
      "  super().__init__(activity_regularizer=activity_regularizer, **kwargs)\n"
     ]
    },
    {
     "name": "stdout",
     "output_type": "stream",
     "text": [
      "\u001b[1m1269/1269\u001b[0m \u001b[32m━━━━━━━━━━━━━━━━━━━━\u001b[0m\u001b[37m\u001b[0m \u001b[1m1s\u001b[0m 805us/step\n"
     ]
    },
    {
     "name": "stderr",
     "output_type": "stream",
     "text": [
      "[I 2025-05-16 12:29:53,030] Trial 25 finished with values: [0.8619083988272684, 0.7360235365852346, 0.5110902828154867] and parameters: {'units1': 155, 'dropout1': 0.2741106660714904, 'units_i': 113, 'dropout_i': 0.43697835988660005, 'lr': 0.0033736358805797847, 'batch_size': 32}.\n",
      "c:\\Users\\PC\\AppData\\Local\\Programs\\Python\\Python311\\Lib\\site-packages\\keras\\src\\layers\\core\\dense.py:87: UserWarning: Do not pass an `input_shape`/`input_dim` argument to a layer. When using Sequential models, prefer using an `Input(shape)` object as the first layer in the model instead.\n",
      "  super().__init__(activity_regularizer=activity_regularizer, **kwargs)\n"
     ]
    },
    {
     "name": "stdout",
     "output_type": "stream",
     "text": [
      "\u001b[1m1269/1269\u001b[0m \u001b[32m━━━━━━━━━━━━━━━━━━━━\u001b[0m\u001b[37m\u001b[0m \u001b[1m1s\u001b[0m 861us/step\n"
     ]
    },
    {
     "name": "stderr",
     "output_type": "stream",
     "text": [
      "c:\\Users\\PC\\AppData\\Local\\Programs\\Python\\Python311\\Lib\\site-packages\\sklearn\\metrics\\_classification.py:1565: UndefinedMetricWarning: Precision is ill-defined and being set to 0.0 in labels with no predicted samples. Use `zero_division` parameter to control this behavior.\n",
      "  _warn_prf(average, modifier, f\"{metric.capitalize()} is\", len(result))\n",
      "[I 2025-05-16 12:30:20,321] Trial 26 finished with values: [0.8606765379782699, 0.43033826898913496, 0.5] and parameters: {'units1': 224, 'dropout1': 0.3638327354916796, 'units_i': 106, 'dropout_i': 0.4596354411885222, 'lr': 0.004247784907298227, 'batch_size': 128}.\n",
      "c:\\Users\\PC\\AppData\\Local\\Programs\\Python\\Python311\\Lib\\site-packages\\keras\\src\\layers\\core\\dense.py:87: UserWarning: Do not pass an `input_shape`/`input_dim` argument to a layer. When using Sequential models, prefer using an `Input(shape)` object as the first layer in the model instead.\n",
      "  super().__init__(activity_regularizer=activity_regularizer, **kwargs)\n"
     ]
    },
    {
     "name": "stdout",
     "output_type": "stream",
     "text": [
      "\u001b[1m1269/1269\u001b[0m \u001b[32m━━━━━━━━━━━━━━━━━━━━\u001b[0m\u001b[37m\u001b[0m \u001b[1m2s\u001b[0m 1ms/step\n"
     ]
    },
    {
     "name": "stderr",
     "output_type": "stream",
     "text": [
      "c:\\Users\\PC\\AppData\\Local\\Programs\\Python\\Python311\\Lib\\site-packages\\sklearn\\metrics\\_classification.py:1565: UndefinedMetricWarning: Precision is ill-defined and being set to 0.0 in labels with no predicted samples. Use `zero_division` parameter to control this behavior.\n",
      "  _warn_prf(average, modifier, f\"{metric.capitalize()} is\", len(result))\n",
      "[I 2025-05-16 12:30:37,056] Trial 27 finished with values: [0.8606765379782699, 0.43033826898913496, 0.5] and parameters: {'units1': 151, 'dropout1': 0.4438133607563678, 'units_i': 75, 'dropout_i': 0.49630014534168765, 'lr': 0.005305204648616968, 'batch_size': 128}.\n",
      "c:\\Users\\PC\\AppData\\Local\\Programs\\Python\\Python311\\Lib\\site-packages\\keras\\src\\layers\\core\\dense.py:87: UserWarning: Do not pass an `input_shape`/`input_dim` argument to a layer. When using Sequential models, prefer using an `Input(shape)` object as the first layer in the model instead.\n",
      "  super().__init__(activity_regularizer=activity_regularizer, **kwargs)\n"
     ]
    },
    {
     "name": "stdout",
     "output_type": "stream",
     "text": [
      "\u001b[1m1269/1269\u001b[0m \u001b[32m━━━━━━━━━━━━━━━━━━━━\u001b[0m\u001b[37m\u001b[0m \u001b[1m1s\u001b[0m 768us/step\n"
     ]
    },
    {
     "name": "stderr",
     "output_type": "stream",
     "text": [
      "[I 2025-05-16 12:31:01,167] Trial 28 finished with values: [0.8619083988272684, 0.7566892759668911, 0.5087189347885873] and parameters: {'units1': 102, 'dropout1': 0.24821819224738612, 'units_i': 52, 'dropout_i': 0.391968817301507, 'lr': 0.0014483562879309174, 'batch_size': 128}.\n",
      "c:\\Users\\PC\\AppData\\Local\\Programs\\Python\\Python311\\Lib\\site-packages\\keras\\src\\layers\\core\\dense.py:87: UserWarning: Do not pass an `input_shape`/`input_dim` argument to a layer. When using Sequential models, prefer using an `Input(shape)` object as the first layer in the model instead.\n",
      "  super().__init__(activity_regularizer=activity_regularizer, **kwargs)\n"
     ]
    },
    {
     "name": "stdout",
     "output_type": "stream",
     "text": [
      "\u001b[1m1269/1269\u001b[0m \u001b[32m━━━━━━━━━━━━━━━━━━━━\u001b[0m\u001b[37m\u001b[0m \u001b[1m1s\u001b[0m 737us/step\n"
     ]
    },
    {
     "name": "stderr",
     "output_type": "stream",
     "text": [
      "[I 2025-05-16 12:32:19,993] Trial 29 finished with values: [0.8611200078839094, 0.7784799606215194, 0.502628976698108] and parameters: {'units1': 130, 'dropout1': 0.4344128077735063, 'units_i': 38, 'dropout_i': 0.361623081212049, 'lr': 0.0009789351958430152, 'batch_size': 32}.\n"
     ]
    },
    {
     "data": {
      "application/vnd.plotly.v1+json": {
       "config": {
        "plotlyServerURL": "https://plot.ly"
       },
       "data": [
        {
         "hovertemplate": "%{text}<extra>Trial</extra>",
         "marker": {
          "color": [
           0,
           2,
           3,
           5,
           6,
           7,
           8,
           9,
           16,
           17,
           18,
           19,
           20,
           21,
           22,
           23,
           24,
           25,
           26,
           27,
           28
          ],
          "colorbar": {
           "title": {
            "text": "Trial"
           }
          },
          "colorscale": [
           [
            0,
            "rgb(247,251,255)"
           ],
           [
            0.125,
            "rgb(222,235,247)"
           ],
           [
            0.25,
            "rgb(198,219,239)"
           ],
           [
            0.375,
            "rgb(158,202,225)"
           ],
           [
            0.5,
            "rgb(107,174,214)"
           ],
           [
            0.625,
            "rgb(66,146,198)"
           ],
           [
            0.75,
            "rgb(33,113,181)"
           ],
           [
            0.875,
            "rgb(8,81,156)"
           ],
           [
            1,
            "rgb(8,48,107)"
           ]
          ],
          "line": {
           "color": "Grey",
           "width": 0.5
          }
         },
         "mode": "markers",
         "showlegend": false,
         "text": [
          "{<br>  \"number\": 0,<br>  \"values\": [<br>    0.8606765379782699,<br>    0.43033826898913496,<br>    0.5<br>  ],<br>  \"params\": {<br>    \"units1\": 244,<br>    \"dropout1\": 0.3629071781776245,<br>    \"units_i\": 88,<br>    \"dropout_i\": 0.4577229596298902,<br>    \"lr\": 0.00520307117566572,<br>    \"batch_size\": 128<br>  }<br>}",
          "{<br>  \"number\": 2,<br>  \"values\": [<br>    0.8627953386385474,<br>    0.7323619821119429,<br>    0.520498095258777<br>  ],<br>  \"params\": {<br>    \"units1\": 256,<br>    \"dropout1\": 0.438413813012857,<br>    \"units_i\": 60,<br>    \"dropout_i\": 0.35615670809820044,<br>    \"lr\": 0.006367644676044167,<br>    \"batch_size\": 128<br>  }<br>}",
          "{<br>  \"number\": 3,<br>  \"values\": [<br>    0.8608243612801498,<br>    0.7200179371266073,<br>    0.5017161779922296<br>  ],<br>  \"params\": {<br>    \"units1\": 208,<br>    \"dropout1\": 0.482862916500018,<br>    \"units_i\": 110,<br>    \"dropout_i\": 0.4454742371795648,<br>    \"lr\": 0.0008550772885345812,<br>    \"batch_size\": 64<br>  }<br>}",
          "{<br>  \"number\": 5,<br>  \"values\": [<br>    0.8625982409027076,<br>    0.7287180651040871,<br>    0.5197166519945632<br>  ],<br>  \"params\": {<br>    \"units1\": 80,<br>    \"dropout1\": 0.32966718147756036,<br>    \"units_i\": 99,<br>    \"dropout_i\": 0.32309618589268524,<br>    \"lr\": 0.00018707740161058673,<br>    \"batch_size\": 128<br>  }<br>}",
          "{<br>  \"number\": 6,<br>  \"values\": [<br>    0.8607258124122299,<br>    0.7220705900715512,<br>    0.5005473577887963<br>  ],<br>  \"params\": {<br>    \"units1\": 97,<br>    \"dropout1\": 0.42330520812887473,<br>    \"units_i\": 124,<br>    \"dropout_i\": 0.2777272173881462,<br>    \"lr\": 0.0028426078229259063,<br>    \"batch_size\": 64<br>  }<br>}",
          "{<br>  \"number\": 7,<br>  \"values\": [<br>    0.8621054965631082,<br>    0.7513377983362319,<br>    0.5106860520662508<br>  ],<br>  \"params\": {<br>    \"units1\": 255,<br>    \"dropout1\": 0.36468596956908605,<br>    \"units_i\": 106,<br>    \"dropout_i\": 0.4371972957648319,<br>    \"lr\": 0.0006012142382166228,<br>    \"batch_size\": 32<br>  }<br>}",
          "{<br>  \"number\": 8,<br>  \"values\": [<br>    0.8628692502894872,<br>    0.7371287032315461,<br>    0.5197258824863984<br>  ],<br>  \"params\": {<br>    \"units1\": 133,<br>    \"dropout1\": 0.3679337863547258,<br>    \"units_i\": 122,<br>    \"dropout_i\": 0.23439252623706253,<br>    \"lr\": 0.00017049940820299916,<br>    \"batch_size\": 64<br>  }<br>}",
          "{<br>  \"number\": 9,<br>  \"values\": [<br>    0.8615388405725689,<br>    0.7469368931028382,<br>    0.5067257332090722<br>  ],<br>  \"params\": {<br>    \"units1\": 96,<br>    \"dropout1\": 0.3781027825609714,<br>    \"units_i\": 44,<br>    \"dropout_i\": 0.45984548873049835,<br>    \"lr\": 0.00019408562207146854,<br>    \"batch_size\": 32<br>  }<br>}",
          "{<br>  \"number\": 16,<br>  \"values\": [<br>    0.8614156544876691,<br>    0.7642575536844531,<br>    0.5048756586691174<br>  ],<br>  \"params\": {<br>    \"units1\": 166,<br>    \"dropout1\": 0.48309999622173777,<br>    \"units_i\": 44,<br>    \"dropout_i\": 0.4008776032597685,<br>    \"lr\": 0.00022262584679738534,<br>    \"batch_size\": 32<br>  }<br>}",
          "{<br>  \"number\": 17,<br>  \"values\": [<br>    0.8626721525536475,<br>    0.742440208290146,<br>    0.5166471958211258<br>  ],<br>  \"params\": {<br>    \"units1\": 94,<br>    \"dropout1\": 0.3081654393960935,<br>    \"units_i\": 94,<br>    \"dropout_i\": 0.4599837657263933,<br>    \"lr\": 0.00015205673189982408,<br>    \"batch_size\": 128<br>  }<br>}",
          "{<br>  \"number\": 18,<br>  \"values\": [<br>    0.8625736036857277,<br>    0.7520459393758991,<br>    0.5141444923525615<br>  ],<br>  \"params\": {<br>    \"units1\": 113,<br>    \"dropout1\": 0.33467326150776733,<br>    \"units_i\": 64,<br>    \"dropout_i\": 0.45146966242109854,<br>    \"lr\": 0.0005506945684652027,<br>    \"batch_size\": 64<br>  }<br>}",
          "{<br>  \"number\": 19,<br>  \"values\": [<br>    0.8621547709970682,<br>    0.7475181226274974,<br>    0.5115298283584095<br>  ],<br>  \"params\": {<br>    \"units1\": 229,<br>    \"dropout1\": 0.37405598949645685,<br>    \"units_i\": 71,<br>    \"dropout_i\": 0.4264837970610226,<br>    \"lr\": 0.00012759819926187022,<br>    \"batch_size\": 128<br>  }<br>}",
          "{<br>  \"number\": 20,<br>  \"values\": [<br>    0.8621794082140481,<br>    0.7455919179978535,<br>    0.5119887688174092<br>  ],<br>  \"params\": {<br>    \"units1\": 190,<br>    \"dropout1\": 0.4612668719826898,<br>    \"units_i\": 121,<br>    \"dropout_i\": 0.2190261761978075,<br>    \"lr\": 0.0018655282289966235,<br>    \"batch_size\": 32<br>  }<br>}",
          "{<br>  \"number\": 21,<br>  \"values\": [<br>    0.8621794082140481,<br>    0.7532635712564801,<br>    0.5110254086814814<br>  ],<br>  \"params\": {<br>    \"units1\": 75,<br>    \"dropout1\": 0.39213008965549534,<br>    \"units_i\": 63,<br>    \"dropout_i\": 0.2773343241313159,<br>    \"lr\": 0.00023549246340175318,<br>    \"batch_size\": 128<br>  }<br>}",
          "{<br>  \"number\": 22,<br>  \"values\": [<br>    0.8620315849121684,<br>    0.749984170954675,<br>    0.5102725908251796<br>  ],<br>  \"params\": {<br>    \"units1\": 208,<br>    \"dropout1\": 0.4936304239982966,<br>    \"units_i\": 39,<br>    \"dropout_i\": 0.237223327528369,<br>    \"lr\": 0.0008486294815421953,<br>    \"batch_size\": 128<br>  }<br>}",
          "{<br>  \"number\": 23,<br>  \"values\": [<br>    0.8631648968932469,<br>    0.7280566896319899,<br>    0.5261965281303225<br>  ],<br>  \"params\": {<br>    \"units1\": 183,<br>    \"dropout1\": 0.30150828972653143,<br>    \"units_i\": 103,<br>    \"dropout_i\": 0.4662194928686211,<br>    \"lr\": 0.00025622337662954334,<br>    \"batch_size\": 128<br>  }<br>}",
          "{<br>  \"number\": 24,<br>  \"values\": [<br>    0.8608243612801498,<br>    0.7486548627747138,<br>    0.5011233409855047<br>  ],<br>  \"params\": {<br>    \"units1\": 188,<br>    \"dropout1\": 0.25973682190373315,<br>    \"units_i\": 47,<br>    \"dropout_i\": 0.4615209969878122,<br>    \"lr\": 0.007282456326567421,<br>    \"batch_size\": 64<br>  }<br>}",
          "{<br>  \"number\": 25,<br>  \"values\": [<br>    0.8619083988272684,<br>    0.7360235365852346,<br>    0.5110902828154867<br>  ],<br>  \"params\": {<br>    \"units1\": 155,<br>    \"dropout1\": 0.2741106660714904,<br>    \"units_i\": 113,<br>    \"dropout_i\": 0.43697835988660005,<br>    \"lr\": 0.0033736358805797847,<br>    \"batch_size\": 32<br>  }<br>}",
          "{<br>  \"number\": 26,<br>  \"values\": [<br>    0.8606765379782699,<br>    0.43033826898913496,<br>    0.5<br>  ],<br>  \"params\": {<br>    \"units1\": 224,<br>    \"dropout1\": 0.3638327354916796,<br>    \"units_i\": 106,<br>    \"dropout_i\": 0.4596354411885222,<br>    \"lr\": 0.004247784907298227,<br>    \"batch_size\": 128<br>  }<br>}",
          "{<br>  \"number\": 27,<br>  \"values\": [<br>    0.8606765379782699,<br>    0.43033826898913496,<br>    0.5<br>  ],<br>  \"params\": {<br>    \"units1\": 151,<br>    \"dropout1\": 0.4438133607563678,<br>    \"units_i\": 75,<br>    \"dropout_i\": 0.49630014534168765,<br>    \"lr\": 0.005305204648616968,<br>    \"batch_size\": 128<br>  }<br>}",
          "{<br>  \"number\": 28,<br>  \"values\": [<br>    0.8619083988272684,<br>    0.7566892759668911,<br>    0.5087189347885873<br>  ],<br>  \"params\": {<br>    \"units1\": 102,<br>    \"dropout1\": 0.24821819224738612,<br>    \"units_i\": 52,<br>    \"dropout_i\": 0.391968817301507,<br>    \"lr\": 0.0014483562879309174,<br>    \"batch_size\": 128<br>  }<br>}"
         ],
         "type": "scatter3d",
         "x": [
          0.8606765379782699,
          0.8627953386385474,
          0.8608243612801498,
          0.8625982409027076,
          0.8607258124122299,
          0.8621054965631082,
          0.8628692502894872,
          0.8615388405725689,
          0.8614156544876691,
          0.8626721525536475,
          0.8625736036857277,
          0.8621547709970682,
          0.8621794082140481,
          0.8621794082140481,
          0.8620315849121684,
          0.8631648968932469,
          0.8608243612801498,
          0.8619083988272684,
          0.8606765379782699,
          0.8606765379782699,
          0.8619083988272684
         ],
         "y": [
          0.43033826898913496,
          0.7323619821119429,
          0.7200179371266073,
          0.7287180651040871,
          0.7220705900715512,
          0.7513377983362319,
          0.7371287032315461,
          0.7469368931028382,
          0.7642575536844531,
          0.742440208290146,
          0.7520459393758991,
          0.7475181226274974,
          0.7455919179978535,
          0.7532635712564801,
          0.749984170954675,
          0.7280566896319899,
          0.7486548627747138,
          0.7360235365852346,
          0.43033826898913496,
          0.43033826898913496,
          0.7566892759668911
         ],
         "z": [
          0.5,
          0.520498095258777,
          0.5017161779922296,
          0.5197166519945632,
          0.5005473577887963,
          0.5106860520662508,
          0.5197258824863984,
          0.5067257332090722,
          0.5048756586691174,
          0.5166471958211258,
          0.5141444923525615,
          0.5115298283584095,
          0.5119887688174092,
          0.5110254086814814,
          0.5102725908251796,
          0.5261965281303225,
          0.5011233409855047,
          0.5110902828154867,
          0.5,
          0.5,
          0.5087189347885873
         ]
        },
        {
         "hovertemplate": "%{text}<extra>Best Trial</extra>",
         "marker": {
          "color": [
           1,
           4,
           10,
           11,
           12,
           13,
           14,
           15,
           29
          ],
          "colorbar": {
           "title": {
            "text": "Best Trial"
           },
           "x": 1.1,
           "xpad": 40
          },
          "colorscale": [
           [
            0,
            "rgb(255,245,240)"
           ],
           [
            0.125,
            "rgb(254,224,210)"
           ],
           [
            0.25,
            "rgb(252,187,161)"
           ],
           [
            0.375,
            "rgb(252,146,114)"
           ],
           [
            0.5,
            "rgb(251,106,74)"
           ],
           [
            0.625,
            "rgb(239,59,44)"
           ],
           [
            0.75,
            "rgb(203,24,29)"
           ],
           [
            0.875,
            "rgb(165,15,21)"
           ],
           [
            1,
            "rgb(103,0,13)"
           ]
          ],
          "line": {
           "color": "Grey",
           "width": 0.5
          }
         },
         "mode": "markers",
         "showlegend": false,
         "text": [
          "{<br>  \"number\": 1,<br>  \"values\": [<br>    0.8633866318460667,<br>    0.7360560907223695,<br>    0.5249914592007958<br>  ],<br>  \"params\": {<br>    \"units1\": 164,<br>    \"dropout1\": 0.20728777624609063,<br>    \"units_i\": 74,<br>    \"dropout_i\": 0.3936184502775568,<br>    \"lr\": 0.000889674078257198,<br>    \"batch_size\": 32<br>  }<br>}",
          "{<br>  \"number\": 4,<br>  \"values\": [<br>    0.8629431619404272,<br>    0.7068819466324646,<br>    0.545409021139117<br>  ],<br>  \"params\": {<br>    \"units1\": 201,<br>    \"dropout1\": 0.2846930877974463,<br>    \"units_i\": 115,<br>    \"dropout_i\": 0.22929167454062677,<br>    \"lr\": 0.008630730971426165,<br>    \"batch_size\": 128<br>  }<br>}",
          "{<br>  \"number\": 10,<br>  \"values\": [<br>    0.8632634457611669,<br>    0.7388423100896939,<br>    0.5228449661574787<br>  ],<br>  \"params\": {<br>    \"units1\": 223,<br>    \"dropout1\": 0.2777818691921731,<br>    \"units_i\": 100,<br>    \"dropout_i\": 0.23724623531095546,<br>    \"lr\": 0.00031433178856724763,<br>    \"batch_size\": 128<br>  }<br>}",
          "{<br>  \"number\": 11,<br>  \"values\": [<br>    0.8633373574121067,<br>    0.7347107250946678,<br>    0.5250369384187243<br>  ],<br>  \"params\": {<br>    \"units1\": 232,<br>    \"dropout1\": 0.4055128795990776,<br>    \"units_i\": 78,<br>    \"dropout_i\": 0.40731618354103477,<br>    \"lr\": 0.00016154593128617665,<br>    \"batch_size\": 32<br>  }<br>}",
          "{<br>  \"number\": 12,<br>  \"values\": [<br>    0.8628199758555274,<br>    0.7569225251259559,<br>    0.5152509795280498<br>  ],<br>  \"params\": {<br>    \"units1\": 167,<br>    \"dropout1\": 0.4257894782478894,<br>    \"units_i\": 98,<br>    \"dropout_i\": 0.27764688662593295,<br>    \"lr\": 0.00010999393913363023,<br>    \"batch_size\": 64<br>  }<br>}",
          "{<br>  \"number\": 13,<br>  \"values\": [<br>    0.8627707014215674,<br>    0.7433186696440269,<br>    0.5172972836436748<br>  ],<br>  \"params\": {<br>    \"units1\": 214,<br>    \"dropout1\": 0.4375724801860726,<br>    \"units_i\": 52,<br>    \"dropout_i\": 0.2916719372454951,<br>    \"lr\": 0.003755642576419195,<br>    \"batch_size\": 32<br>  }<br>}",
          "{<br>  \"number\": 14,<br>  \"values\": [<br>    0.8632141713272069,<br>    0.7288005601768536,<br>    0.5263733627899158<br>  ],<br>  \"params\": {<br>    \"units1\": 219,<br>    \"dropout1\": 0.35988604486033504,<br>    \"units_i\": 90,<br>    \"dropout_i\": 0.35980149497478087,<br>    \"lr\": 0.00014365701017487233,<br>    \"batch_size\": 32<br>  }<br>}",
          "{<br>  \"number\": 15,<br>  \"values\": [<br>    0.8623518687329079,<br>    0.7760067201750985,<br>    0.5101622374732456<br>  ],<br>  \"params\": {<br>    \"units1\": 86,<br>    \"dropout1\": 0.343719727890171,<br>    \"units_i\": 72,<br>    \"dropout_i\": 0.31609477137387,<br>    \"lr\": 0.0002279311582385667,<br>    \"batch_size\": 128<br>  }<br>}",
          "{<br>  \"number\": 29,<br>  \"values\": [<br>    0.8611200078839094,<br>    0.7784799606215194,<br>    0.502628976698108<br>  ],<br>  \"params\": {<br>    \"units1\": 130,<br>    \"dropout1\": 0.4344128077735063,<br>    \"units_i\": 38,<br>    \"dropout_i\": 0.361623081212049,<br>    \"lr\": 0.0009789351958430152,<br>    \"batch_size\": 32<br>  }<br>}"
         ],
         "type": "scatter3d",
         "x": [
          0.8633866318460667,
          0.8629431619404272,
          0.8632634457611669,
          0.8633373574121067,
          0.8628199758555274,
          0.8627707014215674,
          0.8632141713272069,
          0.8623518687329079,
          0.8611200078839094
         ],
         "y": [
          0.7360560907223695,
          0.7068819466324646,
          0.7388423100896939,
          0.7347107250946678,
          0.7569225251259559,
          0.7433186696440269,
          0.7288005601768536,
          0.7760067201750985,
          0.7784799606215194
         ],
         "z": [
          0.5249914592007958,
          0.545409021139117,
          0.5228449661574787,
          0.5250369384187243,
          0.5152509795280498,
          0.5172972836436748,
          0.5263733627899158,
          0.5101622374732456,
          0.502628976698108
         ]
        }
       ],
       "layout": {
        "scene": {
         "xaxis": {
          "title": {
           "text": "Accuracy"
          }
         },
         "yaxis": {
          "title": {
           "text": "Precision"
          }
         },
         "zaxis": {
          "title": {
           "text": "Recall"
          }
         }
        },
        "template": {
         "data": {
          "bar": [
           {
            "error_x": {
             "color": "#2a3f5f"
            },
            "error_y": {
             "color": "#2a3f5f"
            },
            "marker": {
             "line": {
              "color": "#E5ECF6",
              "width": 0.5
             },
             "pattern": {
              "fillmode": "overlay",
              "size": 10,
              "solidity": 0.2
             }
            },
            "type": "bar"
           }
          ],
          "barpolar": [
           {
            "marker": {
             "line": {
              "color": "#E5ECF6",
              "width": 0.5
             },
             "pattern": {
              "fillmode": "overlay",
              "size": 10,
              "solidity": 0.2
             }
            },
            "type": "barpolar"
           }
          ],
          "carpet": [
           {
            "aaxis": {
             "endlinecolor": "#2a3f5f",
             "gridcolor": "white",
             "linecolor": "white",
             "minorgridcolor": "white",
             "startlinecolor": "#2a3f5f"
            },
            "baxis": {
             "endlinecolor": "#2a3f5f",
             "gridcolor": "white",
             "linecolor": "white",
             "minorgridcolor": "white",
             "startlinecolor": "#2a3f5f"
            },
            "type": "carpet"
           }
          ],
          "choropleth": [
           {
            "colorbar": {
             "outlinewidth": 0,
             "ticks": ""
            },
            "type": "choropleth"
           }
          ],
          "contour": [
           {
            "colorbar": {
             "outlinewidth": 0,
             "ticks": ""
            },
            "colorscale": [
             [
              0,
              "#0d0887"
             ],
             [
              0.1111111111111111,
              "#46039f"
             ],
             [
              0.2222222222222222,
              "#7201a8"
             ],
             [
              0.3333333333333333,
              "#9c179e"
             ],
             [
              0.4444444444444444,
              "#bd3786"
             ],
             [
              0.5555555555555556,
              "#d8576b"
             ],
             [
              0.6666666666666666,
              "#ed7953"
             ],
             [
              0.7777777777777778,
              "#fb9f3a"
             ],
             [
              0.8888888888888888,
              "#fdca26"
             ],
             [
              1,
              "#f0f921"
             ]
            ],
            "type": "contour"
           }
          ],
          "contourcarpet": [
           {
            "colorbar": {
             "outlinewidth": 0,
             "ticks": ""
            },
            "type": "contourcarpet"
           }
          ],
          "heatmap": [
           {
            "colorbar": {
             "outlinewidth": 0,
             "ticks": ""
            },
            "colorscale": [
             [
              0,
              "#0d0887"
             ],
             [
              0.1111111111111111,
              "#46039f"
             ],
             [
              0.2222222222222222,
              "#7201a8"
             ],
             [
              0.3333333333333333,
              "#9c179e"
             ],
             [
              0.4444444444444444,
              "#bd3786"
             ],
             [
              0.5555555555555556,
              "#d8576b"
             ],
             [
              0.6666666666666666,
              "#ed7953"
             ],
             [
              0.7777777777777778,
              "#fb9f3a"
             ],
             [
              0.8888888888888888,
              "#fdca26"
             ],
             [
              1,
              "#f0f921"
             ]
            ],
            "type": "heatmap"
           }
          ],
          "histogram": [
           {
            "marker": {
             "pattern": {
              "fillmode": "overlay",
              "size": 10,
              "solidity": 0.2
             }
            },
            "type": "histogram"
           }
          ],
          "histogram2d": [
           {
            "colorbar": {
             "outlinewidth": 0,
             "ticks": ""
            },
            "colorscale": [
             [
              0,
              "#0d0887"
             ],
             [
              0.1111111111111111,
              "#46039f"
             ],
             [
              0.2222222222222222,
              "#7201a8"
             ],
             [
              0.3333333333333333,
              "#9c179e"
             ],
             [
              0.4444444444444444,
              "#bd3786"
             ],
             [
              0.5555555555555556,
              "#d8576b"
             ],
             [
              0.6666666666666666,
              "#ed7953"
             ],
             [
              0.7777777777777778,
              "#fb9f3a"
             ],
             [
              0.8888888888888888,
              "#fdca26"
             ],
             [
              1,
              "#f0f921"
             ]
            ],
            "type": "histogram2d"
           }
          ],
          "histogram2dcontour": [
           {
            "colorbar": {
             "outlinewidth": 0,
             "ticks": ""
            },
            "colorscale": [
             [
              0,
              "#0d0887"
             ],
             [
              0.1111111111111111,
              "#46039f"
             ],
             [
              0.2222222222222222,
              "#7201a8"
             ],
             [
              0.3333333333333333,
              "#9c179e"
             ],
             [
              0.4444444444444444,
              "#bd3786"
             ],
             [
              0.5555555555555556,
              "#d8576b"
             ],
             [
              0.6666666666666666,
              "#ed7953"
             ],
             [
              0.7777777777777778,
              "#fb9f3a"
             ],
             [
              0.8888888888888888,
              "#fdca26"
             ],
             [
              1,
              "#f0f921"
             ]
            ],
            "type": "histogram2dcontour"
           }
          ],
          "mesh3d": [
           {
            "colorbar": {
             "outlinewidth": 0,
             "ticks": ""
            },
            "type": "mesh3d"
           }
          ],
          "parcoords": [
           {
            "line": {
             "colorbar": {
              "outlinewidth": 0,
              "ticks": ""
             }
            },
            "type": "parcoords"
           }
          ],
          "pie": [
           {
            "automargin": true,
            "type": "pie"
           }
          ],
          "scatter": [
           {
            "fillpattern": {
             "fillmode": "overlay",
             "size": 10,
             "solidity": 0.2
            },
            "type": "scatter"
           }
          ],
          "scatter3d": [
           {
            "line": {
             "colorbar": {
              "outlinewidth": 0,
              "ticks": ""
             }
            },
            "marker": {
             "colorbar": {
              "outlinewidth": 0,
              "ticks": ""
             }
            },
            "type": "scatter3d"
           }
          ],
          "scattercarpet": [
           {
            "marker": {
             "colorbar": {
              "outlinewidth": 0,
              "ticks": ""
             }
            },
            "type": "scattercarpet"
           }
          ],
          "scattergeo": [
           {
            "marker": {
             "colorbar": {
              "outlinewidth": 0,
              "ticks": ""
             }
            },
            "type": "scattergeo"
           }
          ],
          "scattergl": [
           {
            "marker": {
             "colorbar": {
              "outlinewidth": 0,
              "ticks": ""
             }
            },
            "type": "scattergl"
           }
          ],
          "scattermap": [
           {
            "marker": {
             "colorbar": {
              "outlinewidth": 0,
              "ticks": ""
             }
            },
            "type": "scattermap"
           }
          ],
          "scattermapbox": [
           {
            "marker": {
             "colorbar": {
              "outlinewidth": 0,
              "ticks": ""
             }
            },
            "type": "scattermapbox"
           }
          ],
          "scatterpolar": [
           {
            "marker": {
             "colorbar": {
              "outlinewidth": 0,
              "ticks": ""
             }
            },
            "type": "scatterpolar"
           }
          ],
          "scatterpolargl": [
           {
            "marker": {
             "colorbar": {
              "outlinewidth": 0,
              "ticks": ""
             }
            },
            "type": "scatterpolargl"
           }
          ],
          "scatterternary": [
           {
            "marker": {
             "colorbar": {
              "outlinewidth": 0,
              "ticks": ""
             }
            },
            "type": "scatterternary"
           }
          ],
          "surface": [
           {
            "colorbar": {
             "outlinewidth": 0,
             "ticks": ""
            },
            "colorscale": [
             [
              0,
              "#0d0887"
             ],
             [
              0.1111111111111111,
              "#46039f"
             ],
             [
              0.2222222222222222,
              "#7201a8"
             ],
             [
              0.3333333333333333,
              "#9c179e"
             ],
             [
              0.4444444444444444,
              "#bd3786"
             ],
             [
              0.5555555555555556,
              "#d8576b"
             ],
             [
              0.6666666666666666,
              "#ed7953"
             ],
             [
              0.7777777777777778,
              "#fb9f3a"
             ],
             [
              0.8888888888888888,
              "#fdca26"
             ],
             [
              1,
              "#f0f921"
             ]
            ],
            "type": "surface"
           }
          ],
          "table": [
           {
            "cells": {
             "fill": {
              "color": "#EBF0F8"
             },
             "line": {
              "color": "white"
             }
            },
            "header": {
             "fill": {
              "color": "#C8D4E3"
             },
             "line": {
              "color": "white"
             }
            },
            "type": "table"
           }
          ]
         },
         "layout": {
          "annotationdefaults": {
           "arrowcolor": "#2a3f5f",
           "arrowhead": 0,
           "arrowwidth": 1
          },
          "autotypenumbers": "strict",
          "coloraxis": {
           "colorbar": {
            "outlinewidth": 0,
            "ticks": ""
           }
          },
          "colorscale": {
           "diverging": [
            [
             0,
             "#8e0152"
            ],
            [
             0.1,
             "#c51b7d"
            ],
            [
             0.2,
             "#de77ae"
            ],
            [
             0.3,
             "#f1b6da"
            ],
            [
             0.4,
             "#fde0ef"
            ],
            [
             0.5,
             "#f7f7f7"
            ],
            [
             0.6,
             "#e6f5d0"
            ],
            [
             0.7,
             "#b8e186"
            ],
            [
             0.8,
             "#7fbc41"
            ],
            [
             0.9,
             "#4d9221"
            ],
            [
             1,
             "#276419"
            ]
           ],
           "sequential": [
            [
             0,
             "#0d0887"
            ],
            [
             0.1111111111111111,
             "#46039f"
            ],
            [
             0.2222222222222222,
             "#7201a8"
            ],
            [
             0.3333333333333333,
             "#9c179e"
            ],
            [
             0.4444444444444444,
             "#bd3786"
            ],
            [
             0.5555555555555556,
             "#d8576b"
            ],
            [
             0.6666666666666666,
             "#ed7953"
            ],
            [
             0.7777777777777778,
             "#fb9f3a"
            ],
            [
             0.8888888888888888,
             "#fdca26"
            ],
            [
             1,
             "#f0f921"
            ]
           ],
           "sequentialminus": [
            [
             0,
             "#0d0887"
            ],
            [
             0.1111111111111111,
             "#46039f"
            ],
            [
             0.2222222222222222,
             "#7201a8"
            ],
            [
             0.3333333333333333,
             "#9c179e"
            ],
            [
             0.4444444444444444,
             "#bd3786"
            ],
            [
             0.5555555555555556,
             "#d8576b"
            ],
            [
             0.6666666666666666,
             "#ed7953"
            ],
            [
             0.7777777777777778,
             "#fb9f3a"
            ],
            [
             0.8888888888888888,
             "#fdca26"
            ],
            [
             1,
             "#f0f921"
            ]
           ]
          },
          "colorway": [
           "#636efa",
           "#EF553B",
           "#00cc96",
           "#ab63fa",
           "#FFA15A",
           "#19d3f3",
           "#FF6692",
           "#B6E880",
           "#FF97FF",
           "#FECB52"
          ],
          "font": {
           "color": "#2a3f5f"
          },
          "geo": {
           "bgcolor": "white",
           "lakecolor": "white",
           "landcolor": "#E5ECF6",
           "showlakes": true,
           "showland": true,
           "subunitcolor": "white"
          },
          "hoverlabel": {
           "align": "left"
          },
          "hovermode": "closest",
          "mapbox": {
           "style": "light"
          },
          "paper_bgcolor": "white",
          "plot_bgcolor": "#E5ECF6",
          "polar": {
           "angularaxis": {
            "gridcolor": "white",
            "linecolor": "white",
            "ticks": ""
           },
           "bgcolor": "#E5ECF6",
           "radialaxis": {
            "gridcolor": "white",
            "linecolor": "white",
            "ticks": ""
           }
          },
          "scene": {
           "xaxis": {
            "backgroundcolor": "#E5ECF6",
            "gridcolor": "white",
            "gridwidth": 2,
            "linecolor": "white",
            "showbackground": true,
            "ticks": "",
            "zerolinecolor": "white"
           },
           "yaxis": {
            "backgroundcolor": "#E5ECF6",
            "gridcolor": "white",
            "gridwidth": 2,
            "linecolor": "white",
            "showbackground": true,
            "ticks": "",
            "zerolinecolor": "white"
           },
           "zaxis": {
            "backgroundcolor": "#E5ECF6",
            "gridcolor": "white",
            "gridwidth": 2,
            "linecolor": "white",
            "showbackground": true,
            "ticks": "",
            "zerolinecolor": "white"
           }
          },
          "shapedefaults": {
           "line": {
            "color": "#2a3f5f"
           }
          },
          "ternary": {
           "aaxis": {
            "gridcolor": "white",
            "linecolor": "white",
            "ticks": ""
           },
           "baxis": {
            "gridcolor": "white",
            "linecolor": "white",
            "ticks": ""
           },
           "bgcolor": "#E5ECF6",
           "caxis": {
            "gridcolor": "white",
            "linecolor": "white",
            "ticks": ""
           }
          },
          "title": {
           "x": 0.05
          },
          "xaxis": {
           "automargin": true,
           "gridcolor": "white",
           "linecolor": "white",
           "ticks": "",
           "title": {
            "standoff": 15
           },
           "zerolinecolor": "white",
           "zerolinewidth": 2
          },
          "yaxis": {
           "automargin": true,
           "gridcolor": "white",
           "linecolor": "white",
           "ticks": "",
           "title": {
            "standoff": 15
           },
           "zerolinecolor": "white",
           "zerolinewidth": 2
          }
         }
        },
        "title": {
         "text": "Pareto-front Plot"
        }
       }
      }
     },
     "metadata": {},
     "output_type": "display_data"
    }
   ],
   "source": [
    "# Defining tuning optimization for NN\n",
    "\n",
    "X_train_final, X_val, y_train_final, y_val = train_test_split(\n",
    "    X_train, y_train, test_size=0.2, stratify=y_train, random_state=42\n",
    ")\n",
    "\n",
    "def create_model(input_dim, units1, dropout1, n_layers, units_i, dropout_i, lr):\n",
    "    model = Sequential()\n",
    "    model.add(Dense(units1, activation=\"relu\", input_shape=(input_dim,)))\n",
    "    model.add(Dropout(dropout1))\n",
    "    \n",
    "    for _ in range(n_layers):\n",
    "        model.add(Dense(units_i, activation=\"relu\"))\n",
    "        model.add(Dropout(dropout_i))\n",
    "    \n",
    "    model.add(Dense(1, activation=\"sigmoid\"))\n",
    "    model.compile(optimizer=Adam(learning_rate=lr),\n",
    "                  loss=\"binary_crossentropy\",\n",
    "                  metrics=[\"accuracy\"])\n",
    "    return model\n",
    "\n",
    "def objective_nn(trial):\n",
    "    units1 = trial.suggest_int(\"units1\", 64, 256)\n",
    "    dropout1 = trial.suggest_float(\"dropout1\", 0.2, 0.5)\n",
    "    n_layers = 2\n",
    "    units_i = trial.suggest_int(\"units_i\", 32, 128)\n",
    "    dropout_i = trial.suggest_float(\"dropout_i\", 0.2, 0.5)\n",
    "    lr = trial.suggest_float(\"lr\", 1e-4, 1e-2, log=True)\n",
    "    batch_size = trial.suggest_categorical(\"batch_size\", [32, 64, 128])\n",
    "\n",
    "    model = create_model(X_train_final.shape[1], units1, dropout1, n_layers, units_i, dropout_i, lr)\n",
    "\n",
    "    early_stop = EarlyStopping(monitor=\"val_loss\", patience=3, restore_best_weights=True)\n",
    "\n",
    "    model.fit(\n",
    "        X_train_final, y_train_final,\n",
    "        validation_data=(X_val, y_val),\n",
    "        epochs=20,\n",
    "        batch_size=batch_size,\n",
    "        callbacks=[early_stop],\n",
    "        verbose=0\n",
    "    )\n",
    "\n",
    "    # Predict on validation set\n",
    "    y_pred_probs = model.predict(X_val)\n",
    "    y_pred = (y_pred_probs > 0.5).astype(int)\n",
    "\n",
    "    val_accuracy = accuracy_score(y_val, y_pred)\n",
    "    val_precision = precision_score(y_val, y_pred, average='macro')\n",
    "    val_recall = recall_score(y_val, y_pred, average='macro')\n",
    "\n",
    "    return val_accuracy, val_precision, val_recall\n",
    "\n",
    "study_nn = optuna.create_study(directions=[\"maximize\", \"maximize\", \"maximize\"], study_name=\"NN\")\n",
    "study_nn.optimize(objective_nn, n_trials=30, timeout=1800)\n",
    "\n",
    "plot_pareto_front(study_nn, target_names=[\"Accuracy\", \"Precision\", \"Recall\"]).show()"
   ]
  },
  {
   "cell_type": "markdown",
   "metadata": {},
   "source": [
    "### Best NN Model"
   ]
  },
  {
   "cell_type": "code",
   "execution_count": null,
   "metadata": {},
   "outputs": [
    {
     "name": "stdout",
     "output_type": "stream",
     "text": [
      "Best NN Parameters: {'units1': 86, 'dropout1': 0.343719727890171, 'units_i': 72, 'dropout_i': 0.31609477137387, 'lr': 0.0002279311582385667, 'batch_size': 128}\n",
      "Accuracy: 0.8623518687329079\n",
      "Precision: 0.7760067201750985\n",
      "Recall: 0.5101622374732456\n"
     ]
    },
    {
     "name": "stderr",
     "output_type": "stream",
     "text": [
      "c:\\Users\\PC\\AppData\\Local\\Programs\\Python\\Python311\\Lib\\site-packages\\keras\\src\\layers\\core\\dense.py:87: UserWarning:\n",
      "\n",
      "Do not pass an `input_shape`/`input_dim` argument to a layer. When using Sequential models, prefer using an `Input(shape)` object as the first layer in the model instead.\n",
      "\n"
     ]
    },
    {
     "name": "stdout",
     "output_type": "stream",
     "text": [
      "\u001b[1m1586/1586\u001b[0m \u001b[32m━━━━━━━━━━━━━━━━━━━━\u001b[0m\u001b[37m\u001b[0m \u001b[1m1s\u001b[0m 736us/step\n",
      "Classification Report for Best NN Model:\n",
      "              precision    recall  f1-score   support\n",
      "\n",
      "         0.0       0.95      0.65      0.78     43667\n",
      "         1.0       0.28      0.81      0.41      7069\n",
      "\n",
      "    accuracy                           0.68     50736\n",
      "   macro avg       0.62      0.73      0.59     50736\n",
      "weighted avg       0.86      0.68      0.73     50736\n",
      "\n"
     ]
    }
   ],
   "source": [
    "# Retrieve the best trial based on the sum of multi-objective metrics\n",
    "best_trial_nn = max(study_nn.best_trials, key=lambda t: sum(t.values))\n",
    "\n",
    "print(\"Best NN Parameters:\", best_trial_nn.params)\n",
    "print(\"Accuracy:\", best_trial_nn.values[0])\n",
    "print(\"Precision:\", best_trial_nn.values[1])\n",
    "print(\"Recall:\", best_trial_nn.values[2])\n",
    "\n",
    "# Extract parameters\n",
    "params = best_trial_nn.params\n",
    "units1 = params[\"units1\"]\n",
    "dropout1 = params[\"dropout1\"]\n",
    "units_i = params[\"units_i\"]\n",
    "dropout_i = params[\"dropout_i\"]\n",
    "lr = params[\"lr\"]\n",
    "batch_size = params[\"batch_size\"]\n",
    "n_layers = 2  # fixed as per your tuning setup\n",
    "\n",
    "# Create the best model\n",
    "def create_model_for_best(input_dim, units1, dropout1, n_layers, units_i, dropout_i, learning_rate):\n",
    "    model = Sequential()\n",
    "    model.add(Dense(units1, activation=\"relu\", input_shape=(input_dim,)))\n",
    "    model.add(Dropout(dropout1))\n",
    "    for _ in range(n_layers):\n",
    "        model.add(Dense(units_i, activation=\"relu\"))\n",
    "        model.add(Dropout(dropout_i))\n",
    "    model.add(Dense(1, activation=\"sigmoid\"))\n",
    "    model.compile(\n",
    "        optimizer=Adam(learning_rate=learning_rate),\n",
    "        loss=\"binary_crossentropy\",\n",
    "        metrics=[\"accuracy\", \"Precision\", \"Recall\"]\n",
    "    )\n",
    "    return model\n",
    "\n",
    "# Instantiate and train the best model\n",
    "best_model = create_model_for_best(X_train.shape[1], units1, dropout1, n_layers, units_i, dropout_i, lr)\n",
    "\n",
    "early_stop = EarlyStopping(monitor=\"val_loss\", patience=3, restore_best_weights=True)\n",
    "\n",
    "classes = np.unique(y_train)\n",
    "weights = compute_class_weight(class_weight='balanced', classes=classes, y=y_train)\n",
    "class_weights = dict(zip(classes, weights))\n",
    "\n",
    "best_model.fit(\n",
    "    X_train, y_train,\n",
    "    validation_split=0.2,\n",
    "    epochs=20,\n",
    "    batch_size=batch_size,\n",
    "    class_weight=class_weights,\n",
    "    callbacks=[early_stop],\n",
    "    verbose=0\n",
    ")\n",
    "\n",
    "y_pred_nn = best_model.predict(X_test)\n",
    "y_pred_nn = (y_pred_nn > 0.5).astype(int)\n",
    "\n",
    "print(\"Classification Report for Best NN Model:\")\n",
    "print(classification_report(y_test, y_pred_nn))\n"
   ]
  },
  {
   "cell_type": "markdown",
   "metadata": {},
   "source": [
    "# Best Model Obtained"
   ]
  },
  {
   "cell_type": "code",
   "execution_count": null,
   "metadata": {},
   "outputs": [],
   "source": [
    "# Best model and the parameters tuned\n",
    "print(\"The best model obtained (SVC) and it's params:\", best_trial_svc.params)\n",
    "\n",
    "cm = confusion_matrix(y_test, y_pred_model)\n",
    "\n",
    "# Display the confusion matrix\n",
    "disp = ConfusionMatrixDisplay(confusion_matrix=cm)\n",
    "disp.plot(cmap=\"Blues\")\n",
    "plt.show()"
   ]
  }
 ],
 "metadata": {
  "kernelspec": {
   "display_name": "Python 3",
   "language": "python",
   "name": "python3"
  },
  "language_info": {
   "codemirror_mode": {
    "name": "ipython",
    "version": 3
   },
   "file_extension": ".py",
   "mimetype": "text/x-python",
   "name": "python",
   "nbconvert_exporter": "python",
   "pygments_lexer": "ipython3",
   "version": "3.11.5"
  }
 },
 "nbformat": 4,
 "nbformat_minor": 2
}
